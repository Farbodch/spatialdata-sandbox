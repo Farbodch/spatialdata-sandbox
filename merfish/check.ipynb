{
 "cells": [
  {
   "cell_type": "code",
   "execution_count": null,
   "metadata": {},
   "outputs": [],
   "source": [
    "expression = cells.copy()\n",
    "del expression.obsm[\"region_radius\"]\n",
    "del expression.obsm[\"spatial\"]\n",
    "expression.obs[\"cell_id\"] = np.arange(len(cells))\n",
    "expression.obs['region'] = 'cells'\n",
    "expression = TableModel.parse(\n",
    "    adata=expression,\n",
    "    region=\"cells\",\n",
    "    region_key='region',\n",
    "    instance_key=\"cell_id\",\n",
    ")"
   ]
  }
 ],
 "metadata": {
  "language_info": {
   "name": "python"
  }
 },
 "nbformat": 4,
 "nbformat_minor": 2
}
