{
 "cells": [
  {
   "cell_type": "code",
   "execution_count": 4,
   "metadata": {},
   "outputs": [],
   "source": [
    "import scanpy as sc\n",
    "from pathlib import Path\n",
    "path = Path().resolve()\n",
    "# luca's workaround for pycharm\n",
    "if not str(path).endswith(\"merfish\"):\n",
    "    path /= \"merfish\"\n",
    "    assert path.exists()\n",
    "##\n",
    "path_read = path / \"data\" / \"processed\"\n",
    "cells = sc.read_h5ad(path_read / \"cells.h5ad\")"
   ]
  },
  {
   "cell_type": "code",
   "execution_count": 11,
   "metadata": {},
   "outputs": [
    {
     "data": {
      "text/plain": [
       "array([[1161.11337076, 6178.3830543 ],\n",
       "       [1162.91337076, 6113.1330543 ],\n",
       "       [1168.31337076, 6046.0830543 ],\n",
       "       ...,\n",
       "       [3165.41337076, 5190.1830543 ],\n",
       "       [3189.71337076, 5292.7830543 ],\n",
       "       [3196.91337076, 5196.9330543 ]])"
      ]
     },
     "execution_count": 11,
     "metadata": {},
     "output_type": "execute_result"
    }
   ],
   "source": [
    "cells.obsm['spatial']"
   ]
  },
  {
   "cell_type": "code",
   "execution_count": null,
   "metadata": {},
   "outputs": [],
   "source": [
    "expression = cells.copy()\n",
    "del expression.obsm[\"region_radius\"]\n",
    "del expression.obsm[\"spatial\"]"
   ]
  },
  {
   "cell_type": "code",
   "execution_count": null,
   "metadata": {},
   "outputs": [],
   "source": [
    "expression = cells.copy()\n",
    "del expression.obsm[\"region_radius\"]\n",
    "del expression.obsm[\"spatial\"]\n",
    "expression.obs[\"cell_id\"] = np.arange(len(cells))\n",
    "expression.obs['region'] = 'cells'\n",
    "expression = TableModel.parse(\n",
    "    adata=expression,\n",
    "    region=\"cells\",\n",
    "    region_key='region',\n",
    "    instance_key=\"cell_id\",\n",
    ")"
   ]
  }
 ],
 "metadata": {
  "kernelspec": {
   "display_name": "ome",
   "language": "python",
   "name": "python3"
  },
  "language_info": {
   "codemirror_mode": {
    "name": "ipython",
    "version": 3
   },
   "file_extension": ".py",
   "mimetype": "text/x-python",
   "name": "python",
   "nbconvert_exporter": "python",
   "pygments_lexer": "ipython3",
   "version": "3.1.0"
  }
 },
 "nbformat": 4,
 "nbformat_minor": 2
}
