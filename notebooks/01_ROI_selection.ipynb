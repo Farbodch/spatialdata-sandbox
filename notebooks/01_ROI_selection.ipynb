{
 "cells": [
  {
   "cell_type": "code",
   "execution_count": 8,
   "id": "409c971d-4db4-4573-bed2-6c1e546a97ed",
   "metadata": {
    "tags": []
   },
   "outputs": [
    {
     "data": {
      "text/html": [
       "\n",
       "                <script type=\"application/javascript\" id=\"jupyter_black\">\n",
       "                (function() {\n",
       "                    if (window.IPython === undefined) {\n",
       "                        return\n",
       "                    }\n",
       "                    var msg = \"WARNING: it looks like you might have loaded \" +\n",
       "                        \"jupyter_black in a non-lab notebook with \" +\n",
       "                        \"`is_lab=True`. Please double check, and if \" +\n",
       "                        \"loading with `%load_ext` please review the README!\"\n",
       "                    console.log(msg)\n",
       "                    alert(msg)\n",
       "                })()\n",
       "                </script>\n",
       "                "
      ],
      "text/plain": [
       "<IPython.core.display.HTML object>"
      ]
     },
     "metadata": {},
     "output_type": "display_data"
    }
   ],
   "source": [
    "%load_ext jupyter_black"
   ]
  },
  {
   "cell_type": "code",
   "execution_count": 1,
   "id": "8236ade2-40b8-4a1f-8c01-26dc35c0134c",
   "metadata": {
    "tags": []
   },
   "outputs": [],
   "source": [
    "import warnings\n",
    "warnings.filterwarnings('ignore')"
   ]
  },
  {
   "cell_type": "code",
   "execution_count": 10,
   "id": "e23a7533-d1ab-4727-b853-89369c2eafed",
   "metadata": {
    "tags": []
   },
   "outputs": [],
   "source": [
    "import os\n",
    "from shapely.geometry import Polygon\n",
    "\n",
    "os.environ[\"USE_PYGEOS\"] = \"0\"\n",
    "import geopandas\n",
    "import shutil\n",
    "import numpy as np\n",
    "import napari\n",
    "import os\n",
    "import spatialdata as sd\n",
    "from spatialdata.transformations import (\n",
    "    Affine,\n",
    "    Sequence,\n",
    "    Identity,\n",
    "    align_elements_using_landmarks,\n",
    "    get_transformation,\n",
    "    set_transformation,\n",
    ")\n",
    "from napari_spatialdata import Interactive"
   ]
  },
  {
   "cell_type": "code",
   "execution_count": 9,
   "id": "fbbcbb72-831a-4bbb-a3b4-04285df7a296",
   "metadata": {
    "tags": []
   },
   "outputs": [
    {
     "name": "stdout",
     "output_type": "stream",
     "text": [
      "current working directory: /Users/macbook/embl/projects/basel/spatialdata-sandbox/notebooks\n"
     ]
    }
   ],
   "source": [
    "print(\"current working directory:\", os.getcwd())\n",
    "SPATIALDATA_SANDBOX_PATH = \"spatialdata-sandbox\"\n",
    "assert os.path.isdir(\n",
    "    SPATIALDATA_SANDBOX_PATH\n",
    "), f\"{SPATIALDATA_SANDBOX_PATH} not found, please use symlinks to make it available\"\n",
    "GENERATED_DATA_PATH = os.path.join(\n",
    "    SPATIALDATA_SANDBOX_PATH, \"generated_data/xenium_visium_integration\"\n",
    ")\n",
    "assert os.path.isdir(\n",
    "    GENERATED_DATA_PATH\n",
    "), f\"{GENERATED_DATA_PATH} not found, please use symlinks to make it available\"\n",
    "\n",
    "\n",
    "XE_REP1_PATH = os.path.join(SPATIALDATA_SANDBOX_PATH, \"xenium_rep1_io/data.zarr\")\n",
    "XE_REP2_PATH = os.path.join(SPATIALDATA_SANDBOX_PATH, \"xenium_rep2_io/data.zarr\")\n",
    "VISIUM_PATH = os.path.join(\n",
    "    SPATIALDATA_SANDBOX_PATH, \"visium_associated_xenium_io/data.zarr\"\n",
    ")\n",
    "\n",
    "XE_REP1_ROI_PATH = os.path.join(GENERATED_DATA_PATH, \"xe_rep1_roi.zarr\")\n",
    "XE_REP2_ROI_PATH = os.path.join(GENERATED_DATA_PATH, \"xe_rep2_roi.zarr\")\n",
    "VISIUM_ROI_PATH = os.path.join(GENERATED_DATA_PATH, \"visium_roi.zarr\")\n",
    "\n",
    "LANDMARKS_SDATA_PATH = os.path.join(GENERATED_DATA_PATH, \"sandbox.zarr\")"
   ]
  },
  {
   "cell_type": "code",
   "execution_count": 11,
   "id": "263fa0ce-073f-45c3-a106-e39abd398b80",
   "metadata": {
    "tags": []
   },
   "outputs": [
    {
     "name": "stdout",
     "output_type": "stream",
     "text": [
      "\u001b[34mINFO    \u001b[0m Instance key `cell_id` could be of type `pd.Categorical`. Consider casting it.                            \n",
      "\u001b[34mINFO    \u001b[0m Instance key `cell_id` could be of type `pd.Categorical`. Consider casting it.                            \n"
     ]
    }
   ],
   "source": [
    "xe_rep1_sdata = sd.read_zarr(XE_REP1_PATH)\n",
    "xe_rep2_sdata = sd.read_zarr(XE_REP2_PATH)\n",
    "visium_sdata = sd.read_zarr(VISIUM_PATH)\n",
    "\n",
    "xe_rep1_roi_sdata = sd.read_zarr(XE_REP1_ROI_PATH)\n",
    "xe_rep2_roi_sdata = sd.read_zarr(XE_REP2_ROI_PATH)\n",
    "visium_roi_sdata = sd.read_zarr(VISIUM_ROI_PATH)\n",
    "\n",
    "landmarks_sdata = sd.read_zarr(LANDMARKS_SDATA_PATH)"
   ]
  },
  {
   "cell_type": "code",
   "execution_count": 20,
   "id": "200ec07e-c4f2-4bec-86a7-9600212e4bbd",
   "metadata": {
    "tags": []
   },
   "outputs": [],
   "source": [
    "shapes_full = {\n",
    "    \"visium_spots\": visium_sdata.shapes[\"CytAssist_FFPE_Human_Breast_Cancer\"],\n",
    "    \"xe_rep1_cells\": xe_rep1_sdata.shapes[\"cell_circles\"],\n",
    "    \"xe_rep2_cells\": xe_rep2_sdata.shapes[\"cell_circles\"],\n",
    "}\n",
    "\n",
    "shapes_roi = {\n",
    "    \"visium_spots\": visium_roi_sdata.shapes[\"CytAssist_FFPE_Human_Breast_Cancer\"],\n",
    "    \"xe_rep1_cells\": xe_rep1_roi_sdata.shapes[\"cell_circles\"],\n",
    "    \"xe_rep2_cells\": xe_rep2_roi_sdata.shapes[\"cell_circles\"],\n",
    "}\n",
    "\n",
    "images = {\n",
    "    \"xe_rep1_im\": xe_rep1_sdata.images[\"morphology_mip\"],\n",
    "    \"xe_rep2_im\": xe_rep2_sdata.images[\"morphology_mip\"],\n",
    "    \"visium_im\": visium_sdata.images[\"CytAssist_FFPE_Human_Breast_Cancer_full_image\"],\n",
    "}\n",
    "\n",
    "sdata_napari = sd.SpatialData(\n",
    "    images=images,\n",
    "    shapes=shapes_full | {\"box\": landmarks_sdata.shapes[\"box\"]},\n",
    ")\n",
    "\n",
    "sdata_roi_napari = sd.SpatialData(\n",
    "    images=images,\n",
    "    shapes=shapes_roi | {\"box\": landmarks_sdata.shapes[\"box\"]},\n",
    ")"
   ]
  },
  {
   "cell_type": "code",
   "execution_count": 21,
   "id": "dd401bbf-81fa-48ec-acb9-3c6ff12c6235",
   "metadata": {
    "tags": []
   },
   "outputs": [
    {
     "data": {
      "text/plain": [
       "SpatialData object with:\n",
       "├── Images\n",
       "│     ├── 'visium_im': MultiscaleSpatialImage[cyx] (3, 21571, 19505), (3, 10785, 9752), (3, 5392, 4876), (3, 2696, 2438), (3, 1348, 1219)\n",
       "│     ├── 'xe_rep1_im': MultiscaleSpatialImage[cyx] (1, 25778, 35416), (1, 12889, 17708), (1, 6444, 8854), (1, 3222, 4427), (1, 1611, 2213)\n",
       "│     └── 'xe_rep2_im': MultiscaleSpatialImage[cyx] (1, 25779, 35411), (1, 12889, 17705), (1, 6444, 8852), (1, 3222, 4426), (1, 1611, 2213)\n",
       "└── Shapes\n",
       "      ├── 'box': GeoDataFrame shape: (1, 1) (2D shapes)\n",
       "      ├── 'visium_spots': GeoDataFrame shape: (4992, 2) (2D shapes)\n",
       "      ├── 'xe_rep1_cells': GeoDataFrame shape: (167780, 2) (2D shapes)\n",
       "      └── 'xe_rep2_cells': GeoDataFrame shape: (118752, 2) (2D shapes)\n",
       "with coordinate systems:\n",
       "▸ 'downscaled_hires', with elements:\n",
       "        visium_spots (Shapes)\n",
       "▸ 'downscaled_lowres', with elements:\n",
       "        visium_spots (Shapes)\n",
       "▸ 'global', with elements:\n",
       "        visium_im (Images), xe_rep1_im (Images), xe_rep2_im (Images), box (Shapes), visium_spots (Shapes), xe_rep1_cells (Shapes), xe_rep2_cells (Shapes)"
      ]
     },
     "execution_count": 21,
     "metadata": {},
     "output_type": "execute_result"
    }
   ],
   "source": [
    "sdata_napari"
   ]
  },
  {
   "cell_type": "code",
   "execution_count": 22,
   "id": "c2326afb-d414-46a9-971f-6cafc927e3cf",
   "metadata": {
    "tags": []
   },
   "outputs": [
    {
     "data": {
      "text/plain": [
       "SpatialData object with:\n",
       "├── Images\n",
       "│     ├── 'visium_im': MultiscaleSpatialImage[cyx] (3, 21571, 19505), (3, 10785, 9752), (3, 5392, 4876), (3, 2696, 2438), (3, 1348, 1219)\n",
       "│     ├── 'xe_rep1_im': MultiscaleSpatialImage[cyx] (1, 25778, 35416), (1, 12889, 17708), (1, 6444, 8854), (1, 3222, 4427), (1, 1611, 2213)\n",
       "│     └── 'xe_rep2_im': MultiscaleSpatialImage[cyx] (1, 25779, 35411), (1, 12889, 17705), (1, 6444, 8852), (1, 3222, 4426), (1, 1611, 2213)\n",
       "└── Shapes\n",
       "      ├── 'box': GeoDataFrame shape: (1, 1) (2D shapes)\n",
       "      ├── 'visium_spots': GeoDataFrame shape: (2756, 2) (2D shapes)\n",
       "      ├── 'xe_rep1_cells': GeoDataFrame shape: (99221, 2) (2D shapes)\n",
       "      └── 'xe_rep2_cells': GeoDataFrame shape: (98365, 2) (2D shapes)\n",
       "with coordinate systems:\n",
       "▸ 'aligned', with elements:\n",
       "        visium_spots (Shapes), xe_rep1_cells (Shapes), xe_rep2_cells (Shapes)\n",
       "▸ 'global', with elements:\n",
       "        visium_im (Images), xe_rep1_im (Images), xe_rep2_im (Images), box (Shapes)"
      ]
     },
     "execution_count": 22,
     "metadata": {},
     "output_type": "execute_result"
    }
   ],
   "source": [
    "sdata_roi_napari"
   ]
  },
  {
   "cell_type": "code",
   "execution_count": 25,
   "id": "9972d660-eeb7-48e9-bda2-ec585a8c9ebf",
   "metadata": {
    "tags": []
   },
   "outputs": [
    {
     "name": "stderr",
     "output_type": "stream",
     "text": [
      "2023-03-24 00:18:25.024 | WARNING  | napari_spatialdata.interactive:_add_circles:255 - Too many shapes 167780 > 10000, using points instead of ellipses. Size will stop being correct beyond a certain zoom level\n",
      "2023-03-24 00:18:25.137 | WARNING  | napari_spatialdata.interactive:_add_circles:255 - Too many shapes 118752 > 10000, using points instead of ellipses. Size will stop being correct beyond a certain zoom level\n"
     ]
    },
    {
     "data": {
      "text/plain": [
       "<napari_spatialdata.interactive.Interactive at 0x1a0990e50>"
      ]
     },
     "execution_count": 25,
     "metadata": {},
     "output_type": "execute_result"
    }
   ],
   "source": [
    "Interactive(sdata_napari)"
   ]
  },
  {
   "cell_type": "code",
   "execution_count": 26,
   "id": "8204f67a-3bd9-4ec4-a39e-6db86d474e08",
   "metadata": {
    "tags": []
   },
   "outputs": [
    {
     "name": "stderr",
     "output_type": "stream",
     "text": [
      "2023-03-24 00:18:47.250 | WARNING  | napari_spatialdata.interactive:_add_circles:255 - Too many shapes 99221 > 10000, using points instead of ellipses. Size will stop being correct beyond a certain zoom level\n",
      "2023-03-24 00:18:47.340 | WARNING  | napari_spatialdata.interactive:_add_circles:255 - Too many shapes 98365 > 10000, using points instead of ellipses. Size will stop being correct beyond a certain zoom level\n"
     ]
    },
    {
     "data": {
      "text/plain": [
       "<napari_spatialdata.interactive.Interactive at 0x1a517c070>"
      ]
     },
     "execution_count": 26,
     "metadata": {},
     "output_type": "execute_result"
    }
   ],
   "source": [
    "Interactive(sdata_roi_napari)"
   ]
  }
 ],
 "metadata": {
  "kernelspec": {
   "display_name": "Python 3 (ipykernel)",
   "language": "python",
   "name": "python3"
  },
  "language_info": {
   "codemirror_mode": {
    "name": "ipython",
    "version": 3
   },
   "file_extension": ".py",
   "mimetype": "text/x-python",
   "name": "python",
   "nbconvert_exporter": "python",
   "pygments_lexer": "ipython3",
   "version": "3.10.9"
  }
 },
 "nbformat": 4,
 "nbformat_minor": 5
}
