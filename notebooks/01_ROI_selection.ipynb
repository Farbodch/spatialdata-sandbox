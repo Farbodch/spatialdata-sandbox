{
 "cells": [
  {
   "cell_type": "code",
   "execution_count": 1,
   "id": "409c971d-4db4-4573-bed2-6c1e546a97ed",
   "metadata": {
    "tags": []
   },
   "outputs": [
    {
     "data": {
      "text/html": [
       "\n",
       "                <script type=\"application/javascript\" id=\"jupyter_black\">\n",
       "                (function() {\n",
       "                    if (window.IPython === undefined) {\n",
       "                        return\n",
       "                    }\n",
       "                    var msg = \"WARNING: it looks like you might have loaded \" +\n",
       "                        \"jupyter_black in a non-lab notebook with \" +\n",
       "                        \"`is_lab=True`. Please double check, and if \" +\n",
       "                        \"loading with `%load_ext` please review the README!\"\n",
       "                    console.log(msg)\n",
       "                    alert(msg)\n",
       "                })()\n",
       "                </script>\n",
       "                "
      ],
      "text/plain": [
       "<IPython.core.display.HTML object>"
      ]
     },
     "metadata": {},
     "output_type": "display_data"
    }
   ],
   "source": [
    "%load_ext jupyter_black"
   ]
  },
  {
   "cell_type": "code",
   "execution_count": 2,
   "id": "e23a7533-d1ab-4727-b853-89369c2eafed",
   "metadata": {
    "tags": []
   },
   "outputs": [],
   "source": [
    "import os\n",
    "from shapely.geometry import Polygon\n",
    "\n",
    "os.environ[\"USE_PYGEOS\"] = \"0\"\n",
    "import geopandas\n",
    "import shutil\n",
    "import numpy as np\n",
    "import napari\n",
    "import os\n",
    "import spatialdata as sd\n",
    "from spatialdata.transformations import (\n",
    "    Affine,\n",
    "    Sequence,\n",
    "    Identity,\n",
    "    align_elements_using_landmarks,\n",
    "    get_transformation,\n",
    "    set_transformation,\n",
    ")\n",
    "from napari_spatialdata import Interactive"
   ]
  },
  {
   "cell_type": "code",
   "execution_count": 3,
   "id": "fbbcbb72-831a-4bbb-a3b4-04285df7a296",
   "metadata": {
    "tags": []
   },
   "outputs": [
    {
     "name": "stdout",
     "output_type": "stream",
     "text": [
      "current working directory: /Users/macbook/embl/projects/basel/spatialdata-sandbox/notebooks\n"
     ]
    }
   ],
   "source": [
    "print(\"current working directory:\", os.getcwd())\n",
    "SPATIALDATA_SANDBOX_PATH = \"spatialdata-sandbox\"\n",
    "assert os.path.isdir(\n",
    "    SPATIALDATA_SANDBOX_PATH\n",
    "), f\"{SPATIALDATA_SANDBOX_PATH} not found, please use symlinks to make it available\"\n",
    "GENERATED_DATA_PATH = os.path.join(\n",
    "    SPATIALDATA_SANDBOX_PATH, \"generated_data/xenium_visium_integration\"\n",
    ")\n",
    "assert os.path.isdir(\n",
    "    GENERATED_DATA_PATH\n",
    "), f\"{GENERATED_DATA_PATH} not found, please use symlinks to make it available\"\n",
    "\n",
    "\n",
    "XE_REP1_PATH = os.path.join(SPATIALDATA_SANDBOX_PATH, \"xenium_rep1_io/data.zarr\")\n",
    "XE_REP2_PATH = os.path.join(SPATIALDATA_SANDBOX_PATH, \"xenium_rep2_io/data.zarr\")\n",
    "VISIUM_PATH = os.path.join(\n",
    "    SPATIALDATA_SANDBOX_PATH, \"visium_associated_xenium_io/data.zarr\"\n",
    ")\n",
    "\n",
    "XE_REP1_ROI_PATH = os.path.join(GENERATED_DATA_PATH, \"xe_rep1_roi.zarr\")\n",
    "XE_REP2_ROI_PATH = os.path.join(GENERATED_DATA_PATH, \"xe_rep2_roi.zarr\")\n",
    "VISIUM_ROI_PATH = os.path.join(GENERATED_DATA_PATH, \"visium_roi.zarr\")\n",
    "\n",
    "LANDMARKS_SDATA_PATH = os.path.join(GENERATED_DATA_PATH, \"sandbox.zarr\")"
   ]
  },
  {
   "cell_type": "code",
   "execution_count": 4,
   "id": "99b4ce03-3f34-4041-87e4-712388c26461",
   "metadata": {
    "tags": []
   },
   "outputs": [
    {
     "name": "stdout",
     "output_type": "stream",
     "text": [
      "\u001b[34mINFO    \u001b[0m Instance key `cell_id` could be of type `pd.Categorical`. Consider casting it.                            \n",
      "\u001b[34mINFO    \u001b[0m Instance key `cell_id` could be of type `pd.Categorical`. Consider casting it.                            \n"
     ]
    }
   ],
   "source": [
    "# we delete some elements (in-memory only) because we will not need them in napari\n",
    "xe_rep1_sdata = sd.read_zarr(XE_REP1_PATH)\n",
    "del xe_rep1_sdata.images[\"morphology_focus\"]\n",
    "del xe_rep1_sdata.shapes[\"cell_boundaries\"]\n",
    "del xe_rep1_sdata.shapes[\"nucleus_boundaries\"]\n",
    "xe_rep2_sdata = sd.read_zarr(XE_REP2_PATH)\n",
    "del xe_rep2_sdata.images[\"morphology_focus\"]\n",
    "del xe_rep2_sdata.shapes[\"cell_boundaries\"]\n",
    "del xe_rep2_sdata.shapes[\"nucleus_boundaries\"]\n",
    "visium_sdata = sd.read_zarr(VISIUM_PATH)\n",
    "\n",
    "xe_rep1_roi_sdata = sd.read_zarr(XE_REP1_ROI_PATH)\n",
    "del xe_rep1_roi_sdata.shapes[\"cell_boundaries\"]\n",
    "del xe_rep1_roi_sdata.shapes[\"nucleus_boundaries\"]\n",
    "xe_rep2_roi_sdata = sd.read_zarr(XE_REP2_ROI_PATH)\n",
    "del xe_rep2_roi_sdata.shapes[\"cell_boundaries\"]\n",
    "del xe_rep2_roi_sdata.shapes[\"nucleus_boundaries\"]\n",
    "visium_roi_sdata = sd.read_zarr(VISIUM_ROI_PATH)\n",
    "\n",
    "landmarks_sdata = sd.read_zarr(LANDMARKS_SDATA_PATH)"
   ]
  },
  {
   "cell_type": "code",
   "execution_count": 5,
   "id": "bebf4f93-7147-4492-9067-f04a09144f0d",
   "metadata": {
    "tags": []
   },
   "outputs": [
    {
     "data": {
      "text/html": [
       "<div>\n",
       "<style scoped>\n",
       "    .dataframe tbody tr th:only-of-type {\n",
       "        vertical-align: middle;\n",
       "    }\n",
       "\n",
       "    .dataframe tbody tr th {\n",
       "        vertical-align: top;\n",
       "    }\n",
       "\n",
       "    .dataframe thead th {\n",
       "        text-align: right;\n",
       "    }\n",
       "</style>\n",
       "<table border=\"1\" class=\"dataframe\">\n",
       "  <thead>\n",
       "    <tr style=\"text-align: right;\">\n",
       "      <th></th>\n",
       "      <th>geometry</th>\n",
       "      <th>name</th>\n",
       "    </tr>\n",
       "  </thead>\n",
       "  <tbody>\n",
       "    <tr>\n",
       "      <th>0</th>\n",
       "      <td>POLYGON ((1928.166 9124.230, 1928.166 9151.215...</td>\n",
       "      <td>Invasive</td>\n",
       "    </tr>\n",
       "    <tr>\n",
       "      <th>1</th>\n",
       "      <td>POLYGON ((8109.926 14163.968, 8109.926 14173.7...</td>\n",
       "      <td>Immune infiltration</td>\n",
       "    </tr>\n",
       "    <tr>\n",
       "      <th>2</th>\n",
       "      <td>POLYGON ((32042.805 22387.401, 32026.302 22436...</td>\n",
       "      <td>DCIS</td>\n",
       "    </tr>\n",
       "    <tr>\n",
       "      <th>3</th>\n",
       "      <td>POLYGON ((27504.676 20232.314, 27514.049 20237...</td>\n",
       "      <td>Necrotic core</td>\n",
       "    </tr>\n",
       "  </tbody>\n",
       "</table>\n",
       "</div>"
      ],
      "text/plain": [
       "                                            geometry                 name\n",
       "0  POLYGON ((1928.166 9124.230, 1928.166 9151.215...             Invasive\n",
       "1  POLYGON ((8109.926 14163.968, 8109.926 14173.7...  Immune infiltration\n",
       "2  POLYGON ((32042.805 22387.401, 32026.302 22436...                 DCIS\n",
       "3  POLYGON ((27504.676 20232.314, 27514.049 20237...        Necrotic core"
      ]
     },
     "execution_count": 5,
     "metadata": {},
     "output_type": "execute_result"
    }
   ],
   "source": [
    "landmarks_sdata[\"rois\"][\"name\"] = [\n",
    "    \"Invasive\",\n",
    "    \"Immune infiltration\",\n",
    "    \"DCIS\",\n",
    "    \"Necrotic core\",\n",
    "]\n",
    "# the new extra column gets not saved to Zarr, we need to discuss this behavior (and the relationships with multiple tables) in the next hackathon\n",
    "landmarks_sdata[\"rois\"]"
   ]
  },
  {
   "cell_type": "code",
   "execution_count": 6,
   "id": "9e26fb20-ad03-4f8d-831d-9963cd0c0e05",
   "metadata": {
    "tags": []
   },
   "outputs": [],
   "source": [
    "# remove the cells, for xenium rep 2, inside the box (so already present in xenium rep 1)\n",
    "xe_rep2_sdata.shapes[\"cell_circles\"] = xe_rep2_sdata[\"cell_circles\"][\n",
    "    ~xe_rep2_sdata[\"cell_circles\"].index.isin(xe_rep2_roi_sdata[\"cell_circles\"].index)\n",
    "]"
   ]
  },
  {
   "cell_type": "code",
   "execution_count": 9,
   "id": "f92427b1-9e9b-4284-9970-fe5fe6731623",
   "metadata": {
    "tags": []
   },
   "outputs": [],
   "source": [
    "from anndata import AnnData\n",
    "\n",
    "\n",
    "def set_colors_for_categorical_obs(\n",
    "    adata: AnnData, column: str, colors_dict: dict[str, str]\n",
    "):\n",
    "    colors = []\n",
    "    for cat in adata.obs[column].cat.categories.tolist():\n",
    "        color = colors_dict[cat]\n",
    "        colors.append(color)\n",
    "    adata.uns[f\"{column}_colors\"] = colors\n",
    "\n",
    "\n",
    "celltype_major_colors = {\n",
    "    \"B-cells\": \"#d8f55e\",\n",
    "    \"CAFs\": \"#532C8A\",\n",
    "    \"Cancer Epithelial\": \"#C72228\",\n",
    "    \"Endothelial\": \"#9e6762\",\n",
    "    \"Myeloid\": \"#ffe012\",\n",
    "    \"T-cells\": \"#3cb44b\",\n",
    "    \"Normal Epithelial\": \"#0F4A9C\",\n",
    "    \"PVL\": \"#c09d9a\",\n",
    "    \"Plasmablasts\": \"#000075\",\n",
    "}\n",
    "set_colors_for_categorical_obs(\n",
    "    adata=xe_rep1_sdata.table,\n",
    "    column=\"celltype_major\",\n",
    "    colors_dict=celltype_major_colors,\n",
    ")\n",
    "set_colors_for_categorical_obs(\n",
    "    adata=xe_rep2_sdata.table,\n",
    "    column=\"celltype_major\",\n",
    "    colors_dict=celltype_major_colors,\n",
    ")"
   ]
  },
  {
   "cell_type": "code",
   "execution_count": 105,
   "id": "f385bd52-989c-4c25-afc4-3a793b04f0a4",
   "metadata": {
    "tags": []
   },
   "outputs": [],
   "source": [
    "xe_rep1_roi_sdata.table.obs[\"celltype_major\"] = xe_rep1_roi_sdata.table.obs[\n",
    "    \"celltype_major\"\n",
    "].astype(\"category\")\n",
    "xe_rep1_roi_sdata.table.obs[\"celltype_minor\"] = xe_rep1_roi_sdata.table.obs[\n",
    "    \"celltype_minor\"\n",
    "].astype(\"category\")\n",
    "xe_rep2_roi_sdata.table.obs[\"celltype_major\"] = xe_rep2_roi_sdata.table.obs[\n",
    "    \"celltype_major\"\n",
    "].astype(\"category\")\n",
    "xe_rep2_roi_sdata.table.obs[\"celltype_minor\"] = xe_rep2_roi_sdata.table.obs[\n",
    "    \"celltype_minor\"\n",
    "].astype(\"category\")\n",
    "\n",
    "set_colors_for_categorical_obs(\n",
    "    adata=xe_rep1_roi_sdata.table,\n",
    "    column=\"celltype_major\",\n",
    "    colors_dict=celltype_major_colors,\n",
    ")\n",
    "set_colors_for_categorical_obs(\n",
    "    adata=xe_rep2_roi_sdata.table,\n",
    "    column=\"celltype_major\",\n",
    "    colors_dict=celltype_major_colors,\n",
    ")"
   ]
  },
  {
   "cell_type": "code",
   "execution_count": null,
   "id": "cf1be577-9ead-4fb7-9e0d-85e68756d673",
   "metadata": {
    "tags": []
   },
   "outputs": [],
   "source": [
    "Interactive([xe_rep1_sdata, xe_rep2_sdata, visium_sdata, landmarks_sdata], points=False)"
   ]
  },
  {
   "cell_type": "code",
   "execution_count": 46,
   "id": "99df355c-6763-4619-98b5-cf88ecb16ddc",
   "metadata": {
    "tags": []
   },
   "outputs": [],
   "source": [
    "from spatialdata import SpatialData\n",
    "from shapely import Polygon\n",
    "from spatialdata.models import ShapesModel\n",
    "\n",
    "\n",
    "# same function of notebooks 00, move to a .py file, later on include a reworked version in spatialdata\n",
    "def spatial_query_shapes_and_points_by_polygon(\n",
    "    sdata: SpatialData, polygon: Polygon, target_coordinate_system: str\n",
    "):\n",
    "    new_shapes = {}\n",
    "    for shapes_name, shapes in sdata.shapes.items():\n",
    "        if \"__old_index\" in shapes.columns:\n",
    "            assert np.all(shapes[\"__old_index\"] == shapes.index)\n",
    "        else:\n",
    "            shapes[\"__old_index\"] = shapes.index\n",
    "        # indices = shapes.intersects(polygon)\n",
    "        # indices = shapes.geometry.apply(lambda x: x.intersects(polygon).values.tolist()[0][0])\n",
    "        indices = shapes.geometry.apply(lambda x: x.intersects(polygon))\n",
    "        if np.sum(indices) == 0:\n",
    "            raise ValueError(\"we expect at least one shape\")\n",
    "        queried_shapes = shapes[indices]\n",
    "        queried_shapes.index = queried_shapes[\"__old_index\"]\n",
    "        del shapes[\"__old_index\"]\n",
    "        del queried_shapes[\"__old_index\"]\n",
    "        transformation = get_transformation(shapes, target_coordinate_system)\n",
    "        queried_shapes = ShapesModel.parse(queried_shapes)\n",
    "        set_transformation(queried_shapes, transformation, target_coordinate_system)\n",
    "        new_shapes[shapes_name] = queried_shapes\n",
    "\n",
    "    new_points = {}\n",
    "    for points_name, points in sdata.points.items():\n",
    "        # let's ignore the z component here\n",
    "        points_gdf = points_dask_dataframe_to_geopandas(points)\n",
    "        # queried_points = points_gdf.intersects(pp)\n",
    "        indices = points_gdf.geometry.intersects(polygon)\n",
    "        if np.sum(indices) == 0:\n",
    "            raise ValueError(\"we expect at least one point\")\n",
    "        queried_points = points_gdf[indices]\n",
    "        ddf = points_geopandas_to_dask_dataframe(queried_points)\n",
    "        new_points[points_name] = ddf\n",
    "\n",
    "    return SpatialData(shapes=new_shapes, points=new_points, table=sdata.table)"
   ]
  },
  {
   "cell_type": "code",
   "execution_count": 109,
   "id": "ca8ddf97-6ee7-4fc2-b5e4-6f7d7c794f46",
   "metadata": {
    "tags": []
   },
   "outputs": [
    {
     "name": "stderr",
     "output_type": "stream",
     "text": [
      "/tmp/ipykernel_71191/1975229073.py:25: UserWarning: Converting `region_key: region` to categorical dtype.\n",
      "  TableModel.parse(\n",
      "/tmp/ipykernel_71191/1975229073.py:25: UserWarning: Converting `region_key: region` to categorical dtype.\n",
      "  TableModel.parse(\n",
      "/tmp/ipykernel_71191/1975229073.py:25: UserWarning: Converting `region_key: region` to categorical dtype.\n",
      "  TableModel.parse(\n",
      "/tmp/ipykernel_71191/1975229073.py:25: UserWarning: Converting `region_key: region` to categorical dtype.\n",
      "  TableModel.parse(\n"
     ]
    }
   ],
   "source": [
    "import pandas as pd\n",
    "from spatialdata.models import TableModel\n",
    "\n",
    "rois = landmarks_sdata[\"rois\"]\n",
    "sdatas = []\n",
    "\n",
    "for roi in rois.iterrows():\n",
    "    geometry, name = roi[1]\n",
    "    sdata = spatial_query_shapes_and_points_by_polygon(\n",
    "        SpatialData(shapes={\"cell_circles\": xe_rep1_roi_sdata[\"cell_circles\"]}),\n",
    "        geometry,\n",
    "        \"aligned\",\n",
    "    )\n",
    "    region_name = f\"Cells in ROI {name!r}\"\n",
    "    merged = pd.merge(\n",
    "        xe_rep1_roi_sdata.table.obs[[\"cell_id\"]],\n",
    "        sdata.shapes[\"cell_circles\"],\n",
    "        how=\"right\",\n",
    "        left_on=\"cell_id\",\n",
    "        right_index=True,\n",
    "    )\n",
    "    filtered_table = xe_rep1_roi_sdata.table[merged.index].copy()\n",
    "    filtered_table.obs[\"region\"] = region_name\n",
    "    del filtered_table.uns[\"spatialdata_attrs\"]\n",
    "    TableModel.parse(\n",
    "        filtered_table, region=region_name, region_key=\"region\", instance_key=\"cell_id\"\n",
    "    )\n",
    "\n",
    "    sdata = SpatialData(\n",
    "        shapes={region_name: sdata[\"cell_circles\"]}, table=filtered_table\n",
    "    )\n",
    "    sdatas.append(sdata)\n",
    "\n",
    "cells_in_rois_sdata = sd.concatenate(sdatas)\n",
    "\n",
    "cells_in_rois_sdata.table.obs[\"celltype_major\"] = cells_in_rois_sdata.table.obs[\n",
    "    \"celltype_major\"\n",
    "].astype(\"category\")\n",
    "set_colors_for_categorical_obs(\n",
    "    adata=cells_in_rois_sdata.table,\n",
    "    column=\"celltype_major\",\n",
    "    colors_dict=celltype_major_colors,\n",
    ")"
   ]
  },
  {
   "cell_type": "raw",
   "id": "b521fe8e-3dff-4607-a164-7f82045012e9",
   "metadata": {
    "tags": []
   },
   "source": [
    "Interactive(\n",
    "    [\n",
    "       xe_rep1_roi_sdata,\n",
    "       xe_rep2_roi_sdata,\n",
    "       visium_roi_sdata,\n",
    "       landmarks_sdata,\n",
    "    ],\n",
    "    points=False,\n",
    ")"
   ]
  },
  {
   "cell_type": "code",
   "execution_count": 115,
   "id": "0d298ce7-5442-4cce-ba2e-393822acde0f",
   "metadata": {
    "tags": []
   },
   "outputs": [
    {
     "data": {
      "text/plain": [
       "SpatialData object with:\n",
       "├── Images\n",
       "│     ├── 'CytAssist_FFPE_Human_Breast_Cancer_full_image': MultiscaleSpatialImage[cyx] (3, 21571, 19505), (3, 10785, 9752), (3, 5392, 4876), (3, 2696, 2438), (3, 1348, 1219)\n",
       "│     ├── 'CytAssist_FFPE_Human_Breast_Cancer_hires_image': SpatialImage[cyx] (3, 2000, 1809)\n",
       "│     └── 'CytAssist_FFPE_Human_Breast_Cancer_lowres_image': SpatialImage[cyx] (3, 600, 543)\n",
       "├── Shapes\n",
       "│     └── 'CytAssist_FFPE_Human_Breast_Cancer': GeoDataFrame shape: (4992, 2) (2D shapes)\n",
       "└── Table\n",
       "      └── AnnData object with n_obs × n_vars = 4992 × 18085\n",
       "    obs: 'in_tissue', 'array_row', 'array_col', 'spot_id', 'region', 'dataset'\n",
       "    var: 'gene_ids', 'feature_types', 'genome'\n",
       "    uns: 'spatial', 'spatialdata_attrs', 'region_colors'\n",
       "    obsm: 'spatial': AnnData (4992, 18085)\n",
       "with coordinate systems:\n",
       "▸ 'aligned', with elements:\n",
       "        CytAssist_FFPE_Human_Breast_Cancer_full_image (Images), CytAssist_FFPE_Human_Breast_Cancer (Shapes)\n",
       "▸ 'downscaled_hires', with elements:\n",
       "        CytAssist_FFPE_Human_Breast_Cancer_hires_image (Images), CytAssist_FFPE_Human_Breast_Cancer (Shapes)\n",
       "▸ 'downscaled_lowres', with elements:\n",
       "        CytAssist_FFPE_Human_Breast_Cancer_lowres_image (Images), CytAssist_FFPE_Human_Breast_Cancer (Shapes)\n",
       "▸ 'global', with elements:\n",
       "        CytAssist_FFPE_Human_Breast_Cancer_full_image (Images), CytAssist_FFPE_Human_Breast_Cancer (Shapes)"
      ]
     },
     "execution_count": 115,
     "metadata": {},
     "output_type": "execute_result"
    }
   ],
   "source": [
    "visium_sdata"
   ]
  },
  {
   "cell_type": "code",
   "execution_count": null,
   "id": "93f5d08e-b3a3-41ff-9d38-6f9f90c04278",
   "metadata": {
    "tags": []
   },
   "outputs": [],
   "source": [
    "Interactive(\n",
    "    [\n",
    "        SpatialData(images={\"morphology_mip\": xe_rep1_sdata[\"morphology_mip\"]}),\n",
    "        SpatialData(images={\"morphology_mip\": xe_rep2_sdata[\"morphology_mip\"]}),\n",
    "        SpatialData(\n",
    "            images={\n",
    "                \"CytAssist_FFPE_Human_Breast_Cancer_full_image\": visium_sdata[\n",
    "                    \"CytAssist_FFPE_Human_Breast_Cancer_full_image\"\n",
    "                ]\n",
    "            }\n",
    "        ),\n",
    "        landmarks_sdata,\n",
    "        cells_in_rois_sdata,\n",
    "    ],\n",
    "    points=False,\n",
    ")"
   ]
  },
  {
   "cell_type": "raw",
   "id": "2788f7a3-5928-4bbd-886b-7e58ef815abc",
   "metadata": {
    "tags": []
   },
   "source": [
    "import napari\n",
    "\n",
    "interactive = Interactive(sdata_napari, points=False, shapes=False, headless=True)\n",
    "interactive._add_layers_from_sdata(\n",
    "    sdata=sd.SpatialData(shapes={\"box\": sdata_napari[\"box\"]})\n",
    ")\n",
    "napari.run()"
   ]
  },
  {
   "cell_type": "code",
   "execution_count": 119,
   "id": "8be1dc7d-5446-4276-bdf3-57250738335e",
   "metadata": {
    "tags": []
   },
   "outputs": [],
   "source": [
    "# rois colors (this is the order how the ROIs are saved)\n",
    "rois_colors = {\n",
    "    \"Invasive\": \"#4cb1ff\",\n",
    "    \"Immune infiltration\": \"#7dc573\",\n",
    "    \"Necrotic core\": \"#ffd700\",\n",
    "    \"DCIS\": \"#ff5500\",\n",
    "}"
   ]
  }
 ],
 "metadata": {
  "kernelspec": {
   "display_name": "Python 3 (ipykernel)",
   "language": "python",
   "name": "python3"
  },
  "language_info": {
   "codemirror_mode": {
    "name": "ipython",
    "version": 3
   },
   "file_extension": ".py",
   "mimetype": "text/x-python",
   "name": "python",
   "nbconvert_exporter": "python",
   "pygments_lexer": "ipython3",
   "version": "3.10.9"
  }
 },
 "nbformat": 4,
 "nbformat_minor": 5
}
