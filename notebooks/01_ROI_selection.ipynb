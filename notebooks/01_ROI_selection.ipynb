{
 "cells": [
  {
   "cell_type": "code",
   "execution_count": 1,
   "id": "409c971d-4db4-4573-bed2-6c1e546a97ed",
   "metadata": {
    "tags": []
   },
   "outputs": [
    {
     "data": {
      "text/html": [
       "\n",
       "                <script type=\"application/javascript\" id=\"jupyter_black\">\n",
       "                (function() {\n",
       "                    if (window.IPython === undefined) {\n",
       "                        return\n",
       "                    }\n",
       "                    var msg = \"WARNING: it looks like you might have loaded \" +\n",
       "                        \"jupyter_black in a non-lab notebook with \" +\n",
       "                        \"`is_lab=True`. Please double check, and if \" +\n",
       "                        \"loading with `%load_ext` please review the README!\"\n",
       "                    console.log(msg)\n",
       "                    alert(msg)\n",
       "                })()\n",
       "                </script>\n",
       "                "
      ],
      "text/plain": [
       "<IPython.core.display.HTML object>"
      ]
     },
     "metadata": {},
     "output_type": "display_data"
    }
   ],
   "source": [
    "%load_ext jupyter_black"
   ]
  },
  {
   "cell_type": "code",
   "execution_count": 2,
   "id": "e23a7533-d1ab-4727-b853-89369c2eafed",
   "metadata": {
    "tags": []
   },
   "outputs": [],
   "source": [
    "import os\n",
    "from shapely.geometry import Polygon\n",
    "\n",
    "os.environ[\"USE_PYGEOS\"] = \"0\"\n",
    "import geopandas\n",
    "import shutil\n",
    "import numpy as np\n",
    "import napari\n",
    "import os\n",
    "import spatialdata as sd\n",
    "from spatialdata.transformations import (\n",
    "    Affine,\n",
    "    Sequence,\n",
    "    Identity,\n",
    "    align_elements_using_landmarks,\n",
    "    get_transformation,\n",
    "    set_transformation,\n",
    ")\n",
    "from napari_spatialdata import Interactive"
   ]
  },
  {
   "cell_type": "code",
   "execution_count": 3,
   "id": "fbbcbb72-831a-4bbb-a3b4-04285df7a296",
   "metadata": {
    "tags": []
   },
   "outputs": [
    {
     "name": "stdout",
     "output_type": "stream",
     "text": [
      "current working directory: /Users/macbook/embl/projects/basel/spatialdata-sandbox/notebooks\n"
     ]
    }
   ],
   "source": [
    "print(\"current working directory:\", os.getcwd())\n",
    "SPATIALDATA_SANDBOX_PATH = \"spatialdata-sandbox\"\n",
    "assert os.path.isdir(\n",
    "    SPATIALDATA_SANDBOX_PATH\n",
    "), f\"{SPATIALDATA_SANDBOX_PATH} not found, please use symlinks to make it available\"\n",
    "GENERATED_DATA_PATH = os.path.join(\n",
    "    SPATIALDATA_SANDBOX_PATH, \"generated_data/xenium_visium_integration\"\n",
    ")\n",
    "assert os.path.isdir(\n",
    "    GENERATED_DATA_PATH\n",
    "), f\"{GENERATED_DATA_PATH} not found, please use symlinks to make it available\"\n",
    "\n",
    "\n",
    "XE_REP1_PATH = os.path.join(SPATIALDATA_SANDBOX_PATH, \"xenium_rep1_io/data.zarr\")\n",
    "XE_REP2_PATH = os.path.join(SPATIALDATA_SANDBOX_PATH, \"xenium_rep2_io/data.zarr\")\n",
    "VISIUM_PATH = os.path.join(\n",
    "    SPATIALDATA_SANDBOX_PATH, \"visium_associated_xenium_io/data.zarr\"\n",
    ")\n",
    "\n",
    "XE_REP1_ROI_PATH = os.path.join(GENERATED_DATA_PATH, \"xe_rep1_roi.zarr\")\n",
    "XE_REP2_ROI_PATH = os.path.join(GENERATED_DATA_PATH, \"xe_rep2_roi.zarr\")\n",
    "VISIUM_ROI_PATH = os.path.join(GENERATED_DATA_PATH, \"visium_roi.zarr\")\n",
    "\n",
    "LANDMARKS_SDATA_PATH = os.path.join(GENERATED_DATA_PATH, \"sandbox.zarr\")"
   ]
  },
  {
   "cell_type": "code",
   "execution_count": 4,
   "id": "263fa0ce-073f-45c3-a106-e39abd398b80",
   "metadata": {
    "tags": []
   },
   "outputs": [
    {
     "name": "stdout",
     "output_type": "stream",
     "text": [
      "\u001b[34mINFO    \u001b[0m Instance key `cell_id` could be of type `pd.Categorical`. Consider casting it.                            \n",
      "\u001b[34mINFO    \u001b[0m Instance key `cell_id` could be of type `pd.Categorical`. Consider casting it.                            \n"
     ]
    }
   ],
   "source": [
    "# we delete some elements (in-memory only) because we will not need them in napari\n",
    "xe_rep1_sdata = sd.read_zarr(XE_REP1_PATH)\n",
    "del xe_rep1_sdata.images[\"morphology_focus\"]\n",
    "del xe_rep1_sdata.shapes[\"cell_boundaries\"]\n",
    "del xe_rep1_sdata.shapes[\"nucleus_boundaries\"]\n",
    "xe_rep2_sdata = sd.read_zarr(XE_REP2_PATH)\n",
    "del xe_rep2_sdata.images[\"morphology_focus\"]\n",
    "del xe_rep2_sdata.shapes[\"cell_boundaries\"]\n",
    "del xe_rep2_sdata.shapes[\"nucleus_boundaries\"]\n",
    "visium_sdata = sd.read_zarr(VISIUM_PATH)\n",
    "\n",
    "xe_rep1_roi_sdata = sd.read_zarr(XE_REP1_ROI_PATH)\n",
    "del xe_rep1_roi_sdata.shapes[\"cell_boundaries\"]\n",
    "del xe_rep1_roi_sdata.shapes[\"nucleus_boundaries\"]\n",
    "xe_rep2_roi_sdata = sd.read_zarr(XE_REP2_ROI_PATH)\n",
    "del xe_rep2_roi_sdata.shapes[\"cell_boundaries\"]\n",
    "del xe_rep2_roi_sdata.shapes[\"nucleus_boundaries\"]\n",
    "visium_roi_sdata = sd.read_zarr(VISIUM_ROI_PATH)\n",
    "\n",
    "landmarks_sdata = sd.read_zarr(LANDMARKS_SDATA_PATH)"
   ]
  },
  {
   "cell_type": "code",
   "execution_count": 8,
   "id": "9e26fb20-ad03-4f8d-831d-9963cd0c0e05",
   "metadata": {
    "tags": []
   },
   "outputs": [],
   "source": [
    "# remove the cells, for xenium rep 2, inside the box (so already present in xenium rep 1)\n",
    "xe_rep2_sdata.shapes[\"cell_circles\"] = xe_rep2_sdata[\"cell_circles\"][\n",
    "    ~xe_rep2_sdata[\"cell_circles\"].index.isin(xe_rep2_roi_sdata[\"cell_circles\"].index)\n",
    "]"
   ]
  },
  {
   "cell_type": "raw",
   "id": "b5f62363-7814-4ced-941c-4d9580807edd",
   "metadata": {
    "tags": []
   },
   "source": [
    "box = landmarks_sdata[\"box\"].iloc[0][0]\n",
    "np.sum(xe_rep2_sdata.shapes[\"cell_circles\"].within(box))"
   ]
  },
  {
   "cell_type": "code",
   "execution_count": 7,
   "id": "b0a1d15b-6e0c-4e9e-8c3d-8c19879bbb6c",
   "metadata": {
    "tags": []
   },
   "outputs": [
    {
     "name": "stderr",
     "output_type": "stream",
     "text": [
      "/Users/macbook/miniconda3/envs/ome/lib/python3.10/site-packages/anndata/compat/_overloaded_dict.py:106: ImplicitModificationWarning: Trying to modify attribute `._uns` of view, initializing view as actual.\n",
      "  self.data[key] = value\n",
      "2023-03-29 01:38:11.780 | WARNING  | napari_spatialdata.interactive:_add_circles:258 - Too many shapes 167780 > 10000, using points instead of ellipses. Size will stop being correct beyond a certain zoom level\n"
     ]
    },
    {
     "ename": "ValueError",
     "evalue": "Partial annotation is support only when the annotation table contains instances not in circles.",
     "output_type": "error",
     "traceback": [
      "\u001b[0;31m---------------------------------------------------------------------------\u001b[0m",
      "\u001b[0;31mValueError\u001b[0m                                Traceback (most recent call last)",
      "Cell \u001b[0;32mIn[7], line 1\u001b[0m\n\u001b[0;32m----> 1\u001b[0m \u001b[43mInteractive\u001b[49m\u001b[43m(\u001b[49m\u001b[43m[\u001b[49m\u001b[43mxe_rep1_sdata\u001b[49m\u001b[43m,\u001b[49m\u001b[43m \u001b[49m\u001b[43mxe_rep2_sdata\u001b[49m\u001b[43m,\u001b[49m\u001b[43m \u001b[49m\u001b[43mvisium_sdata\u001b[49m\u001b[43m,\u001b[49m\u001b[43m \u001b[49m\u001b[43mlandmarks_sdata\u001b[49m\u001b[43m]\u001b[49m\u001b[43m,\u001b[49m\u001b[43m \u001b[49m\u001b[43mpoints\u001b[49m\u001b[38;5;241;43m=\u001b[39;49m\u001b[38;5;28;43;01mFalse\u001b[39;49;00m\u001b[43m)\u001b[49m\n",
      "File \u001b[0;32m~/embl/projects/basel/napari-spatialdata/src/napari_spatialdata/interactive.py:86\u001b[0m, in \u001b[0;36mInteractive.__init__\u001b[0;34m(self, sdata, images, labels, shapes, points, with_widgets, headless)\u001b[0m\n\u001b[1;32m     84\u001b[0m     sdata \u001b[38;5;241m=\u001b[39m [sdata]\n\u001b[1;32m     85\u001b[0m \u001b[38;5;28;01mfor\u001b[39;00m s \u001b[38;5;129;01min\u001b[39;00m sdata:\n\u001b[0;32m---> 86\u001b[0m     \u001b[38;5;28;43mself\u001b[39;49m\u001b[38;5;241;43m.\u001b[39;49m\u001b[43m_add_layers_from_sdata\u001b[49m\u001b[43m(\u001b[49m\u001b[43msdata\u001b[49m\u001b[38;5;241;43m=\u001b[39;49m\u001b[43ms\u001b[49m\u001b[43m,\u001b[49m\u001b[43m \u001b[49m\u001b[43mimages\u001b[49m\u001b[38;5;241;43m=\u001b[39;49m\u001b[43mimages\u001b[49m\u001b[43m,\u001b[49m\u001b[43m \u001b[49m\u001b[43mlabels\u001b[49m\u001b[38;5;241;43m=\u001b[39;49m\u001b[43mlabels\u001b[49m\u001b[43m,\u001b[49m\u001b[43m \u001b[49m\u001b[43mshapes\u001b[49m\u001b[38;5;241;43m=\u001b[39;49m\u001b[43mshapes\u001b[49m\u001b[43m,\u001b[49m\u001b[43m \u001b[49m\u001b[43mpoints\u001b[49m\u001b[38;5;241;43m=\u001b[39;49m\u001b[43mpoints\u001b[49m\u001b[43m)\u001b[49m\n\u001b[1;32m     87\u001b[0m \u001b[38;5;28;01mif\u001b[39;00m with_widgets:\n\u001b[1;32m     88\u001b[0m     \u001b[38;5;28mself\u001b[39m\u001b[38;5;241m.\u001b[39mshow_widget()\n",
      "File \u001b[0;32m~/embl/projects/basel/napari-spatialdata/src/napari_spatialdata/interactive.py:568\u001b[0m, in \u001b[0;36mInteractive._add_layers_from_sdata\u001b[0;34m(self, sdata, images, labels, shapes, points)\u001b[0m\n\u001b[1;32m    566\u001b[0m \u001b[38;5;28;01melif\u001b[39;00m prefix \u001b[38;5;241m==\u001b[39m \u001b[38;5;124m\"\u001b[39m\u001b[38;5;124mshapes\u001b[39m\u001b[38;5;124m\"\u001b[39m:\n\u001b[1;32m    567\u001b[0m     \u001b[38;5;28;01mif\u001b[39;00m shapes:\n\u001b[0;32m--> 568\u001b[0m         \u001b[38;5;28;43mself\u001b[39;49m\u001b[38;5;241;43m.\u001b[39;49m\u001b[43m_add_shapes\u001b[49m\u001b[43m(\u001b[49m\n\u001b[1;32m    569\u001b[0m \u001b[43m            \u001b[49m\u001b[43msdata\u001b[49m\u001b[38;5;241;43m=\u001b[39;49m\u001b[43msdata\u001b[49m\u001b[43m,\u001b[49m\u001b[43m \u001b[49m\u001b[43mshapes\u001b[49m\u001b[38;5;241;43m=\u001b[39;49m\u001b[43melement\u001b[49m\u001b[43m,\u001b[49m\u001b[43m \u001b[49m\u001b[43mannotation_table\u001b[49m\u001b[38;5;241;43m=\u001b[39;49m\u001b[43mannotation_table\u001b[49m\u001b[43m,\u001b[49m\u001b[43m \u001b[49m\u001b[43melement_path\u001b[49m\u001b[38;5;241;43m=\u001b[39;49m\u001b[43melement_path\u001b[49m\n\u001b[1;32m    570\u001b[0m \u001b[43m        \u001b[49m\u001b[43m)\u001b[49m\n\u001b[1;32m    571\u001b[0m \u001b[38;5;28;01melse\u001b[39;00m:\n\u001b[1;32m    572\u001b[0m     \u001b[38;5;28;01mraise\u001b[39;00m \u001b[38;5;167;01mValueError\u001b[39;00m(\u001b[38;5;124mf\u001b[39m\u001b[38;5;124m\"\u001b[39m\u001b[38;5;124mUnsupported element type: \u001b[39m\u001b[38;5;132;01m{\u001b[39;00m\u001b[38;5;28mtype\u001b[39m(element)\u001b[38;5;132;01m}\u001b[39;00m\u001b[38;5;124m\"\u001b[39m)\n",
      "File \u001b[0;32m~/embl/projects/basel/napari-spatialdata/src/napari_spatialdata/interactive.py:206\u001b[0m, in \u001b[0;36mInteractive._add_shapes\u001b[0;34m(self, sdata, shapes, element_path, annotation_table)\u001b[0m\n\u001b[1;32m    204\u001b[0m     \u001b[38;5;66;03m##\u001b[39;00m\n\u001b[1;32m    205\u001b[0m \u001b[38;5;28;01melif\u001b[39;00m \u001b[38;5;28misinstance\u001b[39m(shape, Point):\n\u001b[0;32m--> 206\u001b[0m     \u001b[38;5;28;43mself\u001b[39;49m\u001b[38;5;241;43m.\u001b[39;49m\u001b[43m_add_circles\u001b[49m\u001b[43m(\u001b[49m\u001b[43msdata\u001b[49m\u001b[38;5;241;43m=\u001b[39;49m\u001b[43msdata\u001b[49m\u001b[43m,\u001b[49m\u001b[43m \u001b[49m\u001b[43mshapes\u001b[49m\u001b[38;5;241;43m=\u001b[39;49m\u001b[43mshapes\u001b[49m\u001b[43m,\u001b[49m\u001b[43m \u001b[49m\u001b[43melement_path\u001b[49m\u001b[38;5;241;43m=\u001b[39;49m\u001b[43melement_path\u001b[49m\u001b[43m,\u001b[49m\u001b[43m \u001b[49m\u001b[43mannotation_table\u001b[49m\u001b[38;5;241;43m=\u001b[39;49m\u001b[43mannotation_table\u001b[49m\u001b[43m)\u001b[49m\n\u001b[1;32m    207\u001b[0m \u001b[38;5;28;01melse\u001b[39;00m:\n\u001b[1;32m    208\u001b[0m     \u001b[38;5;28;01mraise\u001b[39;00m \u001b[38;5;167;01mTypeError\u001b[39;00m(\u001b[38;5;124mf\u001b[39m\u001b[38;5;124m\"\u001b[39m\u001b[38;5;124mUnsupported shape type: \u001b[39m\u001b[38;5;132;01m{\u001b[39;00m\u001b[38;5;28mtype\u001b[39m(shape)\u001b[38;5;132;01m}\u001b[39;00m\u001b[38;5;124m\"\u001b[39m)\n",
      "File \u001b[0;32m~/embl/projects/basel/napari-spatialdata/src/napari_spatialdata/interactive.py:223\u001b[0m, in \u001b[0;36mInteractive._add_circles\u001b[0;34m(self, sdata, shapes, element_path, annotation_table)\u001b[0m\n\u001b[1;32m    221\u001b[0m \u001b[38;5;28;01melse\u001b[39;00m:\n\u001b[1;32m    222\u001b[0m     radii \u001b[38;5;241m=\u001b[39m \u001b[38;5;241m10\u001b[39m\n\u001b[0;32m--> 223\u001b[0m annotation \u001b[38;5;241m=\u001b[39m \u001b[38;5;28;43mself\u001b[39;49m\u001b[38;5;241;43m.\u001b[39;49m\u001b[43m_find_annotation_for_regions\u001b[49m\u001b[43m(\u001b[49m\n\u001b[1;32m    224\u001b[0m \u001b[43m    \u001b[49m\u001b[43mbase_element\u001b[49m\u001b[38;5;241;43m=\u001b[39;49m\u001b[43mshapes\u001b[49m\u001b[43m,\u001b[49m\u001b[43m \u001b[49m\u001b[43mannotation_table\u001b[49m\u001b[38;5;241;43m=\u001b[39;49m\u001b[43mannotation_table\u001b[49m\u001b[43m,\u001b[49m\u001b[43m \u001b[49m\u001b[43melement_path\u001b[49m\u001b[38;5;241;43m=\u001b[39;49m\u001b[43melement_path\u001b[49m\n\u001b[1;32m    225\u001b[0m \u001b[43m\u001b[49m\u001b[43m)\u001b[49m\n\u001b[1;32m    226\u001b[0m \u001b[38;5;28;01mif\u001b[39;00m annotation \u001b[38;5;129;01mis\u001b[39;00m \u001b[38;5;129;01mnot\u001b[39;00m \u001b[38;5;28;01mNone\u001b[39;00m:\n\u001b[1;32m    227\u001b[0m     \u001b[38;5;66;03m# # points_annotation is required from the squidpy legagy code, TODO: remove\u001b[39;00m\n\u001b[1;32m    228\u001b[0m     \u001b[38;5;66;03m# points_annotation = AnnData(X=shapes.data.X)\u001b[39;00m\n\u001b[1;32m    229\u001b[0m     \u001b[38;5;66;03m# points_annotation.obs['gene'] = annotation.obs\u001b[39;00m\n\u001b[1;32m    230\u001b[0m     \u001b[38;5;66;03m# metadata = {\"adata\": annotation, \"library_id\": element_path, \"shapes\": points_annotation}\u001b[39;00m\n\u001b[1;32m    231\u001b[0m     metadata \u001b[38;5;241m=\u001b[39m {\u001b[38;5;124m\"\u001b[39m\u001b[38;5;124madata\u001b[39m\u001b[38;5;124m\"\u001b[39m: annotation, \u001b[38;5;124m\"\u001b[39m\u001b[38;5;124mlibrary_id\u001b[39m\u001b[38;5;124m\"\u001b[39m: element_path}\n",
      "File \u001b[0;32m~/embl/projects/basel/napari-spatialdata/src/napari_spatialdata/interactive.py:396\u001b[0m, in \u001b[0;36mInteractive._find_annotation_for_regions\u001b[0;34m(self, base_element, element_path, annotation_table)\u001b[0m\n\u001b[1;32m    394\u001b[0m shape \u001b[38;5;241m=\u001b[39m base_element\u001b[38;5;241m.\u001b[39mgeometry\u001b[38;5;241m.\u001b[39miloc[\u001b[38;5;241m0\u001b[39m]\n\u001b[1;32m    395\u001b[0m \u001b[38;5;28;01mif\u001b[39;00m \u001b[38;5;28misinstance\u001b[39m(shape, Polygon) \u001b[38;5;129;01mor\u001b[39;00m \u001b[38;5;28misinstance\u001b[39m(shape, MultiPolygon) \u001b[38;5;129;01mor\u001b[39;00m \u001b[38;5;28misinstance\u001b[39m(shape, Point):\n\u001b[0;32m--> 396\u001b[0m     table \u001b[38;5;241m=\u001b[39m \u001b[38;5;28;43mself\u001b[39;49m\u001b[38;5;241;43m.\u001b[39;49m\u001b[43m_find_annotation_for_shapes\u001b[49m\u001b[43m(\u001b[49m\n\u001b[1;32m    397\u001b[0m \u001b[43m        \u001b[49m\u001b[43mcircles\u001b[49m\u001b[38;5;241;43m=\u001b[39;49m\u001b[43mbase_element\u001b[49m\u001b[43m,\u001b[49m\n\u001b[1;32m    398\u001b[0m \u001b[43m        \u001b[49m\u001b[43melement_path\u001b[49m\u001b[38;5;241;43m=\u001b[39;49m\u001b[43melement_path\u001b[49m\u001b[43m,\u001b[49m\n\u001b[1;32m    399\u001b[0m \u001b[43m        \u001b[49m\u001b[43mannotating_rows\u001b[49m\u001b[38;5;241;43m=\u001b[39;49m\u001b[43mannotating_rows\u001b[49m\u001b[43m,\u001b[49m\n\u001b[1;32m    400\u001b[0m \u001b[43m        \u001b[49m\u001b[43minstance_key\u001b[49m\u001b[38;5;241;43m=\u001b[39;49m\u001b[43minstance_key\u001b[49m\u001b[43m,\u001b[49m\n\u001b[1;32m    401\u001b[0m \u001b[43m    \u001b[49m\u001b[43m)\u001b[49m\n\u001b[1;32m    402\u001b[0m \u001b[38;5;28;01melse\u001b[39;00m:\n\u001b[1;32m    403\u001b[0m     \u001b[38;5;28;01mraise\u001b[39;00m \u001b[38;5;167;01mTypeError\u001b[39;00m(\u001b[38;5;124mf\u001b[39m\u001b[38;5;124m\"\u001b[39m\u001b[38;5;124mUnsupported shape type: \u001b[39m\u001b[38;5;132;01m{\u001b[39;00m\u001b[38;5;28mtype\u001b[39m(shape)\u001b[38;5;132;01m}\u001b[39;00m\u001b[38;5;124m\"\u001b[39m)\n",
      "File \u001b[0;32m~/embl/projects/basel/napari-spatialdata/src/napari_spatialdata/interactive.py:491\u001b[0m, in \u001b[0;36mInteractive._find_annotation_for_shapes\u001b[0;34m(self, circles, element_path, annotating_rows, instance_key)\u001b[0m\n\u001b[1;32m    489\u001b[0m         \u001b[38;5;28;01mpass\u001b[39;00m\n\u001b[1;32m    490\u001b[0m     \u001b[38;5;28;01melse\u001b[39;00m:\n\u001b[0;32m--> 491\u001b[0m         \u001b[38;5;28;01mraise\u001b[39;00m \u001b[38;5;167;01mValueError\u001b[39;00m(\u001b[38;5;124m\"\u001b[39m\u001b[38;5;124mPartial annotation is support only when the annotation table contains instances not in circles.\u001b[39m\u001b[38;5;124m\"\u001b[39m)\n\u001b[1;32m    493\u001b[0m \u001b[38;5;66;03m# this is to reorder the circles to match the order of the annotation table\u001b[39;00m\n\u001b[1;32m    494\u001b[0m a \u001b[38;5;241m=\u001b[39m annotating_rows\u001b[38;5;241m.\u001b[39mobs[instance_key]\u001b[38;5;241m.\u001b[39mto_numpy()\n",
      "\u001b[0;31mValueError\u001b[0m: Partial annotation is support only when the annotation table contains instances not in circles."
     ]
    }
   ],
   "source": [
    "Interactive([xe_rep1_sdata, xe_rep2_sdata, visium_sdata, landmarks_sdata], points=False)"
   ]
  },
  {
   "cell_type": "raw",
   "id": "3d7e544e-2af1-4c3f-aad3-e4cc03bdb520",
   "metadata": {
    "tags": []
   },
   "source": [
    "Interactive(\n",
    "    [xe_rep1_roi_sdata, xe_rep2_roi_sdata, visium_roi_sdata, landmarks_sdata],\n",
    "    points=False,\n",
    ")"
   ]
  },
  {
   "cell_type": "raw",
   "id": "2788f7a3-5928-4bbd-886b-7e58ef815abc",
   "metadata": {
    "tags": []
   },
   "source": [
    "import napari\n",
    "\n",
    "interactive = Interactive(sdata_napari, points=False, shapes=False, headless=True)\n",
    "interactive._add_layers_from_sdata(\n",
    "    sdata=sd.SpatialData(shapes={\"box\": sdata_napari[\"box\"]})\n",
    ")\n",
    "napari.run()"
   ]
  },
  {
   "cell_type": "code",
   "execution_count": null,
   "id": "8be1dc7d-5446-4276-bdf3-57250738335e",
   "metadata": {},
   "outputs": [],
   "source": []
  },
  {
   "cell_type": "code",
   "execution_count": null,
   "id": "2375e888-7c10-495c-9a7a-0c6fedf1985c",
   "metadata": {},
   "outputs": [],
   "source": []
  },
  {
   "cell_type": "code",
   "execution_count": null,
   "id": "36a9d8cc-e0af-4860-b63c-f6f0324b5f15",
   "metadata": {},
   "outputs": [],
   "source": []
  },
  {
   "cell_type": "code",
   "execution_count": null,
   "id": "a8f3b581-c37a-41cc-b96a-3b1c75fe535c",
   "metadata": {},
   "outputs": [],
   "source": []
  },
  {
   "cell_type": "code",
   "execution_count": null,
   "id": "83154414-bd5d-4d71-bf1f-06c2680615b2",
   "metadata": {},
   "outputs": [],
   "source": []
  },
  {
   "cell_type": "code",
   "execution_count": null,
   "id": "eff79204-3cec-4b7c-9a0a-7bb4d50d1bf3",
   "metadata": {},
   "outputs": [],
   "source": []
  }
 ],
 "metadata": {
  "kernelspec": {
   "display_name": "Python 3 (ipykernel)",
   "language": "python",
   "name": "python3"
  },
  "language_info": {
   "codemirror_mode": {
    "name": "ipython",
    "version": 3
   },
   "file_extension": ".py",
   "mimetype": "text/x-python",
   "name": "python",
   "nbconvert_exporter": "python",
   "pygments_lexer": "ipython3",
   "version": "3.10.9"
  }
 },
 "nbformat": 4,
 "nbformat_minor": 5
}
