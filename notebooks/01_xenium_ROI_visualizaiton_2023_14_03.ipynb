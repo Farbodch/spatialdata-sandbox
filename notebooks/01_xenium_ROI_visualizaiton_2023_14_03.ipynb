{
 "cells": [
  {
   "cell_type": "code",
   "execution_count": null,
   "id": "d5f72fc3-d38f-4acd-bd5b-d17b2e310d1e",
   "metadata": {},
   "outputs": [],
   "source": [
    "import warnings\n",
    "warnings.filterwarnings('ignore')"
   ]
  },
  {
   "cell_type": "code",
   "execution_count": 2,
   "id": "ce5d38ba-f2ba-4227-ada0-58c176bb61d8",
   "metadata": {
    "tags": []
   },
   "outputs": [
    {
     "name": "stderr",
     "output_type": "stream",
     "text": [
      "/Users/b450-admin/opt/miniconda3/envs/napari-env/lib/python3.9/site-packages/tqdm/auto.py:22: TqdmWarning: IProgress not found. Please update jupyter and ipywidgets. See https://ipywidgets.readthedocs.io/en/stable/user_install.html\n",
      "  from .autonotebook import tqdm as notebook_tqdm\n"
     ]
    }
   ],
   "source": [
    "import os\n",
    "from shapely.geometry import Polygon\n",
    "os.environ['USE_PYGEOS'] = '0'\n",
    "import geopandas\n",
    "import shutil\n",
    "import numpy as np\n",
    "import napari\n",
    "import os\n",
    "import spatialdata as sd\n",
    "from spatialdata._core.core_utils import get_default_coordinate_system\n",
    "from spatialdata._core.transformations import Affine, Sequence, Identity\n",
    "from spatialdata._core._transform_elements import align_elements_using_landmarks\n",
    "from spatialdata._core._spatialdata_ops import get_transformation, set_transformation\n",
    "from napari_spatialdata import Interactive"
   ]
  },
  {
   "cell_type": "code",
   "execution_count": 11,
   "id": "ed42f367-6db3-42e1-9dbd-df2e3a0af687",
   "metadata": {
    "tags": []
   },
   "outputs": [],
   "source": [
    "DATA_PATH = \"data\"\n",
    "\n",
    "XE_REP1_ROI_ST_PATH     = os.path.join(DATA_PATH, \"xe_rep1_roi_st.zarr\")\n",
    "XE_REP2_ROI_ST_PATH     = os.path.join(DATA_PATH, \"xe_rep2_roi_st.zarr\")\n",
    "VISIUM_ROI_ST_PATH      = os.path.join(DATA_PATH, \"visium_roi_st.zarr\")\n",
    "# VISIUM_PATH      = os.path.join(DATA_PATH, \"visium.zarr\")\n",
    "\n",
    "assert os.path.isdir(XE_REP1_ROI_ST_PATH)\n",
    "assert os.path.isdir(XE_REP2_ROI_ST_PATH)\n",
    "assert os.path.isdir(VISIUM_ROI_ST_PATH)"
   ]
  },
  {
   "cell_type": "code",
   "execution_count": 12,
   "id": "911d4706-807e-419d-9edc-8ceb48845ff3",
   "metadata": {
    "tags": []
   },
   "outputs": [
    {
     "name": "stderr",
     "output_type": "stream",
     "text": [
      "/Users/b450-admin/opt/miniconda3/envs/napari-env/lib/python3.9/site-packages/anndata/_core/anndata.py:121: ImplicitModificationWarning: Transforming to str index.\n",
      "  warnings.warn(\"Transforming to str index.\", ImplicitModificationWarning)\n"
     ]
    }
   ],
   "source": [
    "xe_rep1_roi_st_sdata     = sd.read_zarr(XE_REP1_ROI_ST_PATH)\n",
    "xe_rep2_roi_st_sdata     = sd.read_zarr(XE_REP2_ROI_ST_PATH)\n",
    "visium_roi_st_sdata      = sd.read_zarr(VISIUM_ROI_ST_PATH)"
   ]
  },
  {
   "cell_type": "code",
   "execution_count": 58,
   "id": "59a90de4-7e75-4954-b71e-0a2f1134ecef",
   "metadata": {
    "tags": []
   },
   "outputs": [
    {
     "name": "stderr",
     "output_type": "stream",
     "text": [
      "/var/folders/5x/ypt5v1fx6rs06gz37q_85t900000gp/T/ipykernel_73129/3394046582.py:10: ImplicitModificationWarning: Trying to modify attribute `.obs` of view, initializing view as actual.\n",
      "  xe_rep1_roi_table.obs['ROI'] = rois_xe_rep1['ROI'].values\n",
      "/Users/b450-admin/opt/miniconda3/envs/napari-env/lib/python3.9/site-packages/zarr/creation.py:250: UserWarning: ignoring keyword argument 'maxshape'\n",
      "  warn('ignoring keyword argument %r' % k)\n"
     ]
    }
   ],
   "source": [
    "from spatialdata import ShapesModel, TableModel\n",
    "xe_rep1_roi_st_sdata.shapes['ROIs']['ROI'] = ['ROI_' + str(x+1) for x in xe_rep1_roi_st_sdata.shapes['ROIs'].index]\n",
    "xe_rep1_roi_st_sdata.shapes['cell_boundaries']['cell_id'] = xe_rep1_roi_st_sdata.table.obs['cell_id'].values\n",
    "\n",
    "rois_xe_rep1 = xe_rep1_roi_st_sdata.shapes['ROIs'].overlay(xe_rep1_roi_st_sdata.shapes['cell_boundaries'], how='intersection')\n",
    "rois_xe_rep1.drop_duplicates(subset=['cell_id'], keep='first')\n",
    "rois_xe_rep1 = rois_xe_rep1.drop_duplicates(subset=['cell_id'], keep='first')\n",
    "\n",
    "xe_rep1_roi_table = xe_rep1_roi_st_sdata.table[xe_rep1_table['cell_id'].astype(str),:]\n",
    "xe_rep1_roi_table.obs['ROI'] = rois_xe_rep1['ROI'].values\n",
    "\n",
    "rois_xe_rep1 = ShapesModel.parse(rois_xe_rep1, transformations={\"global\": get_transformation(xe_rep1_roi_st_sdata.shapes['ROIs'], 'global')})\n",
    "xe_rep1_roi_table = TableModel.parse(xe_rep1_roi_table)\n",
    "\n",
    "xe_rep1_subset_sdata = sd.SpatialData(\n",
    "    shapes={\n",
    "        \"ROIs\": rois_xe_rep1\n",
    "    },\n",
    "    table=xe_rep1_roi_table\n",
    "    \n",
    ")\n",
    "\n",
    "\n",
    "xe_rep1_subset_sdata.write('data/xe_rep1_subset_roi.zarr')"
   ]
  },
  {
   "cell_type": "code",
   "execution_count": 61,
   "id": "fdc740b4-69e8-4f49-9bc4-9a90a61dc0f5",
   "metadata": {
    "tags": []
   },
   "outputs": [
    {
     "name": "stderr",
     "output_type": "stream",
     "text": [
      "/var/folders/5x/ypt5v1fx6rs06gz37q_85t900000gp/T/ipykernel_73129/1101808495.py:7: ImplicitModificationWarning: Trying to modify attribute `.obs` of view, initializing view as actual.\n",
      "  xe_rep2_roi_table.obs['ROI'] = rois_xe_rep2['ROI'].values\n",
      "/Users/b450-admin/opt/miniconda3/envs/napari-env/lib/python3.9/site-packages/zarr/creation.py:250: UserWarning: ignoring keyword argument 'maxshape'\n",
      "  warn('ignoring keyword argument %r' % k)\n"
     ]
    }
   ],
   "source": [
    "xe_rep2_roi_st_sdata.shapes['ROIs']['ROI'] = ['ROI_' + str(x+1) for x in xe_rep2_roi_st_sdata.shapes['ROIs'].index]\n",
    "xe_rep2_roi_st_sdata.shapes['cell_boundaries']['cell_id'] = xe_rep2_roi_st_sdata.table.obs['cell_id'].values\n",
    "rois_xe_rep2 = xe_rep2_roi_st_sdata.shapes['ROIs'].overlay(xe_rep2_roi_st_sdata.shapes['cell_boundaries'], how='intersection')\n",
    "xe_rep2_roi_st_sdata.table.obs['ROI'] = 'NA'\n",
    "rois_xe_rep2 = rois_xe_rep2.drop_duplicates(subset=['cell_id'], keep='first')\n",
    "xe_rep2_roi_table = xe_rep2_roi_st_sdata.table[xe_rep2_table['cell_id'].astype(str),:]\n",
    "xe_rep2_roi_table.obs['ROI'] = rois_xe_rep2['ROI'].values\n",
    "\n",
    "rois_xe_rep2 = ShapesModel.parse(rois_xe_rep2, transformations={\"global\": get_transformation(xe_rep2_roi_st_sdata.shapes['ROIs'], 'global')})\n",
    "xe_rep2_roi_table = TableModel.parse(xe_rep2_roi_table)\n",
    "\n",
    "xe_rep2_subset_sdata = sd.SpatialData(\n",
    "    shapes={\n",
    "        \"ROIs\": rois_xe_rep2\n",
    "    },\n",
    "    table=xe_rep2_roi_table\n",
    "    \n",
    ")\n",
    "\n",
    "\n",
    "xe_rep2_subset_sdata.write('data/xe_rep2_subset_roi.zarr')"
   ]
  },
  {
   "cell_type": "code",
   "execution_count": 63,
   "id": "2d18fa53-c4ed-49f7-847e-f12e35ecfef7",
   "metadata": {
    "tags": []
   },
   "outputs": [
    {
     "name": "stderr",
     "output_type": "stream",
     "text": [
      "/var/folders/5x/ypt5v1fx6rs06gz37q_85t900000gp/T/ipykernel_73129/1592965037.py:7: ImplicitModificationWarning: Trying to modify attribute `.obs` of view, initializing view as actual.\n",
      "  visium_roi_table.obs['ROI'] = rois_visium['ROI'].values\n",
      "/Users/b450-admin/opt/miniconda3/envs/napari-env/lib/python3.9/site-packages/zarr/creation.py:250: UserWarning: ignoring keyword argument 'maxshape'\n",
      "  warn('ignoring keyword argument %r' % k)\n"
     ]
    }
   ],
   "source": [
    "visium_roi_st_sdata.shapes['ROIs']['ROI'] = ['ROI_' + str(x+1) for x in visium_roi_st_sdata.shapes['ROIs'].index]\n",
    "visium_roi_st_sdata.shapes['visium']['spot_id'] = visium_roi_st_sdata.table.obs['spot_id'].values\n",
    "rois_visium = visium_roi_st_sdata.shapes['ROIs'].overlay(visium_roi_st_sdata.shapes['visium'], how='intersection')\n",
    "visium_roi_st_sdata.table.obs['ROI'] = 'NA'\n",
    "rois_visium = rois_visium.drop_duplicates(subset=['spot_id'], keep='first')\n",
    "visium_roi_table = visium_roi_st_sdata.table[visium_table['spot_id'].astype(str),:]\n",
    "visium_roi_table.obs['ROI'] = rois_visium['ROI'].values\n",
    "\n",
    "rois_visium = ShapesModel.parse(rois_visium, transformations={\"global\": get_transformation(visium_roi_st_sdata.shapes['ROIs'], 'global')})\n",
    "visium_roi_table = TableModel.parse(visium_roi_table)\n",
    "\n",
    "visium_subset_sdata = sd.SpatialData(\n",
    "    shapes={\n",
    "        \"ROIs\": rois_visium\n",
    "    },\n",
    "    table=visium_roi_table\n",
    "    \n",
    ")\n",
    "\n",
    "\n",
    "\n",
    "visium_subset_sdata.write('data/visium_subset_roi.zarr')"
   ]
  }
 ],
 "metadata": {
  "kernelspec": {
   "display_name": "Python 3 (ipykernel)",
   "language": "python",
   "name": "python3"
  },
  "language_info": {
   "codemirror_mode": {
    "name": "ipython",
    "version": 3
   },
   "file_extension": ".py",
   "mimetype": "text/x-python",
   "name": "python",
   "nbconvert_exporter": "python",
   "pygments_lexer": "ipython3",
   "version": "3.9.16"
  }
 },
 "nbformat": 4,
 "nbformat_minor": 5
}
