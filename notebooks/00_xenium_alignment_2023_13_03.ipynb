{
 "cells": [
  {
   "cell_type": "markdown",
   "id": "2d030643-bfa1-4026-a267-da6aee506ce9",
   "metadata": {},
   "source": [
    "# Alignment of two Xenium Replicates and one Visium section\n",
    "\n"
   ]
  },
  {
   "cell_type": "code",
   "execution_count": 1,
   "id": "ba6f8878-9762-4a73-b300-72acda30e866",
   "metadata": {},
   "outputs": [
    {
     "data": {
      "text/html": [
       "\n",
       "                <script type=\"application/javascript\" id=\"jupyter_black\">\n",
       "                (function() {\n",
       "                    if (window.IPython === undefined) {\n",
       "                        return\n",
       "                    }\n",
       "                    var msg = \"WARNING: it looks like you might have loaded \" +\n",
       "                        \"jupyter_black in a non-lab notebook with \" +\n",
       "                        \"`is_lab=True`. Please double check, and if \" +\n",
       "                        \"loading with `%load_ext` please review the README!\"\n",
       "                    console.log(msg)\n",
       "                    alert(msg)\n",
       "                })()\n",
       "                </script>\n",
       "                "
      ],
      "text/plain": [
       "<IPython.core.display.HTML object>"
      ]
     },
     "metadata": {},
     "output_type": "display_data"
    }
   ],
   "source": [
    "%load_ext autoreload\n",
    "%autoreload 2\n",
    "%load_ext jupyter_black"
   ]
  },
  {
   "cell_type": "markdown",
   "id": "de1d27a9-83ea-4590-90e7-27e0a7182b16",
   "metadata": {},
   "source": [
    "## 0. Setup\n",
    "\n",
    "### Import libraries"
   ]
  },
  {
   "cell_type": "code",
   "execution_count": 2,
   "id": "277112b9-16ac-465f-beb4-15c6cabbdb2f",
   "metadata": {
    "tags": []
   },
   "outputs": [],
   "source": [
    "import os\n",
    "from shapely.geometry import Polygon\n",
    "\n",
    "os.environ[\"USE_PYGEOS\"] = \"0\"\n",
    "import geopandas\n",
    "import shutil\n",
    "import numpy as np\n",
    "import napari\n",
    "import os\n",
    "import squidpy as sq\n",
    "import scanpy as sc\n",
    "import pandas as pd\n",
    "import anndata\n",
    "import spatialdata as sd\n",
    "from spatialdata.transformations import (\n",
    "    Affine,\n",
    "    Sequence,\n",
    "    Identity,\n",
    "    align_elements_using_landmarks,\n",
    "    get_transformation,\n",
    "    set_transformation,\n",
    ")\n",
    "from napari_spatialdata import Interactive\n",
    "from scipy import sparse"
   ]
  },
  {
   "cell_type": "markdown",
   "id": "10c0e755-8858-4242-b080-3d0d238ffa00",
   "metadata": {},
   "source": [
    "### Paths"
   ]
  },
  {
   "cell_type": "code",
   "execution_count": 3,
   "id": "95e28374-d722-4b02-a63a-c6ebec2f677d",
   "metadata": {
    "tags": []
   },
   "outputs": [
    {
     "name": "stdout",
     "output_type": "stream",
     "text": [
      "current working directory: /data/l989o/dependencies/spatialdata-sandbox/notebooks\n"
     ]
    }
   ],
   "source": [
    "print(\"current working directory:\", os.getcwd())\n",
    "SPATIALDATA_SANDBOX_PATH = \"spatialdata-sandbox\"\n",
    "assert os.path.isdir(\n",
    "    SPATIALDATA_SANDBOX_PATH\n",
    "), f\"{SPATIALDATA_SANDBOX_PATH} not found, please use symlinks to make it available\"\n",
    "GENERATED_DATA_PATH = os.path.join(\n",
    "    SPATIALDATA_SANDBOX_PATH, \"generated_data/xenium_visium_integration\"\n",
    ")\n",
    "assert os.path.isdir(\n",
    "    GENERATED_DATA_PATH\n",
    "), f\"{GENERATED_DATA_PATH} not found, please use symlinks to make it available\"\n",
    "\n",
    "# this file is available on the shared google drive folder; it contains cell types information from an single cell RNA-Seq atlas dataset\n",
    "BC_SC_ATLAS_PATH = os.path.join(GENERATED_DATA_PATH, \"BC_atlas_xe.h5ad\")\n",
    "\n",
    "# this file is provided in the shared google drive folder; it contains landmark points and ROIs that have been drawn and saved with napari-spatialdata\n",
    "LANDMARKS_SDATA_PATH = os.path.join(GENERATED_DATA_PATH, \"sandbox.zarr\")\n",
    "\n",
    "# 1. run spatialdata-sandbox/xenium_rep1_io/download.py\n",
    "# 2. run spatialdata-sandbox/xenium_rep1_io/to_zarr.py to create the zarr files\n",
    "XE_REP1_PATH = os.path.join(SPATIALDATA_SANDBOX_PATH, \"xenium_rep1_io/data.zarr\")\n",
    "\n",
    "# this the output path for xe_rep1\n",
    "XE_REP1_ROI_PATH = os.path.join(GENERATED_DATA_PATH, \"xe_rep1_roi.zarr\")\n",
    "\n",
    "# 1. run spatialdata-sandbox/xenium_rep2_io/download.py\n",
    "# 2. run spatialdata-sandbox/xenium_rep2_io/to_zarr.py to create the zarr files\n",
    "XE_REP2_PATH = os.path.join(SPATIALDATA_SANDBOX_PATH, \"xenium_rep2_io/data.zarr\")\n",
    "\n",
    "# this the output path for xe_rep2\n",
    "XE_REP2_ROI_PATH = os.path.join(GENERATED_DATA_PATH, \"xe_rep2_roi.zarr\")\n",
    "\n",
    "# 1. run spatialdata-sandbox/visium_associated_xenium_io/download.py\n",
    "# 2. run spatialdata-sandbox/visium_associated_xenium_io/to_zarr.py to createa the zarr files\n",
    "VISIUM_PATH = os.path.join(\n",
    "    SPATIALDATA_SANDBOX_PATH, \"visium_associated_xenium_io/data.zarr\"\n",
    ")\n",
    "\n",
    "# this the output path for visium\n",
    "VISIUM_ROI_PATH = os.path.join(GENERATED_DATA_PATH, \"visium_roi.zarr\")\n",
    "\n",
    "paths = [\n",
    "    BC_SC_ATLAS_PATH,\n",
    "    XE_REP1_PATH,\n",
    "    XE_REP2_PATH,\n",
    "    VISIUM_PATH,\n",
    "    LANDMARKS_SDATA_PATH,\n",
    "]\n",
    "for path in paths:\n",
    "    assert os.path.exists(path), f\"{path} not found\""
   ]
  },
  {
   "cell_type": "markdown",
   "id": "eba18760-459e-427e-aff2-1c00ae732e13",
   "metadata": {},
   "source": [
    "### Load data"
   ]
  },
  {
   "cell_type": "code",
   "execution_count": 4,
   "id": "35ead6f3-fae8-40ea-837b-c5474d40d8a3",
   "metadata": {
    "tags": []
   },
   "outputs": [],
   "source": [
    "def annotate_bc_xe(bc_sc_atlas_adata, adata_query):\n",
    "    # adata_query = xe_rep1_adata\n",
    "    genes = list(set(bc_sc_atlas_adata.var_names) & set(adata_query.var_names))\n",
    "    bc_sc_atlas_adata = bc_sc_atlas_adata[:, genes]\n",
    "    adata_query = adata_query[:, genes]\n",
    "    sc.pp.normalize_total(adata_query, target_sum=1e4)\n",
    "    sc.pp.log1p(adata_query)\n",
    "\n",
    "    sc.pp.pca(bc_sc_atlas_adata)\n",
    "    sc.pp.neighbors(bc_sc_atlas_adata)\n",
    "    sc.tl.umap(bc_sc_atlas_adata)\n",
    "    sc.tl.ingest(adata_query, bc_sc_atlas_adata, obs=\"celltype_major\")\n",
    "\n",
    "    ad = {}\n",
    "    for t in adata_query.obs[\"celltype_major\"].unique():\n",
    "        query_sub = adata_query[adata_query.obs[\"celltype_major\"] == t]\n",
    "        ref_sub = bc_sc_atlas_adata[bc_sc_atlas_adata.obs[\"celltype_major\"] == t]\n",
    "        sc.pp.pca(ref_sub)\n",
    "        sc.pp.neighbors(ref_sub)\n",
    "        sc.tl.umap(ref_sub)\n",
    "        sc.tl.ingest(query_sub, ref_sub, obs=\"celltype_minor\", inplace=True)\n",
    "        ad[t] = query_sub\n",
    "\n",
    "    adata_query = anndata.concat(ad)\n",
    "    return adata_query"
   ]
  },
  {
   "cell_type": "code",
   "execution_count": 5,
   "id": "3c290067-ca50-4c1c-bc34-9a6b386c7b3b",
   "metadata": {
    "tags": []
   },
   "outputs": [
    {
     "name": "stdout",
     "output_type": "stream",
     "text": [
      "\u001b[34mINFO    \u001b[0m Instance key `cell_id` could be of type `pd.Categorical`. Consider casting it.                            \n",
      "\u001b[34mINFO    \u001b[0m Instance key `cell_id` could be of type `pd.Categorical`. Consider casting it.                            \n"
     ]
    }
   ],
   "source": [
    "bc_sc_atlas_adata = sc.read(BC_SC_ATLAS_PATH)\n",
    "bc_sc_atlas_adata.obs[\"dataset\"] = \"atlas\"\n",
    "\n",
    "xe_rep1_sdata = sd.read_zarr(XE_REP1_PATH)\n",
    "xe_rep1_adata = xe_rep1_sdata.table\n",
    "xe_rep1_adata.obs[\"dataset\"] = \"xe_rep1\"\n",
    "\n",
    "xe_rep2_sdata = sd.read_zarr(XE_REP2_PATH)\n",
    "xe_rep2_adata = xe_rep2_sdata.table\n",
    "xe_rep2_adata.obs[\"dataset\"] = \"xe_rep2\"\n",
    "\n",
    "visium_sdata = sd.read_zarr(VISIUM_PATH)\n",
    "visium_adata = visium_sdata.table\n",
    "visium_adata.obs[\"dataset\"] = \"visium\"\n",
    "\n",
    "landmarks_sdata = sd.read_zarr(LANDMARKS_SDATA_PATH)"
   ]
  },
  {
   "cell_type": "code",
   "execution_count": 6,
   "id": "3b7cbc0e-fe77-427a-966e-6854aa73696c",
   "metadata": {
    "tags": []
   },
   "outputs": [
    {
     "data": {
      "text/plain": [
       "SpatialData object with:\n",
       "├── Images\n",
       "│     ├── 'morphology_focus': MultiscaleSpatialImage[cyx] (1, 25778, 35416), (1, 12889, 17708), (1, 6444, 8854), (1, 3222, 4427), (1, 1611, 2213)\n",
       "│     └── 'morphology_mip': MultiscaleSpatialImage[cyx] (1, 25778, 35416), (1, 12889, 17708), (1, 6444, 8854), (1, 3222, 4427), (1, 1611, 2213)\n",
       "├── Points\n",
       "│     └── 'transcripts': DataFrame with shape: (42638083, 9) (3D points)\n",
       "├── Shapes\n",
       "│     ├── 'cell_boundaries': GeoDataFrame shape: (167780, 1) (2D shapes)\n",
       "│     ├── 'cell_circles': GeoDataFrame shape: (167780, 2) (2D shapes)\n",
       "│     └── 'nucleus_boundaries': GeoDataFrame shape: (167780, 1) (2D shapes)\n",
       "└── Table\n",
       "      └── AnnData object with n_obs × n_vars = 167780 × 313\n",
       "    obs: 'cell_id', 'transcript_counts', 'control_probe_counts', 'control_codeword_counts', 'total_counts', 'cell_area', 'nucleus_area', 'region', 'dataset', 'celltype_major', 'celltype_minor'\n",
       "    var: 'gene_ids', 'feature_types', 'genome'\n",
       "    uns: 'spatialdata_attrs'\n",
       "    obsm: 'spatial': AnnData (167780, 313)\n",
       "with coordinate systems:\n",
       "▸ 'aligned', with elements:\n",
       "        morphology_focus (Images), morphology_mip (Images), transcripts (Points), cell_boundaries (Shapes), cell_circles (Shapes), nucleus_boundaries (Shapes)\n",
       "▸ 'global', with elements:\n",
       "        morphology_focus (Images), morphology_mip (Images), transcripts (Points), cell_boundaries (Shapes), cell_circles (Shapes), nucleus_boundaries (Shapes)"
      ]
     },
     "execution_count": 6,
     "metadata": {},
     "output_type": "execute_result"
    }
   ],
   "source": [
    "xe_rep1_sdata"
   ]
  },
  {
   "cell_type": "code",
   "execution_count": 7,
   "id": "9d39a87b-3610-4de4-aaf8-9ba3fb9e2a36",
   "metadata": {
    "tags": []
   },
   "outputs": [
    {
     "data": {
      "text/plain": [
       "SpatialData object with:\n",
       "├── Images\n",
       "│     ├── 'morphology_focus': MultiscaleSpatialImage[cyx] (1, 25779, 35411), (1, 12889, 17705), (1, 6444, 8852), (1, 3222, 4426), (1, 1611, 2213)\n",
       "│     └── 'morphology_mip': MultiscaleSpatialImage[cyx] (1, 25779, 35411), (1, 12889, 17705), (1, 6444, 8852), (1, 3222, 4426), (1, 1611, 2213)\n",
       "├── Points\n",
       "│     └── 'transcripts': DataFrame with shape: (31997227, 9) (3D points)\n",
       "├── Shapes\n",
       "│     ├── 'cell_boundaries': GeoDataFrame shape: (118752, 1) (2D shapes)\n",
       "│     ├── 'cell_circles': GeoDataFrame shape: (118752, 2) (2D shapes)\n",
       "│     └── 'nucleus_boundaries': GeoDataFrame shape: (118752, 1) (2D shapes)\n",
       "└── Table\n",
       "      └── AnnData object with n_obs × n_vars = 118752 × 313\n",
       "    obs: 'cell_id', 'transcript_counts', 'control_probe_counts', 'control_codeword_counts', 'total_counts', 'cell_area', 'nucleus_area', 'region', 'dataset', 'celltype_major', 'celltype_minor'\n",
       "    var: 'gene_ids', 'feature_types', 'genome'\n",
       "    uns: 'spatialdata_attrs'\n",
       "    obsm: 'spatial': AnnData (118752, 313)\n",
       "with coordinate systems:\n",
       "▸ 'aligned', with elements:\n",
       "        morphology_focus (Images), morphology_mip (Images), transcripts (Points), cell_boundaries (Shapes), cell_circles (Shapes), nucleus_boundaries (Shapes)\n",
       "▸ 'global', with elements:\n",
       "        morphology_focus (Images), morphology_mip (Images), transcripts (Points), cell_boundaries (Shapes), cell_circles (Shapes), nucleus_boundaries (Shapes)"
      ]
     },
     "execution_count": 7,
     "metadata": {},
     "output_type": "execute_result"
    }
   ],
   "source": [
    "xe_rep2_sdata"
   ]
  },
  {
   "cell_type": "code",
   "execution_count": 8,
   "id": "12a8b6a0-951b-4b35-91e8-a60eb85cdb8b",
   "metadata": {
    "tags": []
   },
   "outputs": [
    {
     "data": {
      "text/plain": [
       "SpatialData object with:\n",
       "├── Images\n",
       "│     ├── 'CytAssist_FFPE_Human_Breast_Cancer_full_image': MultiscaleSpatialImage[cyx] (3, 21571, 19505), (3, 10785, 9752), (3, 5392, 4876), (3, 2696, 2438), (3, 1348, 1219)\n",
       "│     ├── 'CytAssist_FFPE_Human_Breast_Cancer_hires_image': SpatialImage[cyx] (3, 2000, 1809)\n",
       "│     └── 'CytAssist_FFPE_Human_Breast_Cancer_lowres_image': SpatialImage[cyx] (3, 600, 543)\n",
       "├── Shapes\n",
       "│     └── 'CytAssist_FFPE_Human_Breast_Cancer': GeoDataFrame shape: (4992, 2) (2D shapes)\n",
       "└── Table\n",
       "      └── AnnData object with n_obs × n_vars = 4992 × 18085\n",
       "    obs: 'in_tissue', 'array_row', 'array_col', 'spot_id', 'region', 'dataset'\n",
       "    var: 'gene_ids', 'feature_types', 'genome'\n",
       "    uns: 'spatial', 'spatialdata_attrs'\n",
       "    obsm: 'spatial': AnnData (4992, 18085)\n",
       "with coordinate systems:\n",
       "▸ 'aligned', with elements:\n",
       "        CytAssist_FFPE_Human_Breast_Cancer_full_image (Images), CytAssist_FFPE_Human_Breast_Cancer (Shapes)\n",
       "▸ 'downscaled_hires', with elements:\n",
       "        CytAssist_FFPE_Human_Breast_Cancer_hires_image (Images), CytAssist_FFPE_Human_Breast_Cancer (Shapes)\n",
       "▸ 'downscaled_lowres', with elements:\n",
       "        CytAssist_FFPE_Human_Breast_Cancer_lowres_image (Images), CytAssist_FFPE_Human_Breast_Cancer (Shapes)\n",
       "▸ 'global', with elements:\n",
       "        CytAssist_FFPE_Human_Breast_Cancer_full_image (Images), CytAssist_FFPE_Human_Breast_Cancer (Shapes)"
      ]
     },
     "execution_count": 8,
     "metadata": {},
     "output_type": "execute_result"
    }
   ],
   "source": [
    "visium_sdata"
   ]
  },
  {
   "cell_type": "code",
   "execution_count": 9,
   "id": "0f6175ae-ca26-41c0-90a0-990d9a370f32",
   "metadata": {
    "tags": []
   },
   "outputs": [
    {
     "data": {
      "text/plain": [
       "SpatialData object with:\n",
       "└── Shapes\n",
       "      ├── 'box': GeoDataFrame shape: (1, 1) (2D shapes)\n",
       "      ├── 'rois': GeoDataFrame shape: (4, 1) (2D shapes)\n",
       "      ├── 'visium_lm': GeoDataFrame shape: (3, 2) (2D shapes)\n",
       "      ├── 'xe_rep1_lm': GeoDataFrame shape: (3, 2) (2D shapes)\n",
       "      └── 'xe_rep2_lm': GeoDataFrame shape: (3, 2) (2D shapes)\n",
       "with coordinate systems:\n",
       "▸ 'global', with elements:\n",
       "        box (Shapes), rois (Shapes), visium_lm (Shapes), xe_rep1_lm (Shapes), xe_rep2_lm (Shapes)"
      ]
     },
     "execution_count": 9,
     "metadata": {},
     "output_type": "execute_result"
    }
   ],
   "source": [
    "landmarks_sdata"
   ]
  },
  {
   "cell_type": "code",
   "execution_count": 10,
   "id": "d91f0492-a833-45a6-b4b5-4b912a4adfd1",
   "metadata": {
    "tags": []
   },
   "outputs": [
    {
     "name": "stdout",
     "output_type": "stream",
     "text": [
      "CPU times: user 673 ms, sys: 622 ms, total: 1.29 s\n",
      "Wall time: 1.2 s\n"
     ]
    }
   ],
   "source": [
    "%%time\n",
    "\n",
    "CELL_TYPES_ALREADY_TRANSFERRED = True\n",
    "if not CELL_TYPES_ALREADY_TRANSFERRED:\n",
    "    # this takes a while, go for a walk!\n",
    "    xe_rep1_annotated = annotate_bc_xe(bc_sc_atlas_adata, xe_rep1_adata)\n",
    "    xe_rep2_annotated = annotate_bc_xe(bc_sc_atlas_adata, xe_rep2_adata)\n",
    "    xe_rep1_annotated.write(os.path.join(GENERATED_DATA_PATH, \"xe_rep1_annotated.h5ad\"))\n",
    "    xe_rep2_annotated.write(os.path.join(GENERATED_DATA_PATH, \"xe_rep2_annotated.h5ad\"))\n",
    "else:\n",
    "    xe_rep1_annotated = sc.read(\n",
    "        os.path.join(GENERATED_DATA_PATH, \"xe_rep1_annotated.h5ad\")\n",
    "    )\n",
    "    xe_rep2_annotated = sc.read(\n",
    "        os.path.join(GENERATED_DATA_PATH, \"xe_rep2_annotated.h5ad\")\n",
    "    )"
   ]
  },
  {
   "cell_type": "code",
   "execution_count": 11,
   "id": "2cbc5650-83de-429b-81e1-7d359334ede1",
   "metadata": {
    "tags": []
   },
   "outputs": [],
   "source": [
    "xe_rep1_sdata.table.obs[[\"celltype_major\", \"celltype_minor\"]] = xe_rep1_annotated.obs[\n",
    "    [\"celltype_major\", \"celltype_minor\"]\n",
    "]\n",
    "xe_rep2_sdata.table.obs[[\"celltype_major\", \"celltype_minor\"]] = xe_rep2_annotated.obs[\n",
    "    [\"celltype_major\", \"celltype_minor\"]\n",
    "]"
   ]
  },
  {
   "cell_type": "markdown",
   "id": "4b90553a-eccc-432c-a886-86dfefa303a5",
   "metadata": {},
   "source": [
    "## 1. Process "
   ]
  },
  {
   "cell_type": "markdown",
   "id": "ff1e6759-0207-449e-b8b8-d619d1a545f8",
   "metadata": {},
   "source": [
    "### 1.1 Alignment using 3 landmarks points\n",
    "\n",
    "We take `xe_rep1` as the reference section and align the other two to it. The new coordinate systems is called `aligned`."
   ]
  },
  {
   "cell_type": "code",
   "execution_count": 12,
   "id": "d68cc87a-2175-40c5-bbed-0dbb239afd23",
   "metadata": {
    "scrolled": true,
    "tags": []
   },
   "outputs": [],
   "source": [
    "xenium_subset = sd.SpatialData(\n",
    "    images={\n",
    "        \"xe_rep1\": xe_rep1_sdata.images[\"morphology_mip\"],\n",
    "        \"xe_rep2\": xe_rep2_sdata.images[\"morphology_mip\"],\n",
    "        \"visium\": visium_sdata.images[\"CytAssist_FFPE_Human_Breast_Cancer_full_image\"],\n",
    "    }\n",
    ")"
   ]
  },
  {
   "cell_type": "code",
   "execution_count": 13,
   "id": "dc66b8fb-a9b4-49fa-b7b6-e63412182286",
   "metadata": {
    "tags": []
   },
   "outputs": [],
   "source": [
    "# this creates the 'aligned` coordinate system, maps the moving (xenium rep 2) and reference elements (xenium rep 1) to that system\n",
    "affine_rep2_to_rep1 = align_elements_using_landmarks(\n",
    "    references_coords=landmarks_sdata.shapes[\"xe_rep1_lm\"],\n",
    "    moving_coords=landmarks_sdata.shapes[\"xe_rep2_lm\"],\n",
    "    reference_element=xenium_subset.images[\"xe_rep1\"],\n",
    "    moving_element=xenium_subset.images[\"xe_rep2\"],\n",
    "    reference_coordinate_system=\"global\",\n",
    "    moving_coordinate_system=\"global\",\n",
    "    new_coordinate_system=\"aligned\",\n",
    ")"
   ]
  },
  {
   "cell_type": "code",
   "execution_count": 14,
   "id": "086a15a1-b459-433e-bcc3-c6fbb0e9293f",
   "metadata": {
    "tags": []
   },
   "outputs": [],
   "source": [
    "# same as above. Now the moving element is visium and the reference element is again xenium rep 1\n",
    "affine_visium_to_rep1 = align_elements_using_landmarks(\n",
    "    references_coords=landmarks_sdata.shapes[\"xe_rep1_lm\"],\n",
    "    moving_coords=landmarks_sdata.shapes[\"visium_lm\"],\n",
    "    reference_element=xenium_subset.images[\"xe_rep1\"],\n",
    "    moving_element=xenium_subset.images[\"visium\"],\n",
    "    reference_coordinate_system=\"global\",\n",
    "    moving_coordinate_system=\"global\",\n",
    "    new_coordinate_system=\"aligned\",\n",
    ")"
   ]
  },
  {
   "cell_type": "raw",
   "id": "1a0faa5f-5f36-4b0f-aecb-8faa02fd6699",
   "metadata": {
    "tags": []
   },
   "source": [
    "from napari_spatialdata import Interactive\n",
    "\n",
    "Interactive([xenium_subset, landmarks_sdata])"
   ]
  },
  {
   "cell_type": "markdown",
   "id": "906678c0-cb1e-4a1e-84c6-adb681be0a87",
   "metadata": {},
   "source": [
    "## 1.2. Transforming transcripts for the xenium replicates"
   ]
  },
  {
   "cell_type": "markdown",
   "id": "023c83bb-792c-406c-873d-b20a2bd0617a",
   "metadata": {},
   "source": [
    "For each element of xenium rep 1, xenium rep 2 and of visium, let's add a transformation to the coordinate system `'aligned'`. This instruct the framework how to map each element to the `'aligned'` coordinate system.\n",
    "\n",
    "This part of the code will be simplified and become more ergonomic after the new coordinate systems refactoring."
   ]
  },
  {
   "cell_type": "code",
   "execution_count": 15,
   "id": "818d3b48-f3b3-446f-ad7f-708f52b66185",
   "metadata": {
    "tags": []
   },
   "outputs": [],
   "source": [
    "# we use an identity for xenium rep 1 since we use it as a reference\n",
    "from spatialdata import SpatialData\n",
    "from spatialdata.transformations import BaseTransformation\n",
    "\n",
    "\n",
    "def postpone_transformation(\n",
    "    sdata: SpatialData,\n",
    "    transformation: BaseTransformation,\n",
    "    source_coordinate_system: str,\n",
    "    target_coordinate_system: str,\n",
    "):\n",
    "    for element_type, element_name, element in sdata._gen_elements():\n",
    "        old_transformations = get_transformation(element, get_all=True)\n",
    "        if source_coordinate_system in old_transformations:\n",
    "            old_transformation = old_transformations[source_coordinate_system]\n",
    "            sequence = Sequence([old_transformation, transformation])\n",
    "            set_transformation(element, sequence, target_coordinate_system)\n",
    "\n",
    "\n",
    "postpone_transformation(\n",
    "    sdata=xe_rep1_sdata,\n",
    "    transformation=Identity(),\n",
    "    source_coordinate_system=\"global\",\n",
    "    target_coordinate_system=\"aligned\",\n",
    ")\n",
    "postpone_transformation(\n",
    "    sdata=xe_rep2_sdata,\n",
    "    transformation=affine_rep2_to_rep1,\n",
    "    source_coordinate_system=\"global\",\n",
    "    target_coordinate_system=\"aligned\",\n",
    ")\n",
    "postpone_transformation(\n",
    "    sdata=visium_sdata,\n",
    "    transformation=affine_visium_to_rep1,\n",
    "    source_coordinate_system=\"global\",\n",
    "    target_coordinate_system=\"aligned\",\n",
    ")"
   ]
  },
  {
   "cell_type": "raw",
   "id": "ca29f8fe-2732-4dab-898f-d442cd636009",
   "metadata": {
    "tags": []
   },
   "source": [
    "from napari_spatialdata import Interactive\n",
    "Interactive([xe_rep1_sdata, xe_rep2_sdata, visium_sdata])"
   ]
  },
  {
   "cell_type": "markdown",
   "id": "b904bf85-4d27-4c7b-8307-fe6e4c1f4fc1",
   "metadata": {},
   "source": [
    "## 1.3. Transforming cells and spots\n"
   ]
  },
  {
   "cell_type": "code",
   "execution_count": 16,
   "id": "24b7cfcc-9b81-4842-a6cc-ee8a898ad102",
   "metadata": {
    "tags": []
   },
   "outputs": [
    {
     "data": {
      "text/plain": [
       "SpatialData object with:\n",
       "├── Images\n",
       "│     ├── 'morphology_focus': MultiscaleSpatialImage[cyx] (1, 25778, 35416), (1, 12889, 17708), (1, 6444, 8854), (1, 3222, 4427), (1, 1611, 2213)\n",
       "│     └── 'morphology_mip': MultiscaleSpatialImage[cyx] (1, 25778, 35416), (1, 12889, 17708), (1, 6444, 8854), (1, 3222, 4427), (1, 1611, 2213)\n",
       "├── Points\n",
       "│     └── 'transcripts': DataFrame with shape: (42638083, 9) (3D points)\n",
       "├── Shapes\n",
       "│     ├── 'cell_boundaries': GeoDataFrame shape: (167780, 1) (2D shapes)\n",
       "│     ├── 'cell_circles': GeoDataFrame shape: (167780, 2) (2D shapes)\n",
       "│     └── 'nucleus_boundaries': GeoDataFrame shape: (167780, 1) (2D shapes)\n",
       "└── Table\n",
       "      └── AnnData object with n_obs × n_vars = 167780 × 313\n",
       "    obs: 'cell_id', 'transcript_counts', 'control_probe_counts', 'control_codeword_counts', 'total_counts', 'cell_area', 'nucleus_area', 'region', 'dataset', 'celltype_major', 'celltype_minor'\n",
       "    var: 'gene_ids', 'feature_types', 'genome'\n",
       "    uns: 'spatialdata_attrs'\n",
       "    obsm: 'spatial': AnnData (167780, 313)\n",
       "with coordinate systems:\n",
       "▸ 'aligned', with elements:\n",
       "        morphology_focus (Images), morphology_mip (Images), transcripts (Points), cell_boundaries (Shapes), cell_circles (Shapes), nucleus_boundaries (Shapes)\n",
       "▸ 'global', with elements:\n",
       "        morphology_focus (Images), morphology_mip (Images), transcripts (Points), cell_boundaries (Shapes), cell_circles (Shapes), nucleus_boundaries (Shapes)"
      ]
     },
     "execution_count": 16,
     "metadata": {},
     "output_type": "execute_result"
    }
   ],
   "source": [
    "xe_rep1_sdata"
   ]
  },
  {
   "cell_type": "code",
   "execution_count": 17,
   "id": "0e933e79-d199-4868-9699-e356319caad3",
   "metadata": {
    "tags": []
   },
   "outputs": [
    {
     "name": "stdout",
     "output_type": "stream",
     "text": [
      "\u001b[34mINFO    \u001b[0m Instance key `cell_id` could be of type `pd.Categorical`. Consider casting it.                            \n",
      "\u001b[34mINFO    \u001b[0m Instance key `cell_id` could be of type `pd.Categorical`. Consider casting it.                            \n",
      "\u001b[34mINFO    \u001b[0m Instance key `cell_id` could be of type `pd.Categorical`. Consider casting it.                            \n",
      "\u001b[34mINFO    \u001b[0m Instance key `cell_id` could be of type `pd.Categorical`. Consider casting it.                            \n",
      "\u001b[34mINFO    \u001b[0m Instance key `cell_id` could be of type `pd.Categorical`. Consider casting it.                            \n",
      "\u001b[34mINFO    \u001b[0m Instance key `cell_id` could be of type `pd.Categorical`. Consider casting it.                            \n",
      "\u001b[34mINFO    \u001b[0m Instance key `cell_id` could be of type `pd.Categorical`. Consider casting it.                            \n",
      "\u001b[34mINFO    \u001b[0m Instance key `cell_id` could be of type `pd.Categorical`. Consider casting it.                            \n",
      "CPU times: user 24.3 s, sys: 4.54 s, total: 28.8 s\n",
      "Wall time: 28.3 s\n"
     ]
    }
   ],
   "source": [
    "%%time\n",
    "# let's create a copy of the spatialdata objects and transform the data (as opposed to just set the transformation as done above)\n",
    "xe_rep1_transformed_sdata = sd.SpatialData(\n",
    "    shapes=xe_rep1_sdata.shapes, points=xe_rep1_sdata.points, table=xe_rep1_sdata.table\n",
    ")\n",
    "\n",
    "xe_rep2_transformed_sdata = sd.SpatialData(\n",
    "    shapes=xe_rep2_sdata.shapes, points=xe_rep2_sdata.points, table=xe_rep2_sdata.table\n",
    ")\n",
    "\n",
    "visium_transformed_sdata = sd.SpatialData(\n",
    "    shapes=visium_sdata.shapes, points=visium_sdata.points, table=visium_sdata.table\n",
    ")\n",
    "\n",
    "xe_rep1_transformed_sdata = xe_rep1_transformed_sdata.transform_to_coordinate_system(\n",
    "    \"aligned\"\n",
    ")\n",
    "xe_rep2_transformed_sdata = xe_rep2_transformed_sdata.transform_to_coordinate_system(\n",
    "    \"aligned\"\n",
    ")\n",
    "visium_transformed_sdata = visium_transformed_sdata.transform_to_coordinate_system(\n",
    "    \"aligned\"\n",
    ")"
   ]
  },
  {
   "cell_type": "raw",
   "id": "5f387c2b-6c9b-4c98-8d4e-82e6d55549a5",
   "metadata": {
    "tags": []
   },
   "source": [
    "from napari_spatialdata import Interactive\n",
    "Interactive([xe_rep1_roi_sdata, xe_rep2_roi_sdata, visium_roi_sdata], points=False)"
   ]
  },
  {
   "cell_type": "markdown",
   "id": "835f274d-3104-48d2-a04a-098c688bbc40",
   "metadata": {},
   "source": [
    "## 1.4. Find the shared area between three datasets\n",
    "This is a trick that we used to work around napari polygon selections. We take the intersection of the convex hulls of the transformed (aligned) cells/spots in order to find the shared area. This could be simply done by a napari selection, but I couldn't do this on my machine. "
   ]
  },
  {
   "cell_type": "markdown",
   "id": "bcde4caf-48c2-41e0-a97b-788472913f63",
   "metadata": {},
   "source": [
    "We don't execute the following cells because the convec hull approach is computational expensive and we already have the handrawn annotation of the interection area."
   ]
  },
  {
   "cell_type": "raw",
   "id": "b8b0d07e-d8e6-4977-b1be-b69d4a40b396",
   "metadata": {
    "tags": []
   },
   "source": [
    "%%time\n",
    "# slow, use the cell circles, for better performance\n",
    "xe_rep1_polygon = xe_rep1_cells_aligned.unary_union.convex_hull"
   ]
  },
  {
   "cell_type": "raw",
   "id": "a453d7c4-3016-4972-a99d-837c955ea659",
   "metadata": {
    "tags": []
   },
   "source": [
    "%%time\n",
    "# slow, use the cell circles, for better performance\n",
    "xe_rep2_polygon = xe_rep2_cells_aligned.unary_union.convex_hull"
   ]
  },
  {
   "cell_type": "raw",
   "id": "57ded0f4-8e49-4767-8f2c-95aace90bf1a",
   "metadata": {
    "tags": []
   },
   "source": [
    "visium_polygon  = visium_spots_aligned.unary_union.convex_hull"
   ]
  },
  {
   "cell_type": "raw",
   "id": "ee704582-8246-4b5f-ad78-ad0a618c5da0",
   "metadata": {
    "tags": []
   },
   "source": [
    "pp = visium_polygon.intersection(xe_rep2_polygon.intersection(xe_rep1_polygon))\n",
    "pp = geopandas.GeoDataFrame(geometry=geopandas.GeoSeries(pp))"
   ]
  },
  {
   "cell_type": "markdown",
   "id": "fec2ce8f-02b3-49d0-ac36-8c1b56782900",
   "metadata": {},
   "source": [
    "Instead of the above approach, we load pre-saved data from disk.\n",
    "TODO: make the convex-hull code faster and decide if using that code instead"
   ]
  },
  {
   "cell_type": "code",
   "execution_count": 18,
   "id": "85e13914-7ec3-46ec-8da7-8944da0aa79f",
   "metadata": {
    "tags": []
   },
   "outputs": [],
   "source": [
    "from geopandas import GeoSeries\n",
    "\n",
    "\n",
    "def get_extent(geoseries: GeoSeries):\n",
    "    min_x, min_y = np.min(geoseries.bounds.iloc[:, :2], axis=0)\n",
    "    max_x, max_y = np.max(geoseries.bounds.iloc[:, 2:], axis=0)\n",
    "    print(f\"min_x = {min_x}, min_y = {min_y}, max_x = {max_x}, max_y = {max_y}\")"
   ]
  },
  {
   "cell_type": "code",
   "execution_count": 19,
   "id": "67e7af5d-b9e9-4b84-b127-efb55b1342a4",
   "metadata": {
    "tags": []
   },
   "outputs": [
    {
     "data": {
      "image/svg+xml": [
       "<svg xmlns=\"http://www.w3.org/2000/svg\" xmlns:xlink=\"http://www.w3.org/1999/xlink\" width=\"300\" height=\"300\" viewBox=\"-1355.8569197161169 6993.105878557837 37019.77407969631 20167.240548875372\" preserveAspectRatio=\"xMinYMin meet\"><g transform=\"matrix(1,0,0,-1,0,34153.45230599105)\"><path fill-rule=\"evenodd\" fill=\"#66cc99\" stroke=\"#555555\" stroke-width=\"246.79849386464207\" opacity=\"0.6\" d=\"M 21.34893437256187,8364.208622250293 L 34292.814416287736,9565.637770390313 L 33729.88869259738,25789.243683740755 L 15.245823976339238,25763.451935741257 L 21.34893437256187,8364.208622250293 z\" /></g></svg>"
      ],
      "text/plain": [
       "<POLYGON ((21.349 8364.209, 34292.814 9565.638, 33729.889 25789.244, 15.246 ...>"
      ]
     },
     "execution_count": 19,
     "metadata": {},
     "output_type": "execute_result"
    }
   ],
   "source": [
    "# we manually draw the polygon that contains the common area between the samples\n",
    "box = landmarks_sdata.shapes[\"box\"]\n",
    "# let's get the Polygon object out of the GeoDataFrame\n",
    "box = box.iloc[0][0]\n",
    "box"
   ]
  },
  {
   "cell_type": "markdown",
   "id": "ba463d4a-97c2-482e-b7ee-4ac4db21c21a",
   "metadata": {},
   "source": [
    "The functions below implement spatial queries operations on polygons. These functions will be implemented in SpatialData and the code will become simpler."
   ]
  },
  {
   "cell_type": "code",
   "execution_count": 20,
   "id": "a806023c-4d13-4dd7-9c20-920ac8cf02a2",
   "metadata": {
    "tags": []
   },
   "outputs": [],
   "source": [
    "from dask.dataframe.core import DataFrame as DaskDataFrame\n",
    "from geopandas import GeoDataFrame\n",
    "\n",
    "\n",
    "def points_dask_dataframe_to_geopandas(points: DaskDataFrame) -> GeoDataFrame:\n",
    "    # let's ignore the z component here\n",
    "    points_gdf = GeoDataFrame(\n",
    "        geometry=geopandas.points_from_xy(points[\"x\"], points[\"y\"])\n",
    "    )\n",
    "    for c in points.columns:\n",
    "        points_gdf[c] = points[c]\n",
    "    return points_gdf\n",
    "\n",
    "\n",
    "def points_geopandas_to_dask_dataframe(gdf: GeoDataFrame) -> DaskDataFrame:\n",
    "    # convert the GeoDataFrame to a Dask DataFrame\n",
    "    ddf = dd.from_pandas(gdf[gdf.columns.drop(\"geometry\")], npartitions=1)\n",
    "    ddf[\"x\"] = gdf.geometry.x\n",
    "    ddf[\"y\"] = gdf.geometry.y\n",
    "    # parse\n",
    "    ddf = PointsModel.parse(ddf, coordinates={\"x\": \"x\", \"y\": \"y\"})\n",
    "    return ddf"
   ]
  },
  {
   "cell_type": "code",
   "execution_count": 21,
   "id": "8478b24f-0f6a-4c0f-9db7-6fa8324d0fb7",
   "metadata": {
    "tags": []
   },
   "outputs": [
    {
     "name": "stdout",
     "output_type": "stream",
     "text": [
      "CPU times: user 12 µs, sys: 0 ns, total: 12 µs\n",
      "Wall time: 13.4 µs\n"
     ]
    }
   ],
   "source": [
    "%%time\n",
    "from shapely import Polygon\n",
    "from spatialdata.models import ShapesModel, PointsModel\n",
    "from dask.dataframe.core import DataFrame as DaskDataFrame\n",
    "import dask.dataframe as dd\n",
    "\n",
    "\n",
    "def spatial_query_shapes_and_points_by_polygon(\n",
    "    sdata: SpatialData, polygon: Polygon, target_coordinate_system: str\n",
    "):\n",
    "    new_shapes = {}\n",
    "    for shapes_name, shapes in sdata.shapes.items():\n",
    "        if \"__old_index\" in shapes.columns:\n",
    "            assert np.all(shapes[\"__old_index\"] == shapes.index)\n",
    "        else:\n",
    "            shapes[\"__old_index\"] = shapes.index\n",
    "        # indices = shapes.intersects(polygon)\n",
    "        # indices = shapes.geometry.apply(lambda x: x.intersects(polygon).values.tolist()[0][0])\n",
    "        indices = shapes.geometry.apply(lambda x: x.intersects(polygon))\n",
    "        if np.sum(indices) == 0:\n",
    "            raise ValueError(\"we expect at least one shape\")\n",
    "        queried_shapes = shapes[indices]\n",
    "        queried_shapes.index = queried_shapes[\"__old_index\"]\n",
    "        del shapes[\"__old_index\"]\n",
    "        del queried_shapes[\"__old_index\"]\n",
    "        transformation = get_transformation(shapes, target_coordinate_system)\n",
    "        queried_shapes = ShapesModel.parse(queried_shapes)\n",
    "        set_transformation(queried_shapes, transformation, target_coordinate_system)\n",
    "        new_shapes[shapes_name] = queried_shapes\n",
    "\n",
    "    new_points = {}\n",
    "    for points_name, points in sdata.points.items():\n",
    "        # let's ignore the z component here\n",
    "        points_gdf = points_dask_dataframe_to_geopandas(points)\n",
    "        # queried_points = points_gdf.intersects(pp)\n",
    "        indices = points_gdf.geometry.intersects(polygon)\n",
    "        if np.sum(indices) == 0:\n",
    "            raise ValueError(\"we expect at least one point\")\n",
    "        queried_points = points_gdf[indices]\n",
    "        ddf = points_geopandas_to_dask_dataframe(queried_points)\n",
    "        new_points[points_name] = ddf\n",
    "\n",
    "    return SpatialData(shapes=new_shapes, points=new_points, table=sdata.table)"
   ]
  },
  {
   "cell_type": "code",
   "execution_count": 22,
   "id": "a73bfa19-6e55-499b-bfae-e8885652104a",
   "metadata": {
    "tags": []
   },
   "outputs": [
    {
     "name": "stdout",
     "output_type": "stream",
     "text": [
      "CPU times: user 3min, sys: 1min 7s, total: 4min 7s\n",
      "Wall time: 3min 55s\n"
     ]
    }
   ],
   "source": [
    "%%time\n",
    "# let's keep only the shapes inside the query polygon (roi)\n",
    "# and then let's manually filter the table to keep only the rows that are inside the polygon pp\n",
    "xe_rep1_roi_sdata = spatial_query_shapes_and_points_by_polygon(\n",
    "    sdata=xe_rep1_transformed_sdata,\n",
    "    polygon=box,\n",
    "    target_coordinate_system=\"aligned\",\n",
    ")"
   ]
  },
  {
   "cell_type": "code",
   "execution_count": 23,
   "id": "e494d684-df5e-4190-9130-aecae80076f5",
   "metadata": {
    "tags": []
   },
   "outputs": [],
   "source": [
    "merged = pd.merge(\n",
    "    xe_rep1_roi_sdata.table.obs[[\"cell_id\"]],\n",
    "    xe_rep1_roi_sdata.shapes[\"cell_circles\"],\n",
    "    how=\"right\",\n",
    "    left_on=\"cell_id\",\n",
    "    right_index=True,\n",
    ")\n",
    "filtered_table = xe_rep1_roi_sdata.table[merged.index].copy()\n",
    "del xe_rep1_roi_sdata.table\n",
    "xe_rep1_roi_sdata.table = filtered_table"
   ]
  },
  {
   "cell_type": "code",
   "execution_count": 24,
   "id": "a46ad5ca-03d9-4069-90b0-13a9767cd71c",
   "metadata": {
    "tags": []
   },
   "outputs": [
    {
     "name": "stdout",
     "output_type": "stream",
     "text": [
      "CPU times: user 2min 51s, sys: 1min 33s, total: 4min 24s\n",
      "Wall time: 3min 50s\n"
     ]
    }
   ],
   "source": [
    "%%time\n",
    "xe_rep2_roi_sdata = spatial_query_shapes_and_points_by_polygon(\n",
    "    sdata=xe_rep2_transformed_sdata,\n",
    "    polygon=box,\n",
    "    target_coordinate_system=\"aligned\",\n",
    ")"
   ]
  },
  {
   "cell_type": "code",
   "execution_count": 25,
   "id": "2d2a84c4-0a88-4db8-94df-eea85fd163e8",
   "metadata": {
    "tags": []
   },
   "outputs": [],
   "source": [
    "merged = pd.merge(\n",
    "    xe_rep2_roi_sdata.table.obs[[\"cell_id\"]],\n",
    "    xe_rep2_roi_sdata.shapes[\"cell_circles\"],\n",
    "    how=\"right\",\n",
    "    left_on=\"cell_id\",\n",
    "    right_index=True,\n",
    ")\n",
    "filtered_table = xe_rep2_roi_sdata.table[merged.index].copy()\n",
    "del xe_rep2_roi_sdata.table\n",
    "xe_rep2_roi_sdata.table = filtered_table"
   ]
  },
  {
   "cell_type": "code",
   "execution_count": 26,
   "id": "e2239559-6c08-4faf-b070-733f3ffba57c",
   "metadata": {
    "tags": []
   },
   "outputs": [
    {
     "name": "stdout",
     "output_type": "stream",
     "text": [
      "CPU times: user 44.5 ms, sys: 778 µs, total: 45.2 ms\n",
      "Wall time: 44.7 ms\n"
     ]
    }
   ],
   "source": [
    "%%time\n",
    "visium_roi_sdata = spatial_query_shapes_and_points_by_polygon(\n",
    "    sdata=visium_transformed_sdata,\n",
    "    polygon=box,\n",
    "    target_coordinate_system=\"aligned\",\n",
    ")"
   ]
  },
  {
   "cell_type": "code",
   "execution_count": 27,
   "id": "34e405a7-deb6-4bb3-a767-1eccc02c3b50",
   "metadata": {
    "tags": []
   },
   "outputs": [],
   "source": [
    "merged = pd.merge(\n",
    "    visium_roi_sdata.table.obs[[\"spot_id\"]],\n",
    "    visium_roi_sdata.shapes[\"CytAssist_FFPE_Human_Breast_Cancer\"],\n",
    "    how=\"right\",\n",
    "    left_on=\"spot_id\",\n",
    "    right_index=True,\n",
    ")\n",
    "filtered_table = visium_roi_sdata.table[\n",
    "    visium_roi_sdata.shapes[\"CytAssist_FFPE_Human_Breast_Cancer\"].index\n",
    "].copy()\n",
    "del visium_roi_sdata.table\n",
    "visium_roi_sdata.table = filtered_table"
   ]
  },
  {
   "cell_type": "raw",
   "id": "a749c65c-aea0-47d7-a472-38b96cf4c0ae",
   "metadata": {
    "tags": []
   },
   "source": [
    "from napari_spatialdata import Interactive\n",
    "import napari\n",
    "interactive = Interactive([xe_rep1_roi_sdata, xe_rep2_roi_sdata, visium_roi_sdata], points=False, headless=True)\n",
    "# interactive._add_layers_from_sdata(sdata=SpatialData(shapes={'transformed_pp': transformed_pp, 'pp': pp}))\n",
    "napari.run()"
   ]
  },
  {
   "cell_type": "code",
   "execution_count": 28,
   "id": "316ca1a5-88fe-49b4-aaa1-5e0b7fd9efd0",
   "metadata": {
    "tags": []
   },
   "outputs": [],
   "source": [
    "from copy import copy\n",
    "\n",
    "sel_genes = list(\n",
    "    set(visium_roi_sdata.table.var_names) & (set(xe_rep1_roi_sdata.table.var_names))\n",
    ")\n",
    "\n",
    "filtered_table = xe_rep1_roi_sdata.table[:, sel_genes].copy()\n",
    "del xe_rep1_roi_sdata.table\n",
    "xe_rep1_roi_sdata.table = filtered_table\n",
    "\n",
    "filtered_table = xe_rep2_roi_sdata.table[:, sel_genes].copy()\n",
    "del xe_rep2_roi_sdata.table\n",
    "xe_rep2_roi_sdata.table = filtered_table\n",
    "\n",
    "filtered_table = visium_roi_sdata.table[:, sel_genes].copy()\n",
    "del visium_roi_sdata.table\n",
    "visium_roi_sdata.table = filtered_table"
   ]
  },
  {
   "cell_type": "markdown",
   "id": "f96b37e0-d061-40cc-a66d-ab8127a33026",
   "metadata": {},
   "source": [
    "## 1.5. Cell-type interpolation of the visium spots\n"
   ]
  },
  {
   "cell_type": "code",
   "execution_count": 29,
   "id": "19d278e0-f31d-406a-b6e4-0365a42428bb",
   "metadata": {
    "tags": []
   },
   "outputs": [
    {
     "name": "stderr",
     "output_type": "stream",
     "text": [
      "/data/l989o/miniconda3/envs/ome/lib/python3.10/site-packages/geopandas/geodataframe.py:1443: SettingWithCopyWarning: \n",
      "A value is trying to be set on a copy of a slice from a DataFrame.\n",
      "Try using .loc[row_indexer,col_indexer] = value instead\n",
      "\n",
      "See the caveats in the documentation: https://pandas.pydata.org/pandas-docs/stable/user_guide/indexing.html#returning-a-view-versus-a-copy\n",
      "  super().__setitem__(key, value)\n",
      "/data/l989o/miniconda3/envs/ome/lib/python3.10/site-packages/geopandas/geodataframe.py:1443: SettingWithCopyWarning: \n",
      "A value is trying to be set on a copy of a slice from a DataFrame.\n",
      "Try using .loc[row_indexer,col_indexer] = value instead\n",
      "\n",
      "See the caveats in the documentation: https://pandas.pydata.org/pandas-docs/stable/user_guide/indexing.html#returning-a-view-versus-a-copy\n",
      "  super().__setitem__(key, value)\n"
     ]
    },
    {
     "name": "stdout",
     "output_type": "stream",
     "text": [
      "CPU times: user 6.81 s, sys: 3.74 ms, total: 6.82 s\n",
      "Wall time: 6.82 s\n"
     ]
    }
   ],
   "source": [
    "%%time\n",
    "visium_spots_polygons = visium_roi_sdata.shapes[\n",
    "    \"CytAssist_FFPE_Human_Breast_Cancer\"\n",
    "].copy()\n",
    "visium_spots_polygons[\"geometry\"] = visium_spots_polygons.buffer(\n",
    "    visium_spots_polygons.radius.iloc[0], 128\n",
    ")\n",
    "\n",
    "visium_spots_polygons[\"spot_id\"] = visium_spots_polygons.index\n",
    "xe_rep1_roi_sdata.shapes[\"cell_boundaries\"][\"cell_id\"] = xe_rep1_roi_sdata.shapes[\n",
    "    \"cell_boundaries\"\n",
    "].index\n",
    "xe_rep2_roi_sdata.shapes[\"cell_boundaries\"][\"cell_id\"] = xe_rep2_roi_sdata.shapes[\n",
    "    \"cell_boundaries\"\n",
    "].index\n",
    "\n",
    "spots_xe_rep1 = visium_spots_polygons.overlay(\n",
    "    xe_rep1_roi_sdata.shapes[\"cell_boundaries\"], how=\"intersection\"\n",
    ")\n",
    "spots_xe_rep2 = visium_spots_polygons.overlay(\n",
    "    xe_rep2_roi_sdata.shapes[\"cell_boundaries\"], how=\"intersection\"\n",
    ")"
   ]
  },
  {
   "cell_type": "code",
   "execution_count": 30,
   "id": "3fdef4f6-21b9-4f9b-b7f9-d92ff0df3658",
   "metadata": {
    "tags": []
   },
   "outputs": [],
   "source": [
    "from geopandas import GeoDataFrame\n",
    "from typing import Any\n",
    "\n",
    "\n",
    "def get_geoseries_types(gdf: GeoDataFrame) -> set[Any]:\n",
    "    types = set()\n",
    "    geom = gdf.geometry\n",
    "    for i in range(len(geom)):\n",
    "        x = geom.iloc[i]\n",
    "        types.add(type(x))\n",
    "    return types"
   ]
  },
  {
   "cell_type": "code",
   "execution_count": 31,
   "id": "82b16a3e-d999-4c70-bdb4-07b221f7f69c",
   "metadata": {
    "tags": []
   },
   "outputs": [
    {
     "name": "stdout",
     "output_type": "stream",
     "text": [
      "62383\n",
      "62532\n"
     ]
    }
   ],
   "source": [
    "# as you can see from here:\n",
    "print(len(spots_xe_rep1.cell_id.unique()))\n",
    "print(len(spots_xe_rep1))\n",
    "# there are some rows that refer to the same cell."
   ]
  },
  {
   "cell_type": "code",
   "execution_count": 32,
   "id": "42e474ed-812c-4e90-abbf-554d52b67363",
   "metadata": {
    "tags": []
   },
   "outputs": [
    {
     "name": "stdout",
     "output_type": "stream",
     "text": [
      "{<class 'shapely.geometry.polygon.Polygon'>}\n",
      "{<class 'shapely.geometry.polygon.Polygon'>}\n",
      "{<class 'shapely.geometry.multipolygon.MultiPolygon'>, <class 'shapely.geometry.polygon.Polygon'>}\n"
     ]
    }
   ],
   "source": [
    "# Also, some rows are Polygons, others are Multipolygons\n",
    "print(get_geoseries_types(xe_rep1_roi_sdata.shapes[\"cell_boundaries\"]))\n",
    "print(get_geoseries_types(visium_spots_polygons))\n",
    "print(get_geoseries_types(spots_xe_rep1))"
   ]
  },
  {
   "cell_type": "code",
   "execution_count": 33,
   "id": "d9f67ea0-750f-43fc-a820-bf2248829bc8",
   "metadata": {
    "tags": []
   },
   "outputs": [],
   "source": [
    "# The first are cells that touch multiple Visium circles. The second are cells that intersect the same Visium circles in multiple points."
   ]
  },
  {
   "cell_type": "raw",
   "id": "9f533736-db61-47c4-b4be-206e125a628d",
   "metadata": {
    "tags": []
   },
   "source": [
    "# get_geoseries_types(spots_xe_rep1.drop_duplicates('cell_id', keep=False))\n",
    "duplicated = spots_xe_rep1[spots_xe_rep1.duplicated(['cell_id'], keep=False)]\n",
    "duplicated = sd.models.ShapesModel.parse(duplicated)\n",
    "from napari_spatialdata import Interactive\n",
    "Interactive(SpatialData(shapes={'duplicated': duplicated, 'visium': visium_roi_sdata.shapes['CytAssist_FFPE_Human_Breast_Cancer']}))"
   ]
  },
  {
   "cell_type": "markdown",
   "id": "05c97881-0c1f-4252-8d1f-07eb18166473",
   "metadata": {},
   "source": [
    "Each spot is deconvolved based on the intersected areas with the xenium cells. We do this for both repolicates and at the minor and major cell type levels. "
   ]
  },
  {
   "cell_type": "code",
   "execution_count": 48,
   "id": "26a4c699-211c-499a-b9a0-c94da89d786c",
   "metadata": {},
   "outputs": [
    {
     "name": "stderr",
     "output_type": "stream",
     "text": [
      "/tmp/ipykernel_87870/772322310.py:13: FutureWarning: The frame.append method is deprecated and will be removed from pandas in a future version. Use pandas.concat instead.\n",
      "  ss = ss.append(ms_df)\n",
      "/tmp/ipykernel_87870/772322310.py:16: FutureWarning: The frame.append method is deprecated and will be removed from pandas in a future version. Use pandas.concat instead.\n",
      "  ss_raw = ss_raw.append(ms_df)\n"
     ]
    }
   ],
   "source": [
    "from sklearn.preprocessing import OneHotEncoder\n",
    "\n",
    "spots_xe_rep1[\"area\"] = spots_xe_rep1[\"geometry\"].area\n",
    "ss = spots_xe_rep1.pivot_table(\n",
    "    index=[\"spot_id\"], columns=\"cell_id\", values=\"area\", aggfunc=\"sum\"  # add margins\n",
    ").fillna(0)\n",
    "ss_raw = ss.copy()\n",
    "ss = ss.div(ss.sum(axis=1), axis=0)\n",
    "\n",
    "missing_spots = list(set(visium_spots_polygons[\"spot_id\"]).difference(set(ss.index)))\n",
    "ms_df = pd.DataFrame([[0] * ss.shape[1]], columns=ss.columns, index=missing_spots)\n",
    "\n",
    "ss = ss.append(ms_df)\n",
    "ss = ss.loc[visium_roi_sdata.table.obs[\"spot_id\"]]\n",
    "\n",
    "ss_raw = ss_raw.append(ms_df)\n",
    "ss_raw = ss_raw.loc[visium_roi_sdata.table.obs[\"spot_id\"]]"
   ]
  },
  {
   "cell_type": "code",
   "execution_count": 49,
   "id": "580361fd-c8bd-4ba1-92d5-54e111d4da63",
   "metadata": {},
   "outputs": [
    {
     "name": "stderr",
     "output_type": "stream",
     "text": [
      "/tmp/ipykernel_87870/1569935777.py:11: FutureWarning: X.dtype being converted to np.float32 from float64. In the next version of anndata (0.9) conversion will not be automatic. Pass dtype explicitly to avoid this warning. Pass `AnnData(X, dtype=X.dtype, ...)` to get the future behavour.\n",
      "  visium_gene_expression_from_xenium_cells_rep1 = anndata.AnnData(\n"
     ]
    }
   ],
   "source": [
    "area_cells = xe_rep1_roi_sdata.shapes[\"cell_boundaries\"][\n",
    "    xe_rep1_roi_sdata.shapes[\"cell_boundaries\"].index.isin(ss_raw.columns.tolist())\n",
    "].geometry.area\n",
    "\n",
    "A = ss_raw.div(area_cells, axis=1)\n",
    "B = xe_rep1_sdata.table[xe_rep1_sdata.table.obs.cell_id.isin(ss.columns.tolist())]\n",
    "\n",
    "sparse_A = sparse.csr_matrix(A)\n",
    "C = sparse_A @ B.X\n",
    "# gene expression interpolating Xenium cells gene expression into Visium circles\n",
    "visium_gene_expression_from_xenium_cells_rep1 = anndata.AnnData(\n",
    "    C.toarray(), var=xe_rep1_sdata.table.var\n",
    ")"
   ]
  },
  {
   "cell_type": "code",
   "execution_count": 50,
   "id": "3302f191-a086-4302-84e8-fd8e6ac77f52",
   "metadata": {
    "tags": []
   },
   "outputs": [],
   "source": [
    "ohe = OneHotEncoder()\n",
    "major_one = ohe.fit_transform(\n",
    "    xe_rep1_sdata.table[list(ss.columns), :].obs[[\"celltype_major\"]]\n",
    ")\n",
    "spot_xe_rep1_types = ss.to_numpy() @ major_one\n",
    "visium_roi_sdata.table.copy().obsm[\"xe_rep1_celltype_major\"] = spot_xe_rep1_types\n",
    "\n",
    "ohe = OneHotEncoder()\n",
    "minor_one = ohe.fit_transform(\n",
    "    xe_rep1_sdata.table[list(ss.columns), :].obs[[\"celltype_minor\"]]\n",
    ")\n",
    "spot_xe_rep1_types = ss.to_numpy() @ minor_one\n",
    "visium_roi_sdata.table.obsm[\"xe_rep1_celltype_minor\"] = spot_xe_rep1_types"
   ]
  },
  {
   "cell_type": "code",
   "execution_count": 51,
   "id": "f059b982-680a-48af-82e3-8e22c7fb91af",
   "metadata": {
    "tags": []
   },
   "outputs": [
    {
     "name": "stderr",
     "output_type": "stream",
     "text": [
      "/tmp/ipykernel_87870/4027164512.py:11: FutureWarning: The frame.append method is deprecated and will be removed from pandas in a future version. Use pandas.concat instead.\n",
      "  ss = ss.append(ms_df)\n",
      "/tmp/ipykernel_87870/4027164512.py:14: FutureWarning: The frame.append method is deprecated and will be removed from pandas in a future version. Use pandas.concat instead.\n",
      "  ss_raw = ss_raw.append(ms_df)\n"
     ]
    }
   ],
   "source": [
    "spots_xe_rep2[\"area\"] = spots_xe_rep2[\"geometry\"].area\n",
    "ss = spots_xe_rep2.pivot_table(\n",
    "    index=[\"spot_id\"], columns=\"cell_id\", values=\"area\", aggfunc=\"sum\"  # add margins\n",
    ").fillna(0)\n",
    "ss_raw = ss.copy()\n",
    "ss = ss.div(ss.sum(axis=1), axis=0)\n",
    "\n",
    "missing_spots = list(set(visium_spots_polygons[\"spot_id\"]).difference(set(ss.index)))\n",
    "ms_df = pd.DataFrame([[0] * ss.shape[1]], columns=ss.columns, index=missing_spots)\n",
    "\n",
    "ss = ss.append(ms_df)\n",
    "ss = ss.loc[visium_roi_sdata.table.obs[\"spot_id\"]]\n",
    "\n",
    "ss_raw = ss_raw.append(ms_df)\n",
    "ss_raw = ss_raw.loc[visium_roi_sdata.table.obs[\"spot_id\"]]"
   ]
  },
  {
   "cell_type": "code",
   "execution_count": 52,
   "id": "8a3894dc-db15-4816-9802-7ac5f4fcd6a8",
   "metadata": {},
   "outputs": [
    {
     "name": "stderr",
     "output_type": "stream",
     "text": [
      "/tmp/ipykernel_87870/2847905008.py:11: FutureWarning: X.dtype being converted to np.float32 from float64. In the next version of anndata (0.9) conversion will not be automatic. Pass dtype explicitly to avoid this warning. Pass `AnnData(X, dtype=X.dtype, ...)` to get the future behavour.\n",
      "  visium_gene_expression_from_xenium_cells_rep2 = anndata.AnnData(\n"
     ]
    }
   ],
   "source": [
    "area_cells = xe_rep2_roi_sdata.shapes[\"cell_boundaries\"][\n",
    "    xe_rep2_roi_sdata.shapes[\"cell_boundaries\"].index.isin(ss_raw.columns.tolist())\n",
    "].geometry.area\n",
    "\n",
    "A = ss_raw.div(area_cells, axis=1)\n",
    "B = xe_rep2_sdata.table[xe_rep2_sdata.table.obs.cell_id.isin(ss.columns.tolist())]\n",
    "\n",
    "sparse_A = sparse.csr_matrix(A)\n",
    "C = sparse_A @ B.X\n",
    "# gene expression interpolating Xenium cells gene expression into Visium circles\n",
    "visium_gene_expression_from_xenium_cells_rep2 = anndata.AnnData(\n",
    "    C.toarray(), var=xe_rep2_sdata.table.var\n",
    ")"
   ]
  },
  {
   "cell_type": "code",
   "execution_count": 53,
   "id": "c804c5ad-bb9e-4939-a320-3acbe1aa5a49",
   "metadata": {
    "tags": []
   },
   "outputs": [],
   "source": [
    "ohe = OneHotEncoder()\n",
    "major_one = ohe.fit_transform(\n",
    "    xe_rep2_sdata.table[list(ss.columns), :].obs[[\"celltype_major\"]]\n",
    ")\n",
    "spot_xe_rep2_types = ss.to_numpy() @ major_one\n",
    "visium_roi_sdata.table.obsm[\"xe_rep2_celltype_major\"] = spot_xe_rep2_types\n",
    "\n",
    "ohe = OneHotEncoder()\n",
    "minor_one = ohe.fit_transform(\n",
    "    xe_rep2_sdata.table[list(ss.columns), :].obs[[\"celltype_minor\"]]\n",
    ")\n",
    "spot_xe_rep2_types = ss.to_numpy() @ minor_one\n",
    "visium_roi_sdata.table.obsm[\"xe_rep2_celltype_minor\"] = spot_xe_rep2_types"
   ]
  },
  {
   "cell_type": "markdown",
   "id": "301ad27f-eb75-4844-a7bb-6bd4a20f8b90",
   "metadata": {},
   "source": [
    "## 1.6. Expression interpolation of the visium spots \n",
    "Same story as for the cell types but for the transcripts from `xe_rep1` and `xe_rep2`. "
   ]
  },
  {
   "cell_type": "code",
   "execution_count": 54,
   "id": "8268f71f-da11-4093-9405-1a667ca44872",
   "metadata": {
    "tags": []
   },
   "outputs": [
    {
     "name": "stdout",
     "output_type": "stream",
     "text": [
      "CPU times: user 38.3 s, sys: 1min 5s, total: 1min 43s\n",
      "Wall time: 1min 44s\n"
     ]
    }
   ],
   "source": [
    "%%time\n",
    "xe_rep1_tx_roi = points_dask_dataframe_to_geopandas(\n",
    "    xe_rep1_roi_sdata.points[\"transcripts\"]\n",
    ")\n",
    "xe_rep2_tx_roi = points_dask_dataframe_to_geopandas(\n",
    "    xe_rep2_roi_sdata.points[\"transcripts\"]\n",
    ")"
   ]
  },
  {
   "cell_type": "code",
   "execution_count": 55,
   "id": "eb5bdb6e-7bc4-4d69-8362-24c4b0f567b3",
   "metadata": {
    "tags": []
   },
   "outputs": [
    {
     "name": "stdout",
     "output_type": "stream",
     "text": [
      "CPU times: user 3min 15s, sys: 2.22 s, total: 3min 17s\n",
      "Wall time: 3min 17s\n"
     ]
    }
   ],
   "source": [
    "%%time\n",
    "spots_xe_rep1_tx = xe_rep1_tx_roi.overlay(visium_spots_polygons, how=\"intersection\")"
   ]
  },
  {
   "cell_type": "code",
   "execution_count": 56,
   "id": "8c55a527-1867-4a39-b970-086b1542350f",
   "metadata": {
    "tags": []
   },
   "outputs": [
    {
     "name": "stdout",
     "output_type": "stream",
     "text": [
      "CPU times: user 3min 6s, sys: 3.3 s, total: 3min 9s\n",
      "Wall time: 3min 9s\n"
     ]
    }
   ],
   "source": [
    "%%time\n",
    "spots_xe_rep2_tx = xe_rep2_tx_roi.overlay(visium_spots_polygons, how=\"intersection\")"
   ]
  },
  {
   "cell_type": "code",
   "execution_count": 57,
   "id": "25680d76-3ebe-4708-a575-140c0c27494d",
   "metadata": {
    "tags": []
   },
   "outputs": [],
   "source": [
    "# TODO fix bug with feature_name: https://github.com/scverse/spatialdata-io/issues/25\n",
    "spots_xe_rep1_tx[\"feature_name\"] = [\n",
    "    gene[2:-1] for gene in spots_xe_rep1_tx[\"feature_name\"]\n",
    "]\n",
    "spots_xe_rep2_tx[\"feature_name\"] = [\n",
    "    gene[2:-1] for gene in spots_xe_rep2_tx[\"feature_name\"]\n",
    "]"
   ]
  },
  {
   "cell_type": "markdown",
   "id": "a09271bf-e89c-4578-a94d-f36c692ba356",
   "metadata": {},
   "source": [
    "Note that for some spots we don't have any transcripts interpolated. "
   ]
  },
  {
   "cell_type": "code",
   "execution_count": 58,
   "id": "54dfa6d3-9fb5-438c-886b-52ac40a45e8c",
   "metadata": {
    "tags": []
   },
   "outputs": [
    {
     "name": "stderr",
     "output_type": "stream",
     "text": [
      "/tmp/ipykernel_87870/3190220434.py:15: FutureWarning: The frame.append method is deprecated and will be removed from pandas in a future version. Use pandas.concat instead.\n",
      "  spots_xe_rep1_counts = spots_xe_rep1_counts.append(ms_df)\n"
     ]
    }
   ],
   "source": [
    "spots_xe_rep1_counts = spots_xe_rep1_tx.pivot_table(\n",
    "    index=[\"spot_id\"],\n",
    "    columns=\"feature_name\",\n",
    "    values=\"radius\",  # add margins\n",
    "    aggfunc=\"sum\",\n",
    ").fillna(0)\n",
    "missing_spots = list(\n",
    "    set(visium_spots_polygons[\"spot_id\"]).difference(set(spots_xe_rep1_counts.index))\n",
    ")\n",
    "ms_df = pd.DataFrame(\n",
    "    [[0] * spots_xe_rep1_counts.shape[1]],\n",
    "    columns=spots_xe_rep1_counts.columns,\n",
    "    index=missing_spots,\n",
    ")\n",
    "spots_xe_rep1_counts = spots_xe_rep1_counts.append(ms_df)\n",
    "spots_xe_rep1_counts = spots_xe_rep1_counts.loc[visium_roi_sdata.table.obs[\"spot_id\"]]\n",
    "spots_xe_rep1_counts = spots_xe_rep1_counts[sel_genes].to_numpy()\n",
    "visium_roi_sdata.table.layers[\"xe_rep1_tx\"] = spots_xe_rep1_counts"
   ]
  },
  {
   "cell_type": "code",
   "execution_count": 59,
   "id": "79044da9-19b4-4079-bba8-852b1b0f6583",
   "metadata": {},
   "outputs": [],
   "source": [
    "visium_roi_sdata.table.layers[\n",
    "    \"xe_rep1_cells\"\n",
    "] = visium_gene_expression_from_xenium_cells_rep1[:, sel_genes].X.copy()"
   ]
  },
  {
   "cell_type": "code",
   "execution_count": 60,
   "id": "4fb227e3-32bc-4f81-8928-063be77b1e63",
   "metadata": {
    "tags": []
   },
   "outputs": [
    {
     "name": "stderr",
     "output_type": "stream",
     "text": [
      "/tmp/ipykernel_87870/503191660.py:15: FutureWarning: The frame.append method is deprecated and will be removed from pandas in a future version. Use pandas.concat instead.\n",
      "  spots_xe_rep2_counts = spots_xe_rep2_counts.append(ms_df)\n"
     ]
    }
   ],
   "source": [
    "spots_xe_rep2_counts = spots_xe_rep2_tx.pivot_table(\n",
    "    index=[\"spot_id\"],\n",
    "    columns=\"feature_name\",\n",
    "    values=\"radius\",  # add margins\n",
    "    aggfunc=\"sum\",\n",
    ").fillna(0)\n",
    "missing_spots = list(\n",
    "    set(visium_spots_polygons[\"spot_id\"]).difference(set(spots_xe_rep2_counts.index))\n",
    ")\n",
    "ms_df = pd.DataFrame(\n",
    "    [[0] * spots_xe_rep2_counts.shape[1]],\n",
    "    columns=spots_xe_rep2_counts.columns,\n",
    "    index=missing_spots,\n",
    ")\n",
    "spots_xe_rep2_counts = spots_xe_rep2_counts.append(ms_df)\n",
    "spots_xe_rep2_counts = spots_xe_rep2_counts.loc[visium_roi_sdata.table.obs[\"spot_id\"]]\n",
    "spots_xe_rep2_counts = spots_xe_rep2_counts[sel_genes].to_numpy()\n",
    "visium_roi_sdata.table.layers[\"xe_rep2_tx\"] = spots_xe_rep2_counts"
   ]
  },
  {
   "cell_type": "code",
   "execution_count": 61,
   "id": "8c0d68d0-78f9-42b7-b3bb-12995053e56d",
   "metadata": {},
   "outputs": [],
   "source": [
    "visium_roi_sdata.table.layers[\n",
    "    \"xe_rep2_cells\"\n",
    "] = visium_gene_expression_from_xenium_cells_rep2[:, sel_genes].X.copy()"
   ]
  },
  {
   "cell_type": "raw",
   "id": "12a1edfd-f6fc-4feb-9f4c-a726d20d1251",
   "metadata": {
    "tags": []
   },
   "source": [
    "%%time\n",
    "spots_xe_rep1_tx_points = points_geopandas_to_dask_dataframe(spots_xe_rep1_tx)\n",
    "spots_xe_rep2_tx_points = points_geopandas_to_dask_dataframe(spots_xe_rep2_tx)"
   ]
  },
  {
   "cell_type": "code",
   "execution_count": 62,
   "id": "c6468388-fa39-469c-9f76-707babd935a3",
   "metadata": {
    "tags": []
   },
   "outputs": [
    {
     "data": {
      "text/plain": [
       "SpatialData object with:\n",
       "├── Points\n",
       "│     └── 'transcripts': DataFrame with shape: (<Delayed>, 9) (3D points)\n",
       "├── Shapes\n",
       "│     ├── 'cell_boundaries': GeoDataFrame shape: (100849, 2) (2D shapes)\n",
       "│     ├── 'cell_circles': GeoDataFrame shape: (100444, 2) (2D shapes)\n",
       "│     └── 'nucleus_boundaries': GeoDataFrame shape: (100646, 1) (2D shapes)\n",
       "└── Table\n",
       "      └── AnnData object with n_obs × n_vars = 100444 × 307\n",
       "    obs: 'cell_id', 'transcript_counts', 'control_probe_counts', 'control_codeword_counts', 'total_counts', 'cell_area', 'nucleus_area', 'region', 'dataset', 'celltype_major', 'celltype_minor'\n",
       "    var: 'gene_ids', 'feature_types', 'genome'\n",
       "    uns: 'spatialdata_attrs'\n",
       "    obsm: 'spatial': AnnData (100444, 307)\n",
       "with coordinate systems:\n",
       "▸ 'aligned', with elements:\n",
       "        cell_boundaries (Shapes), cell_circles (Shapes), nucleus_boundaries (Shapes)\n",
       "▸ 'global', with elements:\n",
       "        transcripts (Points)"
      ]
     },
     "execution_count": 62,
     "metadata": {},
     "output_type": "execute_result"
    }
   ],
   "source": [
    "xe_rep1_roi_sdata"
   ]
  },
  {
   "cell_type": "code",
   "execution_count": 63,
   "id": "aebf2453-7169-4283-8f17-b1f90787b944",
   "metadata": {
    "tags": []
   },
   "outputs": [
    {
     "data": {
      "text/plain": [
       "SpatialData object with:\n",
       "├── Points\n",
       "│     └── 'transcripts': DataFrame with shape: (<Delayed>, 9) (3D points)\n",
       "├── Shapes\n",
       "│     ├── 'cell_boundaries': GeoDataFrame shape: (99923, 2) (2D shapes)\n",
       "│     ├── 'cell_circles': GeoDataFrame shape: (99635, 2) (2D shapes)\n",
       "│     └── 'nucleus_boundaries': GeoDataFrame shape: (99761, 1) (2D shapes)\n",
       "└── Table\n",
       "      └── AnnData object with n_obs × n_vars = 99635 × 307\n",
       "    obs: 'cell_id', 'transcript_counts', 'control_probe_counts', 'control_codeword_counts', 'total_counts', 'cell_area', 'nucleus_area', 'region', 'dataset', 'celltype_major', 'celltype_minor'\n",
       "    var: 'gene_ids', 'feature_types', 'genome'\n",
       "    uns: 'spatialdata_attrs'\n",
       "    obsm: 'spatial': AnnData (99635, 307)\n",
       "with coordinate systems:\n",
       "▸ 'aligned', with elements:\n",
       "        cell_boundaries (Shapes), cell_circles (Shapes), nucleus_boundaries (Shapes)\n",
       "▸ 'global', with elements:\n",
       "        transcripts (Points)"
      ]
     },
     "execution_count": 63,
     "metadata": {},
     "output_type": "execute_result"
    }
   ],
   "source": [
    "xe_rep2_roi_sdata"
   ]
  },
  {
   "cell_type": "code",
   "execution_count": 64,
   "id": "b64718f5-41ec-4428-a65a-c4788a5226df",
   "metadata": {
    "tags": []
   },
   "outputs": [
    {
     "data": {
      "text/plain": [
       "SpatialData object with:\n",
       "├── Shapes\n",
       "│     └── 'CytAssist_FFPE_Human_Breast_Cancer': GeoDataFrame shape: (2775, 2) (2D shapes)\n",
       "└── Table\n",
       "      └── AnnData object with n_obs × n_vars = 2775 × 307\n",
       "    obs: 'in_tissue', 'array_row', 'array_col', 'spot_id', 'region', 'dataset'\n",
       "    var: 'gene_ids', 'feature_types', 'genome'\n",
       "    uns: 'spatial', 'spatialdata_attrs'\n",
       "    obsm: 'spatial', 'xe_rep1_celltype_minor', 'xe_rep2_celltype_major', 'xe_rep2_celltype_minor'\n",
       "    layers: 'xe_rep1_tx', 'xe_rep1_cells', 'xe_rep2_tx', 'xe_rep2_cells': AnnData (2775, 307)\n",
       "with coordinate systems:\n",
       "▸ 'aligned', with elements:\n",
       "        CytAssist_FFPE_Human_Breast_Cancer (Shapes)"
      ]
     },
     "execution_count": 64,
     "metadata": {},
     "output_type": "execute_result"
    }
   ],
   "source": [
    "visium_roi_sdata"
   ]
  },
  {
   "cell_type": "code",
   "execution_count": 65,
   "id": "c83ad990-b273-46c3-84cf-a202746af334",
   "metadata": {
    "tags": []
   },
   "outputs": [],
   "source": [
    "# save transformations to disk (it was only in-memory so far)\n",
    "# TODO: we have to make this more ergonomic and transparent (in the spatiadata package)\n",
    "\n",
    "\n",
    "def save_all_transformations(sdata: SpatialData) -> None:\n",
    "    for element in sdata._gen_elements_values():\n",
    "        transformations = get_transformation(element, get_all=True)\n",
    "        set_transformation(element, transformations, set_all=True, write_to_sdata=sdata)\n",
    "\n",
    "\n",
    "save_all_transformations(xe_rep1_sdata)\n",
    "save_all_transformations(xe_rep2_sdata)\n",
    "save_all_transformations(visium_sdata)"
   ]
  },
  {
   "cell_type": "code",
   "execution_count": 66,
   "id": "2ca90634-1910-4b6b-89ca-13ba626a2ec1",
   "metadata": {
    "tags": []
   },
   "outputs": [
    {
     "name": "stderr",
     "output_type": "stream",
     "text": [
      "/data/l989o/miniconda3/envs/ome/lib/python3.10/site-packages/zarr/creation.py:250: UserWarning: ignoring keyword argument 'maxshape'\n",
      "  warn('ignoring keyword argument %r' % k)\n"
     ]
    }
   ],
   "source": [
    "# the table of the xenium data was modified only in-memory, let's sync the change to disk\n",
    "# TODO: also this needs to be improved\n",
    "\n",
    "\n",
    "def save_table(sdata: SpatialData) -> None:\n",
    "    table = sdata.table\n",
    "    del sdata.table\n",
    "    # this is triggering the writing to disk, it is not intuitive\n",
    "    sdata.table = table\n",
    "\n",
    "\n",
    "save_table(xe_rep1_sdata)\n",
    "save_table(xe_rep2_sdata)\n",
    "save_table(visium_sdata)"
   ]
  },
  {
   "cell_type": "code",
   "execution_count": 67,
   "id": "0c2ed7a8-33a9-4666-969c-b1c7eecc3dd3",
   "metadata": {
    "tags": []
   },
   "outputs": [],
   "source": [
    "# delete column in shapes data that we don't want to save (it just duplicates the index and we used before some merging that will be replaced by aggregate())\n",
    "del xe_rep1_roi_sdata.shapes[\"cell_boundaries\"][\"cell_id\"]\n",
    "del xe_rep2_roi_sdata.shapes[\"cell_boundaries\"][\"cell_id\"]"
   ]
  },
  {
   "cell_type": "code",
   "execution_count": 68,
   "id": "818aba16-3ab3-4d3f-a003-7f21f8b6aa11",
   "metadata": {
    "tags": []
   },
   "outputs": [
    {
     "name": "stderr",
     "output_type": "stream",
     "text": [
      "/data/l989o/miniconda3/envs/ome/lib/python3.10/site-packages/zarr/creation.py:250: UserWarning: ignoring keyword argument 'maxshape'\n",
      "  warn('ignoring keyword argument %r' % k)\n"
     ]
    },
    {
     "name": "stdout",
     "output_type": "stream",
     "text": [
      "CPU times: user 9.9 s, sys: 5.64 s, total: 15.5 s\n",
      "Wall time: 15.5 s\n"
     ]
    },
    {
     "name": "stderr",
     "output_type": "stream",
     "text": [
      "/data/l989o/miniconda3/envs/ome/lib/python3.10/site-packages/zarr/creation.py:250: UserWarning: ignoring keyword argument 'maxshape'\n",
      "  warn('ignoring keyword argument %r' % k)\n"
     ]
    }
   ],
   "source": [
    "%%time\n",
    "import shutil\n",
    "\n",
    "if os.path.isdir(XE_REP1_ROI_PATH):\n",
    "    shutil.rmtree(XE_REP1_ROI_PATH)\n",
    "xe_rep1_roi_sdata.write(XE_REP1_ROI_PATH)\n",
    "\n",
    "if os.path.isdir(XE_REP2_ROI_PATH):\n",
    "    shutil.rmtree(XE_REP2_ROI_PATH)\n",
    "xe_rep2_roi_sdata.write(XE_REP2_ROI_PATH)\n",
    "\n",
    "if os.path.isdir(VISIUM_ROI_PATH):\n",
    "    shutil.rmtree(VISIUM_ROI_PATH)\n",
    "visium_roi_sdata.write(VISIUM_ROI_PATH)"
   ]
  },
  {
   "cell_type": "code",
   "execution_count": 69,
   "id": "66b38ea1-cad5-46e1-956b-4028b4dcb4c3",
   "metadata": {
    "tags": []
   },
   "outputs": [
    {
     "name": "stdout",
     "output_type": "stream",
     "text": [
      "\u001b[34mINFO    \u001b[0m Instance key `cell_id` could be of type `pd.Categorical`. Consider casting it.                            \n",
      "\u001b[34mINFO    \u001b[0m Instance key `cell_id` could be of type `pd.Categorical`. Consider casting it.                            \n"
     ]
    }
   ],
   "source": [
    "xe_rep1_sdata2 = sd.read_zarr(XE_REP1_PATH)\n",
    "xe_rep2_sdata2 = sd.read_zarr(XE_REP2_PATH)\n",
    "visium_sdata2 = sd.read_zarr(VISIUM_PATH)\n",
    "\n",
    "xe_rep1_roi_sdata2 = sd.read_zarr(XE_REP1_ROI_PATH)\n",
    "xe_rep2_roi_sdata2 = sd.read_zarr(XE_REP2_ROI_PATH)\n",
    "visium_roi_sdata2 = sd.read_zarr(VISIUM_ROI_PATH)"
   ]
  },
  {
   "cell_type": "code",
   "execution_count": 70,
   "id": "c7421124-e235-48c7-a6a3-d0088c21ab9f",
   "metadata": {
    "tags": []
   },
   "outputs": [],
   "source": [
    "assert str(xe_rep1_sdata) == str(xe_rep1_sdata2)\n",
    "assert str(xe_rep2_sdata) == str(xe_rep2_sdata2)\n",
    "assert str(visium_sdata) == str(visium_sdata2)\n",
    "\n",
    "assert str(xe_rep1_roi_sdata) == str(xe_rep1_roi_sdata2)\n",
    "assert str(xe_rep2_roi_sdata) == str(xe_rep2_roi_sdata2)\n",
    "assert sorted(str(visium_roi_sdata)) == sorted(str(visium_roi_sdata2))"
   ]
  },
  {
   "cell_type": "raw",
   "id": "52b1d522-bba4-413d-bea8-8bb599d891ae",
   "metadata": {
    "tags": []
   },
   "source": [
    "from napari_spatialdata import Interactive\n",
    "\n",
    "Interactive([xe_rep1_sdata, xe_rep2_sdata, visium_sdata, landmarks_sdata], points=False)\n",
    "Interactive(\n",
    "    [xe_rep1_roi_sdata, xe_rep2_roi_sdata, visium_roi_sdata, landmarks_sdata],\n",
    "    points=False,\n",
    ")"
   ]
  },
  {
   "cell_type": "code",
   "execution_count": 71,
   "id": "e7dc0bfd-92cf-4880-b178-54375b18c3a7",
   "metadata": {},
   "outputs": [],
   "source": [
    "XE_REP1_ALIGNED_PATH = XE_REP1_PATH.replace(\"data.zarr\", \"data_aligned.zarr\")\n",
    "XE_REP2_ALIGNED_PATH = XE_REP2_PATH.replace(\"data.zarr\", \"data_aligned.zarr\")\n",
    "VISIUM_ALIGNED_PATH = VISIUM_PATH.replace(\"data.zarr\", \"data_aligned.zarr\")\n",
    "\n",
    "if os.path.isdir(XE_REP1_ALIGNED_PATH):\n",
    "    shutil.rmtree(XE_REP1_ALIGNED_PATH)\n",
    "    shutil.copytree(XE_REP1_PATH, XE_REP1_ALIGNED_PATH)\n",
    "\n",
    "if os.path.isdir(XE_REP2_ALIGNED_PATH):\n",
    "    shutil.rmtree(XE_REP2_ALIGNED_PATH)\n",
    "    shutil.copytree(XE_REP2_PATH, XE_REP2_ALIGNED_PATH)\n",
    "\n",
    "if os.path.isdir(VISIUM_ALIGNED_PATH):\n",
    "    shutil.rmtree(VISIUM_ALIGNED_PATH)\n",
    "    shutil.copytree(VISIUM_PATH, VISIUM_ALIGNED_PATH)"
   ]
  }
 ],
 "metadata": {
  "kernelspec": {
   "display_name": "Python 3 (ipykernel)",
   "language": "python",
   "name": "python3"
  },
  "language_info": {
   "codemirror_mode": {
    "name": "ipython",
    "version": 3
   },
   "file_extension": ".py",
   "mimetype": "text/x-python",
   "name": "python",
   "nbconvert_exporter": "python",
   "pygments_lexer": "ipython3",
   "version": "3.10.9"
  }
 },
 "nbformat": 4,
 "nbformat_minor": 5
}
