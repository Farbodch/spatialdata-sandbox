{
 "cells": [
  {
   "cell_type": "markdown",
   "id": "bf6c0a18-77e5-4846-91ab-77064a4e01d5",
   "metadata": {},
   "source": [
    "# Xenium + Visium example"
   ]
  },
  {
   "cell_type": "code",
   "execution_count": null,
   "id": "1c749012-8dba-4f7b-85bc-48d8d22ba342",
   "metadata": {},
   "outputs": [],
   "source": []
  }
 ],
 "metadata": {
  "kernelspec": {
   "display_name": "Python 3 (ipykernel)",
   "language": "python",
   "name": "python3"
  },
  "language_info": {
   "codemirror_mode": {
    "name": "ipython",
    "version": 3
   },
   "file_extension": ".py",
   "mimetype": "text/x-python",
   "name": "python",
   "nbconvert_exporter": "python",
   "pygments_lexer": "ipython3",
   "version": "3.10.13"
  }
 },
 "nbformat": 4,
 "nbformat_minor": 5
}
