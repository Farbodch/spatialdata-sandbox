{
 "cells": [
  {
   "cell_type": "code",
   "execution_count": null,
   "metadata": {},
   "outputs": [],
   "source": [
    "ds = ssam.SSAMDataset(\"data/processed/ssam-osmfish\")\n",
    "##analysis = ssam.SSAMAnalysis(ds, ncores=40, verbose=True)"
   ]
  },
  {
   "cell_type": "code",
   "execution_count": null,
   "metadata": {},
   "outputs": [],
   "source": [
    "import spatialdata as sd\n",
    "\n",
    "# ds.celltype_binned_counts had shape (x, y, 1, c), but we need (c, y, x)\n",
    "celltype_binned_counts = sd.models.Image2DModel.parse(np.squeeze(ds.celltype_binned_counts, 2), dims=('y', 'x', 'c'))\n",
    "\n",
    "# ds.celltype_binned_centers had shape (x, y, 1), but we need (y, x)\n",
    "celltype_binned_centers = sd.models.Labels2DModel.parse(np.squeeze(ds.celltype_binned_centers, 2), dims=('y', 'x'))\n",
    "\n",
    "sdata = sd.SpatialData(images={'celltype_binned_counts': celltype_binned_counts}, labels={'celltype_binned_centers': celltype_binned_centers})\n",
    "\n",
    "# sdata.write('ssam-osmfish-spatialdata.zarr')\n",
    "\n",
    "sdata_read = sd.read_zarr('ssam-osmfish-spatialdata.zarr')\n",
    "\n",
    "print(sdata['celltype_binned_counts'].data)\n",
    "print(sdata_read['celltype_binned_counts'].data)\n",
    "\n",
    "from napari_spatialdata import Interactive\n",
    "\n",
    "Interactive(sdata)"
   ]
  }
 ],
 "metadata": {
  "language_info": {
   "name": "python"
  }
 },
 "nbformat": 4,
 "nbformat_minor": 2
}
