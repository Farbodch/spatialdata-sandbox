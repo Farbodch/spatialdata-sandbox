{
 "cells": [
  {
   "cell_type": "code",
   "execution_count": 2,
   "metadata": {},
   "outputs": [],
   "source": [
    "import ssam\n",
    "import pandas as pd\n",
    "import matplotlib.pyplot as plt\n",
    "import numpy as np\n",
    "import seaborn as sns\n",
    "import anndata as ad"
   ]
  },
  {
   "cell_type": "code",
   "execution_count": 3,
   "metadata": {},
   "outputs": [
    {
     "name": "stdout",
     "output_type": "stream",
     "text": [
      "Loaded existing KDE results.\n",
      "Loaded existing local maxima.\n",
      "Loaded a precomputed normalized vector field.\n",
      "Loaded existing cluster labels.\n",
      "Loaded an existing t-SNE result.\n",
      "Loaded an existing UMAP result.\n",
      "Loaded existing cell type maps.\n",
      "Loaded existing filtered cell type maps.\n"
     ]
    },
    {
     "name": "stdout",
     "output_type": "stream",
     "text": [
      "Loaded existing cell type binned centers and counts.\n",
      "Loaded existing inferred domains.\n",
      "Loaded existing watershed segmentations.\n",
      "Loaded existing transferred cluster labels.\n"
     ]
    }
   ],
   "source": [
    "ds = ssam.SSAMDataset(\"data/processed/ssamdataset-osmFISH.zarr\")\n",
    "analysis = ssam.SSAMAnalysis(ds, ncores=40, verbose=True)"
   ]
  },
  {
   "cell_type": "code",
   "execution_count": 4,
   "metadata": {},
   "outputs": [
    {
     "data": {
      "text/plain": [
       "(1640, 3368)"
      ]
     },
     "execution_count": 4,
     "metadata": {},
     "output_type": "execute_result"
    }
   ],
   "source": [
    "ds.watershed_segments.shape"
   ]
  },
  {
   "cell_type": "code",
   "execution_count": 6,
   "metadata": {},
   "outputs": [
    {
     "data": {
      "text/plain": [
       "(1640, 3368, 1)"
      ]
     },
     "execution_count": 6,
     "metadata": {},
     "output_type": "execute_result"
    }
   ],
   "source": [
    "ds.inferred_domains.shape"
   ]
  },
  {
   "cell_type": "code",
   "execution_count": 8,
   "metadata": {},
   "outputs": [
    {
     "data": {
      "text/plain": [
       "(array([-1,  0,  1,  2,  3,  4,  5,  6,  7,  8]),\n",
       " array([2411227,  296953,  354147,  507688,  256632,  378217, 1040323,\n",
       "         148679,   60401,   69253]))"
      ]
     },
     "execution_count": 8,
     "metadata": {},
     "output_type": "execute_result"
    }
   ],
   "source": [
    "np.unique(ds.inferred_domains, return_counts=True)"
   ]
  },
  {
   "cell_type": "code",
   "execution_count": 5,
   "metadata": {},
   "outputs": [],
   "source": [
    "import h5py\n",
    "\n",
    "pixel_per_um = 15.3846 # from BioRxiv paper\n",
    "um_per_pixel = 1.0 / pixel_per_um\n",
    "\n",
    "blacklists = ['Cnr1_Hybridization4', 'Plp1_Hybridization4', 'Vtn_Hybridization4',\n",
    "              'Klk6_Hybridization5', 'Lum_Hybridization9', 'Tbr1_Hybridization11']\n",
    "\n",
    "with h5py.File(\"./data/raw/mRNA_coords_raw_counting.hdf5\", 'r') as f:\n",
    "    # Extract gene names (keys)\n",
    "    gene_names = list(f.keys())\n",
    "    # Extract x, y coordinates for each gene and store them along with the gene name\n",
    "    data_list = []\n",
    "    for gene in gene_names:\n",
    "        if gene in blacklists:\n",
    "            continue\n",
    "        xx, yy = f[gene][:].T\n",
    "        gene = gene.split(\"_\")[0]\n",
    "        \n",
    "        if gene == 'Tmem6':\n",
    "            gene = 'Tmem2'\n",
    "        elif gene == 'Kcnip':\n",
    "            gene = 'Kcnip2'\n",
    "\n",
    "        for x, y in zip(xx, yy):\n",
    "            data_list.append([gene, x * um_per_pixel, y * um_per_pixel])\n",
    "\n",
    "# Create a pandas DataFrame\n",
    "df = pd.DataFrame(data_list, columns=['gene', 'x', 'y']).set_index('gene')"
   ]
  },
  {
   "cell_type": "code",
   "execution_count": 6,
   "metadata": {},
   "outputs": [
    {
     "name": "stdout",
     "output_type": "stream",
     "text": [
      "Generating spatial mRNA count matrix...\n"
     ]
    },
    {
     "name": "stdout",
     "output_type": "stream",
     "text": [
      "Computing cell-by-gene matrix...\n"
     ]
    }
   ],
   "source": [
    "analysis.compute_cell_by_gene_matrix(df)"
   ]
  },
  {
   "cell_type": "code",
   "execution_count": 12,
   "metadata": {},
   "outputs": [
    {
     "data": {
      "text/plain": [
       "8055"
      ]
     },
     "execution_count": 12,
     "metadata": {},
     "output_type": "execute_result"
    }
   ],
   "source": [
    "len(ds.cell_by_gene_matrix)"
   ]
  },
  {
   "cell_type": "code",
   "execution_count": 7,
   "metadata": {},
   "outputs": [],
   "source": [
    "new_element = [0 for i in range(len(ds.genes))]\n",
    "cell_by_gene_matrix = np.insert(ds.cell_by_gene_matrix, 0, new_element, axis=0)"
   ]
  },
  {
   "cell_type": "code",
   "execution_count": 15,
   "metadata": {},
   "outputs": [
    {
     "ename": "ValueError",
     "evalue": "X needs to be 2-dimensional, not 1-dimensional.",
     "output_type": "error",
     "traceback": [
      "\u001b[0;31m---------------------------------------------------------------------------\u001b[0m",
      "\u001b[0;31mValueError\u001b[0m                                Traceback (most recent call last)",
      "\u001b[1;32m/home/ng4812/SpatialData/spatialdata-sandbox/ssam_osmfish/converter.ipynb 셀 10\u001b[0m line \u001b[0;36m1\n\u001b[1;32m     <a href='vscode-notebook-cell://ssh-remote%2B10.125.208.41/home/ng4812/SpatialData/spatialdata-sandbox/ssam_osmfish/converter.ipynb#X35sdnNjb2RlLXJlbW90ZQ%3D%3D?line=14'>15</a>\u001b[0m table1\u001b[39m.\u001b[39mobs[\u001b[39m'\u001b[39m\u001b[39mcell_type\u001b[39m\u001b[39m'\u001b[39m] \u001b[39m=\u001b[39m np\u001b[39m.\u001b[39marray(cell_type)\n\u001b[1;32m     <a href='vscode-notebook-cell://ssh-remote%2B10.125.208.41/home/ng4812/SpatialData/spatialdata-sandbox/ssam_osmfish/converter.ipynb#X35sdnNjb2RlLXJlbW90ZQ%3D%3D?line=15'>16</a>\u001b[0m table_list\u001b[39m.\u001b[39mappend(table1)\n\u001b[0;32m---> <a href='vscode-notebook-cell://ssh-remote%2B10.125.208.41/home/ng4812/SpatialData/spatialdata-sandbox/ssam_osmfish/converter.ipynb#X35sdnNjb2RlLXJlbW90ZQ%3D%3D?line=17'>18</a>\u001b[0m table2 \u001b[39m=\u001b[39m sc\u001b[39m.\u001b[39;49mAnnData(np\u001b[39m.\u001b[39;49munique(ds\u001b[39m.\u001b[39;49minferred_domains))\n\u001b[1;32m     <a href='vscode-notebook-cell://ssh-remote%2B10.125.208.41/home/ng4812/SpatialData/spatialdata-sandbox/ssam_osmfish/converter.ipynb#X35sdnNjb2RlLXJlbW90ZQ%3D%3D?line=18'>19</a>\u001b[0m table2\u001b[39m.\u001b[39mobs[\u001b[39m\"\u001b[39m\u001b[39mregion\u001b[39m\u001b[39m\"\u001b[39m] \u001b[39m=\u001b[39m [\u001b[39m\"\u001b[39m\u001b[39minferred_domain\u001b[39m\u001b[39m\"\u001b[39m \u001b[39mfor\u001b[39;00m i \u001b[39min\u001b[39;00m \u001b[39mrange\u001b[39m(\u001b[39mlen\u001b[39m(np\u001b[39m.\u001b[39munique(ds\u001b[39m.\u001b[39minferred_domains)\u001b[39m+\u001b[39m\u001b[39m1\u001b[39m))]\n\u001b[1;32m     <a href='vscode-notebook-cell://ssh-remote%2B10.125.208.41/home/ng4812/SpatialData/spatialdata-sandbox/ssam_osmfish/converter.ipynb#X35sdnNjb2RlLXJlbW90ZQ%3D%3D?line=19'>20</a>\u001b[0m table_list\u001b[39m.\u001b[39mappend(table2)\n",
      "File \u001b[0;32m~/miniconda3/envs/ome/lib/python3.11/site-packages/anndata/_core/anndata.py:362\u001b[0m, in \u001b[0;36mAnnData.__init__\u001b[0;34m(self, X, obs, var, uns, obsm, varm, layers, raw, dtype, shape, filename, filemode, asview, obsp, varp, oidx, vidx)\u001b[0m\n\u001b[1;32m    360\u001b[0m     \u001b[39mself\u001b[39m\u001b[39m.\u001b[39m_init_as_view(X, oidx, vidx)\n\u001b[1;32m    361\u001b[0m \u001b[39melse\u001b[39;00m:\n\u001b[0;32m--> 362\u001b[0m     \u001b[39mself\u001b[39;49m\u001b[39m.\u001b[39;49m_init_as_actual(\n\u001b[1;32m    363\u001b[0m         X\u001b[39m=\u001b[39;49mX,\n\u001b[1;32m    364\u001b[0m         obs\u001b[39m=\u001b[39;49mobs,\n\u001b[1;32m    365\u001b[0m         var\u001b[39m=\u001b[39;49mvar,\n\u001b[1;32m    366\u001b[0m         uns\u001b[39m=\u001b[39;49muns,\n\u001b[1;32m    367\u001b[0m         obsm\u001b[39m=\u001b[39;49mobsm,\n\u001b[1;32m    368\u001b[0m         varm\u001b[39m=\u001b[39;49mvarm,\n\u001b[1;32m    369\u001b[0m         raw\u001b[39m=\u001b[39;49mraw,\n\u001b[1;32m    370\u001b[0m         layers\u001b[39m=\u001b[39;49mlayers,\n\u001b[1;32m    371\u001b[0m         dtype\u001b[39m=\u001b[39;49mdtype,\n\u001b[1;32m    372\u001b[0m         shape\u001b[39m=\u001b[39;49mshape,\n\u001b[1;32m    373\u001b[0m         obsp\u001b[39m=\u001b[39;49mobsp,\n\u001b[1;32m    374\u001b[0m         varp\u001b[39m=\u001b[39;49mvarp,\n\u001b[1;32m    375\u001b[0m         filename\u001b[39m=\u001b[39;49mfilename,\n\u001b[1;32m    376\u001b[0m         filemode\u001b[39m=\u001b[39;49mfilemode,\n\u001b[1;32m    377\u001b[0m     )\n",
      "File \u001b[0;32m~/miniconda3/envs/ome/lib/python3.11/site-packages/anndata/_core/anndata.py:519\u001b[0m, in \u001b[0;36mAnnData._init_as_actual\u001b[0;34m(self, X, obs, var, uns, obsm, varm, varp, obsp, raw, layers, dtype, shape, filename, filemode)\u001b[0m\n\u001b[1;32m    517\u001b[0m \u001b[39mif\u001b[39;00m shape \u001b[39mis\u001b[39;00m \u001b[39mnot\u001b[39;00m \u001b[39mNone\u001b[39;00m:\n\u001b[1;32m    518\u001b[0m     \u001b[39mraise\u001b[39;00m \u001b[39mValueError\u001b[39;00m(\u001b[39m\"\u001b[39m\u001b[39m`shape` needs to be `None` if `X` is not `None`.\u001b[39m\u001b[39m\"\u001b[39m)\n\u001b[0;32m--> 519\u001b[0m _check_2d_shape(X)\n\u001b[1;32m    520\u001b[0m \u001b[39m# if type doesn’t match, a copy is made, otherwise, use a view\u001b[39;00m\n\u001b[1;32m    521\u001b[0m \u001b[39mif\u001b[39;00m dtype \u001b[39mis\u001b[39;00m \u001b[39mnot\u001b[39;00m \u001b[39mNone\u001b[39;00m:\n",
      "File \u001b[0;32m~/miniconda3/envs/ome/lib/python3.11/site-packages/anndata/_core/anndata.py:107\u001b[0m, in \u001b[0;36m_check_2d_shape\u001b[0;34m(X)\u001b[0m\n\u001b[1;32m    101\u001b[0m \u001b[39m\u001b[39m\u001b[39m\"\"\"\\\u001b[39;00m\n\u001b[1;32m    102\u001b[0m \u001b[39mCheck shape of array or sparse matrix.\u001b[39;00m\n\u001b[1;32m    103\u001b[0m \n\u001b[1;32m    104\u001b[0m \u001b[39mAssure that X is always 2D: Unlike numpy we always deal with 2D arrays.\u001b[39;00m\n\u001b[1;32m    105\u001b[0m \u001b[39m\"\"\"\u001b[39;00m\n\u001b[1;32m    106\u001b[0m \u001b[39mif\u001b[39;00m X\u001b[39m.\u001b[39mdtype\u001b[39m.\u001b[39mnames \u001b[39mis\u001b[39;00m \u001b[39mNone\u001b[39;00m \u001b[39mand\u001b[39;00m \u001b[39mlen\u001b[39m(X\u001b[39m.\u001b[39mshape) \u001b[39m!=\u001b[39m \u001b[39m2\u001b[39m:\n\u001b[0;32m--> 107\u001b[0m     \u001b[39mraise\u001b[39;00m \u001b[39mValueError\u001b[39;00m(\n\u001b[1;32m    108\u001b[0m         \u001b[39mf\u001b[39m\u001b[39m\"\u001b[39m\u001b[39mX needs to be 2-dimensional, not \u001b[39m\u001b[39m{\u001b[39;00m\u001b[39mlen\u001b[39m(X\u001b[39m.\u001b[39mshape)\u001b[39m}\u001b[39;00m\u001b[39m-dimensional.\u001b[39m\u001b[39m\"\u001b[39m\n\u001b[1;32m    109\u001b[0m     )\n",
      "\u001b[0;31mValueError\u001b[0m: X needs to be 2-dimensional, not 1-dimensional."
     ]
    }
   ],
   "source": [
    "import scanpy as sc\n",
    "import spatialdata as sd\n",
    "\n",
    "cell_type = list()\n",
    "cell_type.append(0)\n",
    "for i in range(len(cell_by_gene_matrix)-1):\n",
    "    cell_type.append(int(np.unique(ds.watershed_celltype_maps[ds.watershed_segments == i]))+1)\n",
    "    \n",
    "table_list = []\n",
    "\n",
    "table1 = sc.AnnData(cell_by_gene_matrix)\n",
    "table1.var_names = ds.genes\n",
    "table1.obs[\"region\"] = [\"watershed_segments\" for i in range(len(cell_by_gene_matrix))]\n",
    "table1.obs['cell_id'] = np.arange(len(cell_by_gene_matrix))+1\n",
    "table1.obs['cell_type'] = np.array(cell_type)\n",
    "table_list.append(table1)\n",
    "\n",
    "table2 = sc.AnnData(np.unique(ds.inferred_domains))\n",
    "table2.obs[\"region\"] = [\"inferred_domain\" for i in range(len(np.unique(ds.inferred_domains)+1))]\n",
    "table_list.append(table2)\n",
    "\n",
    "table = ad.concat(\n",
    "    table_list,\n",
    "    keys=[\"watershed_segments\",\"inferred_domain\"],\n",
    ")\n",
    "\n",
    "expression = sd.models.TableModel.parse(\n",
    "    adata=table,\n",
    "    region=[\"watershed_segments\",\"inferred_domain\"],\n",
    "    region_key='region',\n",
    "    instance_key=\"cell_id\",\n",
    ")\n",
    "\n",
    "celltype_maps = sd.models.Image2DModel.parse(ds.celltype_maps[::-1], dims=('x', 'y', 'c'))\n",
    "filtered_celltype_maps = sd.models.Image2DModel.parse(ds.filtered_celltype_maps[::-1], dims=('x', 'y', 'c'))\n",
    "watershed_segments = sd.models.Labels2DModel.parse(ds.watershed_segments[::-1]+1, dims=('x', 'y'))\n",
    "inferred_domains = sd.models.Labels2DModel.parse(np.squeeze(ds.inferred_domains[::-1]+1), dims=('x', 'y'))\n",
    "inferred_domains_cells = sd.models.Labels2DModel.parse(np.squeeze(ds.inferred_domains_cells[::-1]+1), dims=('x', 'y'))\n",
    "inferred_domains_cell = sd.models.Image2DModel.parse(ds.inferred_domains_cells[::-1], dims=('x', 'y', 'c'))\n",
    "inferred_domain = sd.models.Image2DModel.parse(ds.inferred_domains[::-1], dims=('x', 'y','c'))\n",
    "\n",
    "sdata = sd.SpatialData(images = {'celltype_maps': celltype_maps, 'filtered_celltype_maps': filtered_celltype_maps, 'inferred_domain_cell': inferred_domains_cell, 'inferred_domain': inferred_domain},labels={'watershed_segments': watershed_segments,'inferred_domains': inferred_domains},table=expression)\n",
    "sdata.write('data.zarr')"
   ]
  },
  {
   "cell_type": "code",
   "execution_count": 16,
   "metadata": {},
   "outputs": [
    {
     "data": {
      "text/plain": [
       "array([-1,  0,  1,  2,  3,  4,  5,  6,  7,  8])"
      ]
     },
     "execution_count": 16,
     "metadata": {},
     "output_type": "execute_result"
    }
   ],
   "source": [
    "np.unique(ds.inferred_domains)"
   ]
  },
  {
   "cell_type": "code",
   "execution_count": 19,
   "metadata": {},
   "outputs": [
    {
     "data": {
      "text/plain": [
       "array([1, 1, 1, ..., 1, 1, 1])"
      ]
     },
     "execution_count": 19,
     "metadata": {},
     "output_type": "execute_result"
    }
   ],
   "source": [
    "ds.inferred_domains[ds.inferred_domains == 1]"
   ]
  },
  {
   "cell_type": "code",
   "execution_count": 10,
   "metadata": {},
   "outputs": [
    {
     "data": {
      "text/plain": [
       "array([[1.82030499e-01, 4.06136632e-01, 1.67381600e-01, 5.03822744e-01,\n",
       "        1.89701959e-01, 1.88986391e-01, 0.00000000e+00, 1.87325984e-01,\n",
       "        3.49924743e-01, 1.84833273e-01, 0.00000000e+00, 6.64371066e-04,\n",
       "        0.00000000e+00, 6.98858723e-02, 1.07306605e-02, 3.07377845e-01,\n",
       "        3.39207470e-01, 1.79534391e-01, 1.52076423e+00, 4.76837045e-07,\n",
       "        1.90375745e-01, 2.88917392e-01, 1.93949357e-01, 1.98335513e-01,\n",
       "        1.92007780e-01, 1.78659052e-01, 1.89247757e-01, 1.75085098e-01,\n",
       "        9.11178242e-04, 1.88830063e-01, 1.81774661e-01, 1.87677994e-01,\n",
       "        1.80378184e-01],\n",
       "       [1.49835706e-01, 8.15818787e-01, 1.55997261e-01, 3.04387420e-01,\n",
       "        1.51796415e-01, 1.64338097e-01, 0.00000000e+00, 1.42205015e-01,\n",
       "        1.47825092e-01, 1.45864293e-01, 1.19209275e-07, 1.09584900e-02,\n",
       "        1.11085773e-02, 5.32008766e-04, 1.08493634e-01, 1.60552204e-01,\n",
       "        2.63062119e-01, 3.37741911e-01, 1.46274042e+00, 0.00000000e+00,\n",
       "        2.86482602e-01, 1.67443529e-01, 1.53401405e-01, 4.14737165e-01,\n",
       "        1.56883880e-01, 3.01585436e-01, 1.50743082e-01, 2.77953506e-01,\n",
       "        1.25649022e-02, 1.58512563e-01, 1.65798232e-01, 1.50209606e-01,\n",
       "        1.68466732e-01],\n",
       "       [1.74722612e-01, 4.29493755e-01, 1.38219506e-01, 2.71029145e-01,\n",
       "        1.65177315e-01, 1.71127811e-01, 7.15253191e-06, 1.61926955e-01,\n",
       "        1.90189779e-01, 1.60018027e-01, 0.00000000e+00, 8.22540733e-06,\n",
       "        1.66998274e-04, 3.07182670e-01, 2.40873143e-01, 2.27491036e-01,\n",
       "        2.70715356e-01, 1.80568293e-01, 1.68439817e+00, 0.00000000e+00,\n",
       "        1.63933113e-01, 1.66686386e-01, 1.68151885e-01, 2.58228481e-01,\n",
       "        1.78327963e-01, 1.57099158e-01, 1.68868855e-01, 8.70223994e-06,\n",
       "        9.76085954e-04, 1.76161587e-01, 1.60688430e-01, 1.63225770e-01,\n",
       "        1.57557532e-01],\n",
       "       [0.00000000e+00, 5.94730794e-01, 1.08813673e-01, 1.95052326e-01,\n",
       "        1.26765803e-01, 0.00000000e+00, 6.79490631e-06, 1.25108644e-01,\n",
       "        1.28503576e-01, 1.99475467e-01, 0.00000000e+00, 0.00000000e+00,\n",
       "        1.97675198e-01, 2.58447099e-02, 1.03221737e-01, 2.61027843e-01,\n",
       "        3.42778295e-01, 1.03961229e+00, 1.45586085e+00, 1.96014321e-03,\n",
       "        1.46521524e-01, 1.11225627e-01, 1.32653192e-01, 2.45202795e-01,\n",
       "        1.29988074e-01, 1.27831578e-01, 2.10130855e-01, 1.29107133e-01,\n",
       "        6.48655184e-03, 1.82807162e-01, 1.12997606e-01, 1.15689978e-01,\n",
       "        2.31565937e-01],\n",
       "       [1.88004330e-01, 3.33043516e-01, 1.67245269e-01, 3.03705752e-01,\n",
       "        1.90340862e-01, 1.91490427e-01, 1.45901053e-03, 1.78783178e-01,\n",
       "        1.80732071e-01, 2.68370807e-01, 0.00000000e+00, 0.00000000e+00,\n",
       "        1.51150383e-03, 0.00000000e+00, 6.06756839e-05, 1.89725220e-01,\n",
       "        5.00608265e-01, 7.48457968e-01, 1.24565101e+00, 0.00000000e+00,\n",
       "        3.32055211e-01, 1.89902425e-01, 1.91342771e-01, 4.38551396e-01,\n",
       "        1.95549011e-01, 1.87917888e-01, 3.71127754e-01, 1.94257036e-01,\n",
       "        7.98699148e-06, 1.94073766e-01, 1.91490427e-01, 1.88614771e-01,\n",
       "        1.85997114e-01],\n",
       "       [0.00000000e+00, 6.58901036e-01, 1.91614166e-01, 2.61719733e-01,\n",
       "        0.00000000e+00, 2.77066547e-02, 9.22908336e-02, 1.90500289e-01,\n",
       "        2.13815585e-01, 8.78883246e-03, 1.53485239e-01, 1.77620277e-05,\n",
       "        0.00000000e+00, 0.00000000e+00, 2.50339190e-06, 2.91319519e-01,\n",
       "        4.40957397e-01, 5.58749914e-01, 1.63785267e+00, 0.00000000e+00,\n",
       "        1.84645161e-01, 1.89885750e-01, 1.83622807e-01, 1.46748617e-01,\n",
       "        1.86502740e-01, 1.89624846e-01, 1.89407453e-01, 4.60756914e-04,\n",
       "        7.38758175e-03, 4.19409538e-04, 1.87147632e-01, 1.86342478e-01,\n",
       "        1.91775262e-01],\n",
       "       [1.44756943e-01, 9.47678328e-01, 1.42908126e-01, 2.37022236e-01,\n",
       "        2.78823614e-01, 1.45745710e-01, 1.03717148e-02, 1.48794591e-01,\n",
       "        2.79069930e-01, 2.86323816e-01, 1.20888569e-03, 0.00000000e+00,\n",
       "        6.50861548e-05, 1.01882778e-01, 4.76837045e-07, 3.12644094e-01,\n",
       "        2.79826432e-01, 4.02181327e-01, 9.70899343e-01, 0.00000000e+00,\n",
       "        1.48835078e-01, 2.67132074e-01, 2.81360835e-01, 3.56495559e-01,\n",
       "        2.81180888e-01, 3.82911086e-01, 1.51791409e-01, 3.98385048e-01,\n",
       "        3.71744653e-04, 1.45905510e-01, 1.40398294e-01, 1.46969184e-01,\n",
       "        3.89190048e-01],\n",
       "       [1.27155662e-01, 1.18480420e+00, 1.31881803e-01, 4.01674300e-01,\n",
       "        1.31703645e-01, 1.28790468e-01, 0.00000000e+00, 1.29865602e-01,\n",
       "        1.27011940e-01, 1.28766477e-01, 1.20394136e-04, 0.00000000e+00,\n",
       "        3.99788544e-02, 0.00000000e+00, 2.44185459e-02, 2.69281149e-01,\n",
       "        3.25846136e-01, 1.29049718e-01, 1.36539209e+00, 0.00000000e+00,\n",
       "        1.21043630e-01, 1.47046492e-01, 1.25254527e-01, 4.26248968e-01,\n",
       "        1.27013519e-01, 2.47358277e-01, 1.24945283e-01, 1.23502895e-01,\n",
       "        1.21253990e-01, 1.26985475e-01, 1.28849164e-01, 1.31028876e-01,\n",
       "        2.46850267e-01],\n",
       "       [1.62447840e-01, 2.14880928e-01, 1.59367576e-01, 2.43717596e-01,\n",
       "        1.65426895e-01, 1.54986843e-01, 7.93147907e-02, 2.12997913e-01,\n",
       "        2.06389457e-01, 2.08670989e-01, 1.60578981e-01, 1.60583869e-01,\n",
       "        1.69493616e-01, 2.57676601e-01, 1.58888802e-01, 1.70879543e-01,\n",
       "        3.24855864e-01, 3.32347661e-01, 1.45778644e+00, 1.57782137e-01,\n",
       "        2.09732145e-01, 1.54309928e-01, 2.09909961e-01, 1.64329678e-01,\n",
       "        1.56795233e-01, 1.63283393e-01, 2.83280879e-01, 2.95635462e-01,\n",
       "        1.23493199e-04, 1.96222588e-01, 1.56946138e-01, 1.65721372e-01,\n",
       "        1.63282990e-01],\n",
       "       [1.42996371e-01, 2.34182969e-01, 1.39417395e-01, 4.23604250e-01,\n",
       "        2.71781206e-01, 1.33412004e-01, 2.14620447e-03, 2.45788068e-01,\n",
       "        1.39418125e-01, 2.73985744e-01, 0.00000000e+00, 1.30086690e-01,\n",
       "        2.07126047e-03, 0.00000000e+00, 2.65801384e-04, 1.37416974e-01,\n",
       "        4.69178379e-01, 3.26474488e-01, 1.61425734e+00, 0.00000000e+00,\n",
       "        2.44721398e-01, 1.73050970e-01, 1.37512863e-01, 3.48368019e-01,\n",
       "        1.30165488e-01, 1.45556077e-01, 0.00000000e+00, 2.55399823e-01,\n",
       "        1.04126520e-02, 1.54759541e-01, 2.62406468e-01, 1.47565514e-01,\n",
       "        1.42636016e-01],\n",
       "       [1.78837210e-01, 7.29114592e-01, 2.66527325e-01, 3.43276918e-01,\n",
       "        0.00000000e+00, 2.90255129e-01, 0.00000000e+00, 1.70488879e-01,\n",
       "        1.61740273e-01, 1.64557129e-01, 0.00000000e+00, 0.00000000e+00,\n",
       "        1.88032776e-01, 7.21538901e-01, 2.47759745e-02, 1.81827441e-01,\n",
       "        1.74638331e-01, 1.78956613e-01, 1.37093961e+00, 5.03237266e-03,\n",
       "        1.46621481e-01, 1.18379541e-01, 1.64296091e-01, 3.53127778e-01,\n",
       "        1.59866840e-01, 1.66040897e-01, 1.61373422e-01, 1.69646859e-01,\n",
       "        3.09943675e-06, 1.66608199e-01, 1.59725413e-01, 1.70915931e-01,\n",
       "        1.64244622e-01],\n",
       "       [0.00000000e+00, 5.73801935e-01, 2.27254972e-01, 3.25832367e-01,\n",
       "        1.78791746e-01, 2.17882529e-01, 0.00000000e+00, 2.16330245e-01,\n",
       "        2.28403881e-01, 2.15593681e-01, 0.00000000e+00, 6.56578410e-03,\n",
       "        1.17175863e-04, 0.00000000e+00, 4.82681120e-04, 3.50072801e-01,\n",
       "        2.38368258e-01, 3.80371898e-01, 1.42158580e+00, 7.81982380e-05,\n",
       "        2.19024926e-01, 1.81462914e-01, 2.23972052e-01, 3.63728285e-01,\n",
       "        2.20416531e-01, 2.24188522e-01, 1.82271436e-01, 3.16646308e-01,\n",
       "        0.00000000e+00, 2.09340811e-01, 1.83722913e-01, 2.02052400e-01,\n",
       "        2.16923371e-01],\n",
       "       [1.92704588e-01, 1.00282955e+00, 1.94271773e-01, 1.97548106e-01,\n",
       "        1.93978220e-01, 1.79450497e-01, 7.10462191e-05, 1.87798142e-01,\n",
       "        1.91995487e-01, 3.56747568e-01, 1.81724317e-03, 3.50720808e-02,\n",
       "        5.04485623e-04, 5.22476912e-04, 5.12598672e-06, 1.93344802e-01,\n",
       "        4.40340966e-01, 3.62488955e-01, 1.07085311e+00, 5.96046334e-07,\n",
       "        2.73715049e-01, 1.77307323e-01, 1.78694934e-01, 5.17245650e-01,\n",
       "        1.79656804e-01, 1.86806396e-01, 1.87246516e-01, 1.81479424e-01,\n",
       "        1.85703605e-01, 1.84293449e-01, 1.81586787e-01, 1.91622823e-01,\n",
       "        1.86806396e-01],\n",
       "       [1.96795183e-04, 3.70586932e-01, 1.93161935e-01, 4.85806704e-01,\n",
       "        1.90819591e-01, 2.20585391e-01, 4.93759755e-03, 1.74745038e-01,\n",
       "        2.17680693e-01, 2.81069707e-03, 0.00000000e+00, 1.77702457e-02,\n",
       "        0.00000000e+00, 4.40300733e-01, 3.88629059e-03, 3.27631235e-01,\n",
       "        2.20280901e-01, 1.92024887e-01, 1.52926803e+00, 1.28008414e-03,\n",
       "        2.02041566e-01, 2.02879354e-01, 2.05526456e-01, 3.28493893e-01,\n",
       "        2.03324035e-01, 1.96423888e-01, 1.92996532e-01, 1.92806125e-01,\n",
       "        5.78171248e-03, 1.91999093e-01, 1.88457400e-01, 1.87636301e-01,\n",
       "        1.92001075e-01],\n",
       "       [1.40478685e-01, 7.97021627e-01, 0.00000000e+00, 2.90715367e-01,\n",
       "        0.00000000e+00, 1.87414840e-01, 2.32455441e-05, 1.56285241e-01,\n",
       "        1.39746994e-01, 1.74293011e-01, 0.00000000e+00, 1.83327080e-04,\n",
       "        1.96143538e-01, 2.31556427e-02, 0.00000000e+00, 2.41834715e-01,\n",
       "        1.60119802e-01, 1.73981816e-01, 1.62812328e+00, 0.00000000e+00,\n",
       "        2.69452184e-01, 1.55185699e-01, 2.79687732e-01, 1.65284336e-01,\n",
       "        1.46983296e-01, 1.70065999e-01, 1.44898146e-01, 1.50195643e-01,\n",
       "        8.37809464e-04, 1.44842237e-01, 1.53130278e-01, 2.66605645e-01,\n",
       "        2.89920151e-01],\n",
       "       [1.39073804e-01, 8.90939236e-01, 1.41497359e-01, 3.60410571e-01,\n",
       "        1.36882350e-01, 1.44760966e-01, 4.91840020e-02, 1.39643639e-01,\n",
       "        1.38621643e-01, 4.55639899e-01, 2.04422340e-01, 0.00000000e+00,\n",
       "        0.00000000e+00, 1.10799298e-02, 4.35824618e-02, 2.78246582e-01,\n",
       "        4.38897014e-01, 2.39336818e-01, 1.22559011e+00, 0.00000000e+00,\n",
       "        1.49558395e-01, 2.64613271e-01, 1.39914408e-01, 3.30224305e-01,\n",
       "        1.41440943e-01, 2.62139469e-01, 1.42213181e-01, 1.44393295e-01,\n",
       "        8.87001380e-02, 1.51925057e-01, 2.64964283e-01, 1.36309370e-01,\n",
       "        2.59441435e-01],\n",
       "       [1.38078928e-01, 4.18843627e-01, 1.73337877e-01, 1.63143262e-01,\n",
       "        1.47708893e-01, 3.44147444e-01, 1.59879744e-01, 1.63289681e-01,\n",
       "        1.63949400e-01, 2.51752704e-01, 0.00000000e+00, 0.00000000e+00,\n",
       "        5.56324273e-02, 1.12765629e-04, 3.00452169e-02, 2.33270869e-01,\n",
       "        4.56451714e-01, 7.47043669e-01, 1.21302533e+00, 1.33195415e-01,\n",
       "        1.61691293e-01, 1.53813198e-01, 1.49624795e-01, 4.18867946e-01,\n",
       "        1.54251695e-01, 1.85258076e-01, 1.53745234e-01, 1.62120685e-01,\n",
       "        4.86347437e-01, 1.56538785e-01, 1.59253925e-01, 1.61343381e-01,\n",
       "        1.43904611e-01],\n",
       "       [1.94169730e-02, 1.17468309e+00, 3.05791825e-01, 1.77045897e-01,\n",
       "        1.67949870e-01, 1.72087938e-01, 3.54749709e-02, 1.78214163e-01,\n",
       "        1.76873013e-01, 1.14440263e-05, 1.22734066e-03, 2.03522239e-02,\n",
       "        1.30651449e-03, 0.00000000e+00, 3.90245356e-02, 3.78638297e-01,\n",
       "        3.29180926e-01, 2.74800360e-01, 1.18131828e+00, 2.92730634e-03,\n",
       "        3.38336855e-01, 3.25483352e-01, 1.80254176e-01, 1.81181720e-04,\n",
       "        1.82390854e-01, 3.26805383e-01, 1.79342493e-01, 1.71666324e-01,\n",
       "        4.09400091e-04, 1.76799715e-01, 3.17981273e-01, 1.76232353e-01,\n",
       "        1.73494443e-01],\n",
       "       [1.28950492e-01, 1.13775134e+00, 1.40612096e-01, 2.41097510e-01,\n",
       "        1.37997210e-01, 3.21395814e-01, 8.11730418e-03, 2.41274998e-01,\n",
       "        2.59024650e-01, 2.89999574e-01, 8.94834287e-03, 4.34423506e-04,\n",
       "        4.63549420e-02, 6.97307885e-02, 1.07759392e-04, 2.30911300e-01,\n",
       "        3.27378601e-01, 1.42237052e-01, 1.30170619e+00, 0.00000000e+00,\n",
       "        1.53899044e-01, 3.26286145e-02, 1.55586153e-01, 3.04706097e-01,\n",
       "        1.46250904e-01, 1.43066749e-01, 2.56652653e-01, 1.44124269e-01,\n",
       "        1.59613008e-03, 1.45717070e-01, 2.91108102e-01, 1.34568140e-01,\n",
       "        1.40398607e-01],\n",
       "       [0.00000000e+00, 1.22428858e+00, 1.69194728e-01, 3.35718960e-01,\n",
       "        1.68649524e-01, 2.00889036e-01, 0.00000000e+00, 1.58869371e-01,\n",
       "        1.67023674e-01, 2.16996491e-01, 0.00000000e+00, 0.00000000e+00,\n",
       "        1.37796436e-04, 3.70372199e-02, 1.72421187e-01, 1.71547741e-01,\n",
       "        2.10154161e-01, 5.41761935e-01, 9.93483901e-01, 2.65682203e-04,\n",
       "        3.00699681e-01, 1.69692934e-01, 1.70201167e-01, 2.37131417e-01,\n",
       "        1.77311033e-01, 3.03407431e-01, 2.50457793e-01, 1.62727997e-01,\n",
       "        1.94745481e-01, 1.68401465e-01, 1.70536041e-01, 1.69809908e-01,\n",
       "        1.63263857e-01],\n",
       "       [1.45767957e-01, 7.07129478e-01, 1.42968059e-01, 1.49795070e-01,\n",
       "        1.34201393e-01, 3.64823163e-01, 3.76361771e-03, 2.60206789e-01,\n",
       "        1.44085363e-01, 2.69972682e-01, 0.00000000e+00, 2.88482315e-05,\n",
       "        3.96980256e-01, 5.03095031e-01, 5.37797846e-02, 3.71512592e-01,\n",
       "        1.86779022e-01, 1.55202433e-01, 1.21058154e+00, 1.23572210e-02,\n",
       "        1.65944964e-01, 2.38886222e-01, 2.51312941e-01, 2.90504366e-01,\n",
       "        2.78145522e-01, 1.35994136e-01, 2.51267493e-01, 1.68981507e-01,\n",
       "        4.06107074e-03, 1.52095035e-01, 1.25526175e-01, 2.54738450e-01,\n",
       "        1.49193928e-01],\n",
       "       [1.88352168e-01, 8.59380007e-01, 4.22606200e-01, 1.87598556e-01,\n",
       "        1.83564469e-01, 1.82269737e-01, 0.00000000e+00, 1.88550413e-01,\n",
       "        1.90714657e-01, 2.51056641e-01, 1.70216357e-04, 3.24244029e-05,\n",
       "        6.94966075e-05, 1.37578789e-02, 2.78290719e-01, 2.42998317e-01,\n",
       "        6.70424938e-01, 3.56362432e-01, 1.08024418e+00, 0.00000000e+00,\n",
       "        1.95128635e-01, 1.83464363e-01, 1.79424793e-01, 3.51273686e-01,\n",
       "        1.85934648e-01, 1.84376240e-01, 1.80817947e-01, 1.89391404e-01,\n",
       "        1.79938748e-01, 1.86852515e-01, 1.83138058e-01, 0.00000000e+00,\n",
       "        1.85934648e-01],\n",
       "       [1.56150430e-01, 7.09293425e-01, 2.88391262e-01, 1.52813956e-01,\n",
       "        2.81447202e-01, 3.17366660e-01, 0.00000000e+00, 2.86110967e-01,\n",
       "        1.52352616e-01, 2.80378580e-01, 0.00000000e+00, 1.21599659e-01,\n",
       "        2.23015712e-04, 0.00000000e+00, 0.00000000e+00, 3.25547636e-01,\n",
       "        7.98441023e-02, 2.88036913e-01, 1.29429126e+00, 1.19209221e-06,\n",
       "        1.55435950e-01, 2.01950192e-01, 1.50487036e-01, 1.82021141e-01,\n",
       "        2.81441122e-01, 2.06459656e-01, 2.42628887e-01, 3.32555681e-01,\n",
       "        4.88480143e-02, 3.31089109e-01, 2.01612726e-01, 2.87502646e-01,\n",
       "        2.02880830e-01]], dtype=float32)"
      ]
     },
     "execution_count": 10,
     "metadata": {},
     "output_type": "execute_result"
    }
   ],
   "source": [
    "#원하는 클러스터내 벡터\n",
    "ds.normalized_vectors[ds.filtered_cluster_labels == 38]"
   ]
  },
  {
   "cell_type": "code",
   "execution_count": 20,
   "metadata": {},
   "outputs": [],
   "source": [
    "cell_type = [0]\n",
    "for i in range(len(cell_by_gene_matrix)-1):\n",
    "    cell_type.append(int(np.unique(ds.watershed_celltype_maps[ds.watershed_segments == i]))+1)"
   ]
  },
  {
   "cell_type": "code",
   "execution_count": 26,
   "metadata": {},
   "outputs": [],
   "source": [
    "import numpy as np\n",
    "\n",
    "main_domain = [0]\n",
    "secondary_domain = [0]\n",
    "additional_domains = [0]\n",
    "\n",
    "unique_domains = [np.unique(ds.inferred_domains[ds.watershed_segments == i]) for i in range(len(cell_by_gene_matrix) - 1)]\n",
    "\n",
    "for k in unique_domains:\n",
    "    if len(k) == 1:\n",
    "        main_domain.append(k[0] + 1)\n",
    "        secondary_domain.append(k[0]+ 1)\n",
    "        additional_domains.append(0)\n",
    "    elif len(k) == 2:\n",
    "        main_domain.append(k[0] + 1)\n",
    "        secondary_domain.append(k[1] + 1)\n",
    "        additional_domains.append(0)\n",
    "    elif len(k) > 2:\n",
    "        main_domain.append(k[0] + 1)\n",
    "        secondary_domain.append(k[1] + 1)\n",
    "        additional_domains.append(list(k[2:] + 1))\n",
    "     "
   ]
  },
  {
   "cell_type": "code",
   "execution_count": 22,
   "metadata": {},
   "outputs": [
    {
     "name": "stderr",
     "output_type": "stream",
     "text": [
      "/home/ng4812/miniconda3/envs/ome/lib/python3.11/site-packages/spatialdata/models/models.py:725: FutureWarning: is_categorical_dtype is deprecated and will be removed in a future version. Use isinstance(dtype, CategoricalDtype) instead\n",
      "  if not is_categorical_dtype(adata.obs[region_key]):\n",
      "/tmp/ipykernel_2822893/439840326.py:12: UserWarning: Converting `region_key: region` to categorical dtype.\n",
      "  expression = sd.models.TableModel.parse(\n"
     ]
    }
   ],
   "source": [
    "import scanpy as sc\n",
    "import spatialdata as sd\n",
    "table = sc.AnnData(cell_by_gene_matrix)\n",
    "\n",
    "table.var_names = ds.genes\n",
    "table.obs[\"region\"] = [\"watershed_segments\" for i in range(len(cell_by_gene_matrix))]\n",
    "table.obs['cell_id'] = np.arange(len(cell_by_gene_matrix))+1\n",
    "table.obs['cell_type'] = np.array(cell_type)\n",
    "table.obs['main_domain'] = np.array(main_domain)\n",
    "table.obs['secondary_domain'] = np.array(secondary_domain)\n",
    "\n",
    "expression = sd.models.TableModel.parse(\n",
    "    adata=table,\n",
    "    region=\"watershed_segments\",\n",
    "    region_key='region',\n",
    "    instance_key=\"cell_id\",\n",
    ")"
   ]
  },
  {
   "cell_type": "code",
   "execution_count": 25,
   "metadata": {},
   "outputs": [
    {
     "name": "stdout",
     "output_type": "stream",
     "text": [
      "\u001b[34mINFO    \u001b[0m Transposing `data` of type: \u001b[1m<\u001b[0m\u001b[1;95mclass\u001b[0m\u001b[39m \u001b[0m\u001b[32m'dask.array.core.Array'\u001b[0m\u001b[1m>\u001b[0m to \u001b[1m(\u001b[0m\u001b[32m'c'\u001b[0m, \u001b[32m'y'\u001b[0m, \u001b[32m'x'\u001b[0m\u001b[1m)\u001b[0m.                           \n",
      "\u001b[34mINFO    \u001b[0m Transposing `data` of type: \u001b[1m<\u001b[0m\u001b[1;95mclass\u001b[0m\u001b[39m \u001b[0m\u001b[32m'dask.array.core.Array'\u001b[0m\u001b[1m>\u001b[0m to \u001b[1m(\u001b[0m\u001b[32m'c'\u001b[0m, \u001b[32m'y'\u001b[0m, \u001b[32m'x'\u001b[0m\u001b[1m)\u001b[0m.                           \n",
      "\u001b[34mINFO    \u001b[0m Transposing `data` of type: \u001b[1m<\u001b[0m\u001b[1;95mclass\u001b[0m\u001b[39m \u001b[0m\u001b[32m'dask.array.core.Array'\u001b[0m\u001b[1m>\u001b[0m to \u001b[1m(\u001b[0m\u001b[32m'y'\u001b[0m, \u001b[32m'x'\u001b[0m\u001b[1m)\u001b[0m.                                \n"
     ]
    },
    {
     "name": "stdout",
     "output_type": "stream",
     "text": [
      "\u001b[34mINFO    \u001b[0m Transposing `data` of type: \u001b[1m<\u001b[0m\u001b[1;95mclass\u001b[0m\u001b[39m \u001b[0m\u001b[32m'dask.array.core.Array'\u001b[0m\u001b[1m>\u001b[0m to \u001b[1m(\u001b[0m\u001b[32m'y'\u001b[0m, \u001b[32m'x'\u001b[0m\u001b[1m)\u001b[0m.                                \n",
      "\u001b[34mINFO    \u001b[0m Transposing `data` of type: \u001b[1m<\u001b[0m\u001b[1;95mclass\u001b[0m\u001b[39m \u001b[0m\u001b[32m'dask.array.core.Array'\u001b[0m\u001b[1m>\u001b[0m to \u001b[1m(\u001b[0m\u001b[32m'y'\u001b[0m, \u001b[32m'x'\u001b[0m\u001b[1m)\u001b[0m.                                \n",
      "\u001b[34mINFO    \u001b[0m Transposing `data` of type: \u001b[1m<\u001b[0m\u001b[1;95mclass\u001b[0m\u001b[39m \u001b[0m\u001b[32m'dask.array.core.Array'\u001b[0m\u001b[1m>\u001b[0m to \u001b[1m(\u001b[0m\u001b[32m'c'\u001b[0m, \u001b[32m'y'\u001b[0m, \u001b[32m'x'\u001b[0m\u001b[1m)\u001b[0m.                           \n",
      "\u001b[34mINFO    \u001b[0m Transposing `data` of type: \u001b[1m<\u001b[0m\u001b[1;95mclass\u001b[0m\u001b[39m \u001b[0m\u001b[32m'dask.array.core.Array'\u001b[0m\u001b[1m>\u001b[0m to \u001b[1m(\u001b[0m\u001b[32m'c'\u001b[0m, \u001b[32m'y'\u001b[0m, \u001b[32m'x'\u001b[0m\u001b[1m)\u001b[0m.                           \n"
     ]
    },
    {
     "name": "stderr",
     "output_type": "stream",
     "text": [
      "no parent found for <ome_zarr.reader.Label object at 0x7f202b011390>: None\n",
      "no parent found for <ome_zarr.reader.Label object at 0x7f2024195850>: None\n",
      "/home/ng4812/miniconda3/envs/ome/lib/python3.11/site-packages/spatialdata/_io/format.py:169: FutureWarning: is_categorical_dtype is deprecated and will be removed in a future version. Use isinstance(dtype, CategoricalDtype) instead\n",
      "  if region_key is not None and not is_categorical_dtype(table.obs[region_key]):\n"
     ]
    }
   ],
   "source": [
    "import spatialdata as sd\n",
    "import numpy as np\n",
    "import scanpy as sc\n",
    "from spatialdata.transformations import Identity\n",
    "\n",
    "#transformations={Identity()}\n",
    "#watershed_segments = sd.models.Labels2DModel.parse(ds.watershed_segments+1, dims=('y', 'x'))\n",
    "#ValueError: zero-size array to reduction operation fmax which has no identity\n",
    "\n",
    "celltype_maps = sd.models.Image2DModel.parse(ds.celltype_maps[::-1], dims=('x', 'y', 'c'))\n",
    "filtered_celltype_maps = sd.models.Image2DModel.parse(ds.filtered_celltype_maps[::-1], dims=('x', 'y', 'c'))\n",
    "watershed_segments = sd.models.Labels2DModel.parse(ds.watershed_segments[::-1]+1, dims=('x', 'y'))\n",
    "inferred_domains = sd.models.Labels2DModel.parse(np.squeeze(ds.inferred_domains[::-1]+1), dims=('x', 'y'))\n",
    "inferred_domains_cells = sd.models.Labels2DModel.parse(np.squeeze(ds.inferred_domains_cells[::-1]+1), dims=('x', 'y'))\n",
    "inferred_domains_cell = sd.models.Image2DModel.parse(ds.inferred_domains_cells[::-1], dims=('x', 'y', 'c'))\n",
    "inferred_domain = sd.models.Image2DModel.parse(ds.inferred_domains[::-1], dims=('x', 'y','c'))\n",
    "#'watershed_celltype_maps': watershed_celltype_maps, 'inferred_domains': inferred_domains,'inferred_domains_cells':inferred_domains_cells\n",
    "\n",
    "sdata = sd.SpatialData(images = {'celltype_maps': celltype_maps, 'filtered_celltype_maps': filtered_celltype_maps},labels={'watershed_segments': watershed_segments,'inferred_domains': inferred_domains},table=expression)\n",
    "sdata.write('data.zarr')"
   ]
  },
  {
   "cell_type": "code",
   "execution_count": 24,
   "metadata": {},
   "outputs": [
    {
     "ename": "PathNotFoundError",
     "evalue": "nothing found at path ''",
     "output_type": "error",
     "traceback": [
      "\u001b[0;31m---------------------------------------------------------------------------\u001b[0m",
      "\u001b[0;31mPathNotFoundError\u001b[0m                         Traceback (most recent call last)",
      "\u001b[1;32m/home/ng4812/SpatialData/spatialdata-sandbox/ssam_osmfish/converter.ipynb 셀 18\u001b[0m line \u001b[0;36m2\n\u001b[1;32m      <a href='vscode-notebook-cell://ssh-remote%2B10.125.208.41/home/ng4812/SpatialData/spatialdata-sandbox/ssam_osmfish/converter.ipynb#X30sdnNjb2RlLXJlbW90ZQ%3D%3D?line=0'>1</a>\u001b[0m \u001b[39mimport\u001b[39;00m \u001b[39mspatialdata\u001b[39;00m \u001b[39mas\u001b[39;00m \u001b[39msd\u001b[39;00m\n\u001b[0;32m----> <a href='vscode-notebook-cell://ssh-remote%2B10.125.208.41/home/ng4812/SpatialData/spatialdata-sandbox/ssam_osmfish/converter.ipynb#X30sdnNjb2RlLXJlbW90ZQ%3D%3D?line=1'>2</a>\u001b[0m sdata_read \u001b[39m=\u001b[39m sd\u001b[39m.\u001b[39;49mread_zarr(\u001b[39m'\u001b[39;49m\u001b[39mdata.zarr\u001b[39;49m\u001b[39m'\u001b[39;49m)\n\u001b[1;32m      <a href='vscode-notebook-cell://ssh-remote%2B10.125.208.41/home/ng4812/SpatialData/spatialdata-sandbox/ssam_osmfish/converter.ipynb#X30sdnNjb2RlLXJlbW90ZQ%3D%3D?line=2'>3</a>\u001b[0m sdata_read\n",
      "File \u001b[0;32m~/miniconda3/envs/ome/lib/python3.11/site-packages/spatialdata/_io/io_zarr.py:59\u001b[0m, in \u001b[0;36mread_zarr\u001b[0;34m(store, selection)\u001b[0m\n\u001b[1;32m     42\u001b[0m \u001b[39mdef\u001b[39;00m \u001b[39mread_zarr\u001b[39m(store: Union[\u001b[39mstr\u001b[39m, Path, zarr\u001b[39m.\u001b[39mGroup], selection: Optional[\u001b[39mtuple\u001b[39m[\u001b[39mstr\u001b[39m]] \u001b[39m=\u001b[39m \u001b[39mNone\u001b[39;00m) \u001b[39m-\u001b[39m\u001b[39m>\u001b[39m SpatialData:\n\u001b[1;32m     43\u001b[0m \u001b[39m    \u001b[39m\u001b[39m\"\"\"\u001b[39;00m\n\u001b[1;32m     44\u001b[0m \u001b[39m    Read a SpatialData dataset from a zarr store (on-disk or remote).\u001b[39;00m\n\u001b[1;32m     45\u001b[0m \n\u001b[0;32m   (...)\u001b[0m\n\u001b[1;32m     57\u001b[0m \u001b[39m    A SpatialData object.\u001b[39;00m\n\u001b[1;32m     58\u001b[0m \u001b[39m    \"\"\"\u001b[39;00m\n\u001b[0;32m---> 59\u001b[0m     f, f_store_path \u001b[39m=\u001b[39m _open_zarr_store(store)\n\u001b[1;32m     61\u001b[0m     images \u001b[39m=\u001b[39m {}\n\u001b[1;32m     62\u001b[0m     labels \u001b[39m=\u001b[39m {}\n",
      "File \u001b[0;32m~/miniconda3/envs/ome/lib/python3.11/site-packages/spatialdata/_io/io_zarr.py:34\u001b[0m, in \u001b[0;36m_open_zarr_store\u001b[0;34m(store)\u001b[0m\n\u001b[1;32m     21\u001b[0m \u001b[39mdef\u001b[39;00m \u001b[39m_open_zarr_store\u001b[39m(store: Union[\u001b[39mstr\u001b[39m, Path, zarr\u001b[39m.\u001b[39mGroup]) \u001b[39m-\u001b[39m\u001b[39m>\u001b[39m \u001b[39mtuple\u001b[39m[zarr\u001b[39m.\u001b[39mGroup, \u001b[39mstr\u001b[39m]:\n\u001b[1;32m     22\u001b[0m \u001b[39m    \u001b[39m\u001b[39m\"\"\"\u001b[39;00m\n\u001b[1;32m     23\u001b[0m \u001b[39m    Open a zarr store (on-disk or remote) and return the zarr.Group object and the path to the store.\u001b[39;00m\n\u001b[1;32m     24\u001b[0m \n\u001b[0;32m   (...)\u001b[0m\n\u001b[1;32m     32\u001b[0m \u001b[39m    A tuple of the zarr.Group object and the path to the store.\u001b[39;00m\n\u001b[1;32m     33\u001b[0m \u001b[39m    \"\"\"\u001b[39;00m\n\u001b[0;32m---> 34\u001b[0m     f \u001b[39m=\u001b[39m store \u001b[39mif\u001b[39;00m \u001b[39misinstance\u001b[39m(store, zarr\u001b[39m.\u001b[39mGroup) \u001b[39melse\u001b[39;00m zarr\u001b[39m.\u001b[39;49mopen(store, mode\u001b[39m=\u001b[39;49m\u001b[39m\"\u001b[39;49m\u001b[39mr\u001b[39;49m\u001b[39m\"\u001b[39;49m)\n\u001b[1;32m     35\u001b[0m     \u001b[39m# workaround: .zmetadata is being written as zmetadata (https://github.com/zarr-developers/zarr-python/issues/1121)\u001b[39;00m\n\u001b[1;32m     36\u001b[0m     \u001b[39mif\u001b[39;00m \u001b[39misinstance\u001b[39m(store, (\u001b[39mstr\u001b[39m, Path)) \u001b[39mand\u001b[39;00m \u001b[39mstr\u001b[39m(store)\u001b[39m.\u001b[39mstartswith(\u001b[39m\"\u001b[39m\u001b[39mhttp\u001b[39m\u001b[39m\"\u001b[39m) \u001b[39mand\u001b[39;00m \u001b[39mlen\u001b[39m(f) \u001b[39m==\u001b[39m \u001b[39m0\u001b[39m:\n",
      "File \u001b[0;32m~/miniconda3/envs/ome/lib/python3.11/site-packages/zarr/convenience.py:130\u001b[0m, in \u001b[0;36mopen\u001b[0;34m(store, mode, zarr_version, path, **kwargs)\u001b[0m\n\u001b[1;32m    128\u001b[0m     \u001b[39mreturn\u001b[39;00m open_group(_store, mode\u001b[39m=\u001b[39mmode, \u001b[39m*\u001b[39m\u001b[39m*\u001b[39mkwargs)\n\u001b[1;32m    129\u001b[0m \u001b[39melse\u001b[39;00m:\n\u001b[0;32m--> 130\u001b[0m     \u001b[39mraise\u001b[39;00m PathNotFoundError(path)\n",
      "\u001b[0;31mPathNotFoundError\u001b[0m: nothing found at path ''"
     ]
    }
   ],
   "source": [
    "import spatialdata as sd\n",
    "sdata_read = sd.read_zarr('data.zarr')\n",
    "sdata_read"
   ]
  },
  {
   "cell_type": "code",
   "execution_count": null,
   "metadata": {},
   "outputs": [],
   "source": []
  }
 ],
 "metadata": {
  "kernelspec": {
   "display_name": "ome",
   "language": "python",
   "name": "python3"
  },
  "language_info": {
   "codemirror_mode": {
    "name": "ipython",
    "version": 3
   },
   "file_extension": ".py",
   "mimetype": "text/x-python",
   "name": "python",
   "nbconvert_exporter": "python",
   "pygments_lexer": "ipython3",
   "version": "3.11.6"
  }
 },
 "nbformat": 4,
 "nbformat_minor": 2
}
