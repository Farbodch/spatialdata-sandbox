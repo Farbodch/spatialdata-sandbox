{
 "cells": [
  {
   "cell_type": "code",
   "execution_count": 1,
   "metadata": {},
   "outputs": [
    {
     "name": "stderr",
     "output_type": "stream",
     "text": [
      "/home/ng4812/miniconda3/envs/ssam/lib/python3.9/site-packages/umap/distances.py:1063: NumbaDeprecationWarning: The 'nopython' keyword argument was not supplied to the 'numba.jit' decorator. The implicit default value for this argument is currently False, but it will be changed to True in Numba 0.59.0. See https://numba.readthedocs.io/en/stable/reference/deprecation.html#deprecation-of-object-mode-fall-back-behaviour-when-using-jit for details.\n",
      "  @numba.jit()\n",
      "/home/ng4812/miniconda3/envs/ssam/lib/python3.9/site-packages/umap/distances.py:1071: NumbaDeprecationWarning: The 'nopython' keyword argument was not supplied to the 'numba.jit' decorator. The implicit default value for this argument is currently False, but it will be changed to True in Numba 0.59.0. See https://numba.readthedocs.io/en/stable/reference/deprecation.html#deprecation-of-object-mode-fall-back-behaviour-when-using-jit for details.\n",
      "  @numba.jit()\n",
      "/home/ng4812/miniconda3/envs/ssam/lib/python3.9/site-packages/umap/distances.py:1086: NumbaDeprecationWarning: The 'nopython' keyword argument was not supplied to the 'numba.jit' decorator. The implicit default value for this argument is currently False, but it will be changed to True in Numba 0.59.0. See https://numba.readthedocs.io/en/stable/reference/deprecation.html#deprecation-of-object-mode-fall-back-behaviour-when-using-jit for details.\n",
      "  @numba.jit()\n",
      "/home/ng4812/miniconda3/envs/ssam/lib/python3.9/site-packages/tqdm/auto.py:21: TqdmWarning: IProgress not found. Please update jupyter and ipywidgets. See https://ipywidgets.readthedocs.io/en/stable/user_install.html\n",
      "  from .autonotebook import tqdm as notebook_tqdm\n",
      "/home/ng4812/miniconda3/envs/ssam/lib/python3.9/site-packages/umap/umap_.py:660: NumbaDeprecationWarning: The 'nopython' keyword argument was not supplied to the 'numba.jit' decorator. The implicit default value for this argument is currently False, but it will be changed to True in Numba 0.59.0. See https://numba.readthedocs.io/en/stable/reference/deprecation.html#deprecation-of-object-mode-fall-back-behaviour-when-using-jit for details.\n",
      "  @numba.jit()\n"
     ]
    },
    {
     "ename": "ModuleNotFoundError",
     "evalue": "No module named 'anndata'",
     "output_type": "error",
     "traceback": [
      "\u001b[0;31m---------------------------------------------------------------------------\u001b[0m",
      "\u001b[0;31mModuleNotFoundError\u001b[0m                       Traceback (most recent call last)",
      "\u001b[1;32m/home/ng4812/SpatialData/spatialdata-sandbox/ssam_osmfish/converter.ipynb 셀 1\u001b[0m line \u001b[0;36m6\n\u001b[1;32m      <a href='vscode-notebook-cell://ssh-remote%2B10.125.208.41/home/ng4812/SpatialData/spatialdata-sandbox/ssam_osmfish/converter.ipynb#W0sdnNjb2RlLXJlbW90ZQ%3D%3D?line=3'>4</a>\u001b[0m \u001b[39mimport\u001b[39;00m \u001b[39mnumpy\u001b[39;00m \u001b[39mas\u001b[39;00m \u001b[39mnp\u001b[39;00m\n\u001b[1;32m      <a href='vscode-notebook-cell://ssh-remote%2B10.125.208.41/home/ng4812/SpatialData/spatialdata-sandbox/ssam_osmfish/converter.ipynb#W0sdnNjb2RlLXJlbW90ZQ%3D%3D?line=4'>5</a>\u001b[0m \u001b[39mimport\u001b[39;00m \u001b[39mseaborn\u001b[39;00m \u001b[39mas\u001b[39;00m \u001b[39msns\u001b[39;00m\n\u001b[0;32m----> <a href='vscode-notebook-cell://ssh-remote%2B10.125.208.41/home/ng4812/SpatialData/spatialdata-sandbox/ssam_osmfish/converter.ipynb#W0sdnNjb2RlLXJlbW90ZQ%3D%3D?line=5'>6</a>\u001b[0m \u001b[39mimport\u001b[39;00m \u001b[39manndata\u001b[39;00m \u001b[39mas\u001b[39;00m \u001b[39mad\u001b[39;00m\n",
      "\u001b[0;31mModuleNotFoundError\u001b[0m: No module named 'anndata'"
     ]
    }
   ],
   "source": [
    "import ssam\n",
    "import pandas as pd\n",
    "import matplotlib.pyplot as plt\n",
    "import numpy as np\n",
    "import seaborn as sns\n",
    "import anndata as ad"
   ]
  },
  {
   "cell_type": "code",
   "execution_count": 2,
   "metadata": {},
   "outputs": [
    {
     "name": "stdout",
     "output_type": "stream",
     "text": [
      "Loaded existing KDE results.\n",
      "Loaded existing local maxima.\n",
      "Loaded a precomputed normalized vector field.\n",
      "Loaded existing cluster labels.\n",
      "Loaded an existing t-SNE result.\n",
      "Loaded an existing UMAP result.\n",
      "Loaded existing cell type maps.\n",
      "Loaded existing filtered cell type maps.\n"
     ]
    },
    {
     "name": "stdout",
     "output_type": "stream",
     "text": [
      "Loaded existing cell type binned centers and counts.\n",
      "Loaded existing inferred domains.\n",
      "Loaded existing watershed segmentations.\n",
      "Loaded existing transferred cluster labels.\n"
     ]
    }
   ],
   "source": [
    "ds = ssam.SSAMDataset(\"data/processed/ssamdataset-osmFISH.zarr\")\n",
    "analysis = ssam.SSAMAnalysis(ds, ncores=40, verbose=True)"
   ]
  },
  {
   "cell_type": "code",
   "execution_count": 3,
   "metadata": {},
   "outputs": [],
   "source": [
    "import h5py\n",
    "\n",
    "pixel_per_um = 15.3846 # from BioRxiv paper\n",
    "um_per_pixel = 1.0 / pixel_per_um\n",
    "\n",
    "blacklists = ['Cnr1_Hybridization4', 'Plp1_Hybridization4', 'Vtn_Hybridization4',\n",
    "              'Klk6_Hybridization5', 'Lum_Hybridization9', 'Tbr1_Hybridization11']\n",
    "\n",
    "with h5py.File(\"./data/raw/mRNA_coords_raw_counting.hdf5\", 'r') as f:\n",
    "    # Extract gene names (keys)\n",
    "    gene_names = list(f.keys())\n",
    "    # Extract x, y coordinates for each gene and store them along with the gene name\n",
    "    data_list = []\n",
    "    for gene in gene_names:\n",
    "        if gene in blacklists:\n",
    "            continue\n",
    "        xx, yy = f[gene][:].T\n",
    "        gene = gene.split(\"_\")[0]\n",
    "        \n",
    "        if gene == 'Tmem6':\n",
    "            gene = 'Tmem2'\n",
    "        elif gene == 'Kcnip':\n",
    "            gene = 'Kcnip2'\n",
    "\n",
    "        for x, y in zip(xx, yy):\n",
    "            data_list.append([gene, x * um_per_pixel, y * um_per_pixel])\n",
    "\n",
    "# Create a pandas DataFrame\n",
    "df = pd.DataFrame(data_list, columns=['gene', 'x', 'y']).set_index('gene')"
   ]
  },
  {
   "cell_type": "code",
   "execution_count": 4,
   "metadata": {},
   "outputs": [
    {
     "name": "stdout",
     "output_type": "stream",
     "text": [
      "Generating spatial mRNA count matrix...\n"
     ]
    },
    {
     "name": "stdout",
     "output_type": "stream",
     "text": [
      "Computing cell-by-gene matrix...\n"
     ]
    }
   ],
   "source": [
    "analysis.compute_cell_by_gene_matrix(df)"
   ]
  },
  {
   "cell_type": "code",
   "execution_count": null,
   "metadata": {},
   "outputs": [],
   "source": [
    "new_element = [0 for i in range(len(ds.genes))]\n",
    "cell_by_gene_matrix = np.insert(ds.cell_by_gene_matrix, 0, new_element, axis=0)"
   ]
  },
  {
   "cell_type": "code",
   "execution_count": 20,
   "metadata": {},
   "outputs": [],
   "source": [
    "cell_type = [0]\n",
    "for i in range(len(cell_by_gene_matrix)-1):\n",
    "    cell_type.append(int(np.unique(ds.watershed_celltype_maps[ds.watershed_segments == i]))+1)"
   ]
  },
  {
   "cell_type": "code",
   "execution_count": 26,
   "metadata": {},
   "outputs": [],
   "source": [
    "import numpy as np\n",
    "\n",
    "main_domain = [0]\n",
    "secondary_domain = [0]\n",
    "additional_domains = [0]\n",
    "\n",
    "unique_domains = [np.unique(ds.inferred_domains[ds.watershed_segments == i]) for i in range(len(cell_by_gene_matrix) - 1)]\n",
    "\n",
    "for k in unique_domains:\n",
    "    if len(k) == 1:\n",
    "        main_domain.append(k[0] + 1)\n",
    "        secondary_domain.append(k[0]+ 1)\n",
    "        additional_domains.append(0)\n",
    "    elif len(k) == 2:\n",
    "        main_domain.append(k[0] + 1)\n",
    "        secondary_domain.append(k[1] + 1)\n",
    "        additional_domains.append(0)\n",
    "    elif len(k) > 2:\n",
    "        main_domain.append(k[0] + 1)\n",
    "        secondary_domain.append(k[1] + 1)\n",
    "        additional_domains.append(list(k[2:] + 1))\n",
    "     "
   ]
  },
  {
   "cell_type": "code",
   "execution_count": 22,
   "metadata": {},
   "outputs": [
    {
     "name": "stderr",
     "output_type": "stream",
     "text": [
      "/home/ng4812/miniconda3/envs/ome/lib/python3.11/site-packages/spatialdata/models/models.py:725: FutureWarning: is_categorical_dtype is deprecated and will be removed in a future version. Use isinstance(dtype, CategoricalDtype) instead\n",
      "  if not is_categorical_dtype(adata.obs[region_key]):\n",
      "/tmp/ipykernel_2822893/439840326.py:12: UserWarning: Converting `region_key: region` to categorical dtype.\n",
      "  expression = sd.models.TableModel.parse(\n"
     ]
    }
   ],
   "source": [
    "import scanpy as sc\n",
    "import spatialdata as sd\n",
    "table = sc.AnnData(cell_by_gene_matrix)\n",
    "\n",
    "table.var_names = ds.genes\n",
    "table.obs[\"region\"] = [\"watershed_segments\" for i in range(len(cell_by_gene_matrix))]\n",
    "table.obs['cell_id'] = np.arange(len(cell_by_gene_matrix))+1\n",
    "table.obs['cell_type'] = np.array(cell_type)\n",
    "table.obs['main_domain'] = np.array(main_domain)\n",
    "table.obs['secondary_domain'] = np.array(secondary_domain)\n",
    "\n",
    "expression = sd.models.TableModel.parse(\n",
    "    adata=table,\n",
    "    region=\"watershed_segments\",\n",
    "    region_key='region',\n",
    "    instance_key=\"cell_id\",\n",
    ")"
   ]
  },
  {
   "cell_type": "code",
   "execution_count": 25,
   "metadata": {},
   "outputs": [
    {
     "name": "stdout",
     "output_type": "stream",
     "text": [
      "\u001b[34mINFO    \u001b[0m Transposing `data` of type: \u001b[1m<\u001b[0m\u001b[1;95mclass\u001b[0m\u001b[39m \u001b[0m\u001b[32m'dask.array.core.Array'\u001b[0m\u001b[1m>\u001b[0m to \u001b[1m(\u001b[0m\u001b[32m'c'\u001b[0m, \u001b[32m'y'\u001b[0m, \u001b[32m'x'\u001b[0m\u001b[1m)\u001b[0m.                           \n",
      "\u001b[34mINFO    \u001b[0m Transposing `data` of type: \u001b[1m<\u001b[0m\u001b[1;95mclass\u001b[0m\u001b[39m \u001b[0m\u001b[32m'dask.array.core.Array'\u001b[0m\u001b[1m>\u001b[0m to \u001b[1m(\u001b[0m\u001b[32m'c'\u001b[0m, \u001b[32m'y'\u001b[0m, \u001b[32m'x'\u001b[0m\u001b[1m)\u001b[0m.                           \n",
      "\u001b[34mINFO    \u001b[0m Transposing `data` of type: \u001b[1m<\u001b[0m\u001b[1;95mclass\u001b[0m\u001b[39m \u001b[0m\u001b[32m'dask.array.core.Array'\u001b[0m\u001b[1m>\u001b[0m to \u001b[1m(\u001b[0m\u001b[32m'y'\u001b[0m, \u001b[32m'x'\u001b[0m\u001b[1m)\u001b[0m.                                \n"
     ]
    },
    {
     "name": "stdout",
     "output_type": "stream",
     "text": [
      "\u001b[34mINFO    \u001b[0m Transposing `data` of type: \u001b[1m<\u001b[0m\u001b[1;95mclass\u001b[0m\u001b[39m \u001b[0m\u001b[32m'dask.array.core.Array'\u001b[0m\u001b[1m>\u001b[0m to \u001b[1m(\u001b[0m\u001b[32m'y'\u001b[0m, \u001b[32m'x'\u001b[0m\u001b[1m)\u001b[0m.                                \n",
      "\u001b[34mINFO    \u001b[0m Transposing `data` of type: \u001b[1m<\u001b[0m\u001b[1;95mclass\u001b[0m\u001b[39m \u001b[0m\u001b[32m'dask.array.core.Array'\u001b[0m\u001b[1m>\u001b[0m to \u001b[1m(\u001b[0m\u001b[32m'y'\u001b[0m, \u001b[32m'x'\u001b[0m\u001b[1m)\u001b[0m.                                \n",
      "\u001b[34mINFO    \u001b[0m Transposing `data` of type: \u001b[1m<\u001b[0m\u001b[1;95mclass\u001b[0m\u001b[39m \u001b[0m\u001b[32m'dask.array.core.Array'\u001b[0m\u001b[1m>\u001b[0m to \u001b[1m(\u001b[0m\u001b[32m'c'\u001b[0m, \u001b[32m'y'\u001b[0m, \u001b[32m'x'\u001b[0m\u001b[1m)\u001b[0m.                           \n",
      "\u001b[34mINFO    \u001b[0m Transposing `data` of type: \u001b[1m<\u001b[0m\u001b[1;95mclass\u001b[0m\u001b[39m \u001b[0m\u001b[32m'dask.array.core.Array'\u001b[0m\u001b[1m>\u001b[0m to \u001b[1m(\u001b[0m\u001b[32m'c'\u001b[0m, \u001b[32m'y'\u001b[0m, \u001b[32m'x'\u001b[0m\u001b[1m)\u001b[0m.                           \n"
     ]
    },
    {
     "name": "stderr",
     "output_type": "stream",
     "text": [
      "no parent found for <ome_zarr.reader.Label object at 0x7f202b011390>: None\n",
      "no parent found for <ome_zarr.reader.Label object at 0x7f2024195850>: None\n",
      "/home/ng4812/miniconda3/envs/ome/lib/python3.11/site-packages/spatialdata/_io/format.py:169: FutureWarning: is_categorical_dtype is deprecated and will be removed in a future version. Use isinstance(dtype, CategoricalDtype) instead\n",
      "  if region_key is not None and not is_categorical_dtype(table.obs[region_key]):\n"
     ]
    }
   ],
   "source": [
    "import spatialdata as sd\n",
    "import numpy as np\n",
    "import scanpy as sc\n",
    "from spatialdata.transformations import Identity\n",
    "\n",
    "#transformations={Identity()}\n",
    "#watershed_segments = sd.models.Labels2DModel.parse(ds.watershed_segments+1, dims=('y', 'x'))\n",
    "#ValueError: zero-size array to reduction operation fmax which has no identity\n",
    "\n",
    "celltype_maps = sd.models.Image2DModel.parse(ds.celltype_maps[::-1], dims=('x', 'y', 'c'))\n",
    "filtered_celltype_maps = sd.models.Image2DModel.parse(ds.filtered_celltype_maps[::-1], dims=('x', 'y', 'c'))\n",
    "watershed_segments = sd.models.Labels2DModel.parse(ds.watershed_segments[::-1]+1, dims=('x', 'y'))\n",
    "inferred_domains = sd.models.Labels2DModel.parse(np.squeeze(ds.inferred_domains[::-1]+1), dims=('x', 'y'))\n",
    "inferred_domains_cells = sd.models.Labels2DModel.parse(np.squeeze(ds.inferred_domains_cells[::-1]+1), dims=('x', 'y'))\n",
    "inferred_domains_cell = sd.models.Image2DModel.parse(ds.inferred_domains_cells[::-1], dims=('x', 'y', 'c'))\n",
    "inferred_domain = sd.models.Image2DModel.parse(ds.inferred_domains[::-1], dims=('x', 'y','c'))\n",
    "#'watershed_celltype_maps': watershed_celltype_maps, 'inferred_domains': inferred_domains,'inferred_domains_cells':inferred_domains_cells\n",
    "\n",
    "sdata = sd.SpatialData(images = {'celltype_maps': celltype_maps, 'filtered_celltype_maps': filtered_celltype_maps},labels={'watershed_segments': watershed_segments,'inferred_domains': inferred_domains},table=expression)\n",
    "sdata.write('data.zarr')"
   ]
  },
  {
   "cell_type": "code",
   "execution_count": null,
   "metadata": {},
   "outputs": [],
   "source": []
  }
 ],
 "metadata": {
  "kernelspec": {
   "display_name": "ome",
   "language": "python",
   "name": "python3"
  },
  "language_info": {
   "codemirror_mode": {
    "name": "ipython",
    "version": 3
   },
   "file_extension": ".py",
   "mimetype": "text/x-python",
   "name": "python",
   "nbconvert_exporter": "python",
   "pygments_lexer": "ipython3",
   "version": "3.9.16"
  }
 },
 "nbformat": 4,
 "nbformat_minor": 2
}
